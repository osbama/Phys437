{
 "cells": [
  {
   "cell_type": "markdown",
   "metadata": {
    "collapsed": true,
    "pycharm": {
     "name": "#%% md\n"
    }
   },
   "source": [
    "# Ch2\n",
    "\n",
    "## No cloning theorem\n",
    "\n",
    "One of the most natural operations we perform daily on classical computers is the act of copying or _cloning_ classical bits. For example, you might make a copy of a file containing your -typed homework to keep as a backup. On the negative side, a criminal might copy a classical object like a banknote (though it is not easy) to use as forged money. However, in quantum it turns out that copying quantum bits is impossible — given an arbitrary, unknown quantum state $ \\left|\\psi\\right\\rangle  \\in  \\mathbb{C} ^2$ , there is no quantum circuit which creates a perfect copy of  $\\left|\\psi\\right\\rangle$ ! How can we formalize such a statement?\n",
    "\n",
    "\n",
    "We use proof by contradiction. Suppose there exists a unitary $U\\in \\mathcal L\\left(\\mathbb C^2 \\otimes \\mathbb C^2 \\right)$ which, for any $ \\left|\\psi\\right\\rangle $, maps $ \\left|\\psi\\right\\rangle  \\otimes  \\left|0\\right\\rangle $ to $ \\left|\\psi\\right\\rangle  \\otimes  \\left|\\psi\\right\\rangle $, i.e. creates a copy of $ \\left|\\psi\\right\\rangle $. To obtain the desired contradiction, we begin by applying $U$ to two arbitrary states $ \\left|\\psi_1\\right\\rangle , \\left|\\psi_2\\right\\rangle  \\in  \\mathbb{C} ^2$ , obtaining\n",
    "\n",
    "$$\n",
    " \\left|\\phi\\right\\rangle =U \\left( \\left|\\psi_1\\right\\rangle  \\otimes  \\left|0\\right\\rangle \\right)= \\left|\\psi_1\\right\\rangle  \\otimes  \\left|\\psi_1\\right\\rangle\n",
    "$$\n",
    "\n",
    "and\n",
    "\n",
    "$$\n",
    " \\left|\\phi^\\prime \\right\\rangle =U \\left( \\left|\\psi_2\\right\\rangle  \\otimes  \\left|0\\right\\rangle \\right)= \\left|\\psi_2\\right\\rangle  \\otimes  \\left|\\psi_2\\right\\rangle\n",
    "$$\n",
    "\n",
    "What happens if we now take the inner product $ \\left\\langle \\phi \\middle| \\phi^\\prime  \\right\\rangle $? The middle terms of these equations yield\n",
    "\n",
    "$$\n",
    " \\left( \\left\\langle \\psi_1 \\right|  \\otimes  \\left\\langle 0 \\right| \\right)U^\\dagger U \\left( \\left|\\psi_2\\right\\rangle  \\otimes  \\left|0\\right\\rangle \\right) = \\left( \\left\\langle \\psi_1 \\right|  \\otimes  \\left\\langle 0 \\right| \\right) \\left( \\left|\\psi_2\\right\\rangle  \\otimes  \\left|0\\right\\rangle \\right)  =  \\left\\langle \\psi_1 \\middle| \\psi_2 \\right\\rangle \\left\\langle 0 \\middle| 0 \\right\\rangle = \\left\\langle \\psi_1 \\middle| \\psi_2 \\right\\rangle\n",
    "$$\n",
    "\n",
    "On the other hand, the right sides of the equations yield\n",
    "\n",
    "$$\n",
    " \\left( \\left\\langle \\psi_1 \\right|  \\otimes  \\left\\langle \\psi_1 \\right| \\right) \\left( \\left|\\psi_2\\right\\rangle  \\otimes  \\left|\\psi_2\\right\\rangle \\right)= \\left\\langle \\psi_1 \\middle| \\psi_2 \\right\\rangle  \\left\\langle \\psi_1 \\middle| \\psi_2 \\right\\rangle =  \\left( \\left\\langle \\psi_1 \\middle| \\psi_2 \\right\\rangle \\right)^2\n",
    "$$\n",
    "\n",
    "Combining these two, we have that $ \\left\\langle \\psi_1 \\middle| \\psi_2 \\right\\rangle =  \\left( \\left\\langle \\psi_1 \\middle| \\psi_2 \\right\\rangle \\right)^2 $ for some complex number $ \\left\\langle \\psi_1 \\middle| \\psi_2 \\right\\rangle  \\in  \\mathbb{C} $. This is equivalent to saying $c = c^2$ for $c \\in  \\mathbb{C} $, which has only two solutions — either $c = 1$ or $c = 0$. In other words, unless  $\\left|\\psi_1\\right\\rangle$  i and $ \\left|\\psi_2\\right\\rangle $ are the same vector (in which case $ \\left\\langle \\psi_1 \\middle| \\psi_2 \\right\\rangle  = 1$) or are orthogonal (i.e. $ \\left\\langle \\psi_1 \\middle| \\psi_2 \\right\\rangle  = 0$), we have a contradiction. Thus, there does not exist a $U$ which can perform the mapping $ \\left|\\psi\\right\\rangle  \\otimes  \\left|0\\right\\rangle  \\mapsto  \\left|\\psi\\right\\rangle  \\otimes  \\left|\\psi\\right\\rangle $ for arbitrary $ \\left|\\psi\\right\\rangle $."
   ]
  },
  {
   "cell_type": "markdown",
   "metadata": {
    "pycharm": {
     "name": "#%% md\n"
    }
   },
   "source": [
    "## Quantum entanglement\n",
    "\n",
    "We have already seen the concept of quantum entanglement, and in particular used Bell states such as $ \\left|\\Phi^+\\right\\rangle =  \\frac{1}{\\sqrt{2}}  \\left(\\left|00\\right\\rangle+\\left|11\\right\\rangle\\right)$ as a _resource_ for performing interesting tasks such as quantum teleportation. But what exactly _is_ entanglement, and how can we recognize whether a given state $ \\left|\\psi\\right\\rangle $ is entangled?\n",
    "\n",
    "**History**. The term “entanglement” was coined in 1935 by physicist Erwin Schrödinger, who used the term “Vershränkung”, which in colloquial “non-physicist” German means “folding of the arms”. As discussed in a previous lecture, the question of whether entanglement truly exists has been a subject of intense debate. The famous Einstein-Podolsky-Rosen paper of 1935, in particular, argued that quantum mechanics could not be a complete physical theory due to its prediction of entangled states such as |Φ+ i. In 1964, however, physicist John Bell proposed what is now known as a “Bell inequality” or “Bell test”; this test could in principle be run in a lab to confirm whether Nature indeed allows the strong type of correlations between qubits which entanglement would allow. Recently, such tests have been studied under the guise of “non-local games”, which is a topic we shall soon visit. Moreover, it is important to note that we nowadays know that any quantum computation (on pure quantum states) cannot achieve an exponential speedup over classical computers unless the amount of quantum entanglement in the system is “large”. Thus, entanglement is generally regarded as an important resource.\n",
    "\n",
    "\n",
    "### Bipartite entanglement\n",
    "In this lecture, we study the notion of bipartite entanglement, meaning entanglement between a pair of quantum systems. Let $ \\left|\\psi\\right\\rangle  \\in  \\mathbb{C}^{d_1} \\otimes \\mathbb{C}^{d_2}$ be an arbitrary bipartite state. How can we tell if $ \\left|\\psi\\right\\rangle $ is entangled? Strictly speaking, earlier we defined $ \\left|\\psi\\right\\rangle $ as _entangled_ if it cannot be written as the tensor product of two states $ \\left|\\psi_1\\right\\rangle \\in  \\mathbb{C} ^{d_1} $ and $ \\left|\\psi_2\\right\\rangle \\in  \\mathbb{C} ^{d_2} $ , i.e.\n",
    "\n",
    "$$\n",
    "\\forall \\left|\\psi_1\\right\\rangle \\in  \\mathbb{C} ^{d_1},\\left|\\psi_2\\right\\rangle \\in  \\mathbb{C} ^{d_2}\n",
    "$$\n",
    "we have\n",
    "$$\n",
    " \\left|\\psi_1\\right\\rangle  \\otimes  \\left|\\psi_2\\right\\rangle \\neq  \\left|\\psi\\right\\rangle\n",
    "$$\n",
    "\n",
    "For example, let us confirm that $ \\left|\\Phi^+\\right\\rangle = \\frac{1}{\\sqrt{2}}  \\left( \\left|00\\right\\rangle + \\left|11\\right\\rangle \\right) $ is entangled. Again, we give a proof\n",
    "by contradiction. Suppose there exist $ \\left|\\psi_1\\right\\rangle \\in  \\mathbb{C}^2 $ , $ \\left|\\psi_2\\right\\rangle  \\in  \\mathbb{C} ^2$ such that $ \\left|\\psi_1\\right\\rangle  \\otimes  \\left|\\psi_2\\right\\rangle = \\left|\\Phi^+\\right\\rangle $. If we write $ \\left|\\psi_1\\right\\rangle = \\alpha_1  \\left|0\\right\\rangle + \\beta_1  \\left|1\\right\\rangle $ and $ \\left|\\psi_2\\right\\rangle = \\alpha_2  \\left|0\\right\\rangle + \\beta_2  \\left|1\\right\\rangle $, we have\n",
    "\n",
    "$$\n",
    " \\left|\\psi_1\\right\\rangle  \\otimes  \\left|\\psi_2\\right\\rangle= \\left(\\alpha_1  \\left|0\\right\\rangle + \\beta_1  \\left|1\\right\\rangle\\right) \\otimes  \\left(\\alpha_2  \\left|0\\right\\rangle + \\beta_2  \\left|1\\right\\rangle\\right)= \\alpha_1  \\alpha_2  \\left|00\\right\\rangle +  \\alpha_1  \\beta_2  \\left|01\\right\\rangle +  \\beta_1  \\alpha_2  \\left|10\\right\\rangle+ \\beta_1  \\beta_2  \\left|11\\right\\rangle\n",
    "$$\n",
    "\n",
    "Since this supposed to equal $ \\left|\\Phi^+\\right\\rangle = \\frac{1}{\\sqrt{2}}  \\left( \\left|00\\right\\rangle + \\left|11\\right\\rangle \\right) $, we must have $ \\alpha_1  \\beta_2 =  \\beta_1  \\alpha_2  =0$ (since the standard basis vectors $ \\left|00\\right\\rangle ,  \\left|01\\right\\rangle , \\left|10\\right\\rangle ,  \\left|11\\right\\rangle $ are orthogonal). Suppose, without loss of generality, that $ \\beta_2 =0$, so that $= \\alpha_1  \\beta_2 = 0$. Then, we must also have $ \\beta_1=0$ so that $ \\beta_1  \\alpha_2 =0$ (the other option is to set $ \\alpha_2= 0$, but this would yield $ \\alpha_2 = \\beta_2  = 0$, i.e. $ \\left|\\psi_2\\right\\rangle $ is not a unit vector). But if $ \\beta_1 = \\beta_2  = 0$, then $ \\left|\\psi_1\\right\\rangle= \\left|0\\right\\rangle  $ and $ \\left|\\psi_2\\right\\rangle = \\left|0\\right\\rangle $, so that $ \\left|\\psi_1\\right\\rangle  \\otimes  \\left|\\psi_2\\right\\rangle = \\left|00\\right\\rangle \\neq \\left|\\Phi^+\\right\\rangle $! Thus, we have a contradiction, and so $ \\left|\\Phi^+\\right\\rangle $ is entangled\n",
    "\n",
    "### The Schmidt decomposition.\n",
    "\n",
    "Rather than go through such proofs each time we wish to check if $ \\left|\\psi\\right\\rangle $ is entangled, there is a more elegant tool we can use known as the _Schmidt decomposition_. To keep our discussion simple, we shall restrict our attention to the setting of two qubits; the ideas here extend straightforwardly to arbitrary local dimensions $d_1$ and $d_2$ . The Schmidt decomposition states that any vector $ \\left|\\psi\\right\\rangle  \\in  \\mathbb{C}^2 \\otimes  \\mathbb{C}^2$ can be written in the following special form:\n",
    "\n",
    "$$\n",
    " \\left|\\psi\\right\\rangle = \\alpha_0 \\left|a_0\\right\\rangle \\left|b_0\\right\\rangle+ \\alpha_1\\left|a_1\\right\\rangle \\left|b_1\\right\\rangle\n",
    "$$\n",
    "\n",
    "where the $ \\alpha_i$ are real and satisfy $ \\alpha_i\\geq 0$, and where $ \\left\\{ \\left|a_i\\right\\rangle \\right\\}^2_{i=1} $ and $ \\left\\{ \\left|b_i\\right\\rangle \\right\\}^2_{i=1} $ are orthonormal bases for $ \\mathbb{C}^2$ . The number of non-zero $ \\alpha_i$ is called the _Schmidt rank_ of $ \\left|\\psi\\right\\rangle $.\n",
    "\n",
    "Observe now that if $ \\left|\\psi\\right\\rangle $ has Schmidt rank 1, then clearly it is not entangled, as its Schmidt decomposition is in tensor product form. And this is no coincidence — it turns out that an arbitrary state $ \\left|\\psi\\right\\rangle $ is entangled if and only if its Schmidt rank is strictly greater than 1.\n",
    "\n",
    "Let us close by pointing out a subtle fact about Schmidt decompositions. Note that any vector $ \\left|\\psi\\right\\rangle  \\in  \\mathbb{C}^2 \\otimes  \\mathbb{C}^2$ can be written as\n",
    "\n",
    "$$\n",
    " \\left|\\psi\\right\\rangle = \\alpha_{00} \\left|00\\right\\rangle  +\\alpha_{01} \\left|01\\right\\rangle+\\alpha_{10} \\left|10\\right\\rangle  +\\alpha_{11} \\left|11\\right\\rangle\n",
    "$$\n",
    "This decomposition requires four terms (i.e. one per standard basis vector for $ \\mathbb{C}^4$ ). Part of the power of the Schmidt decomposition is that it manages to write this same state using just two terms."
   ]
  },
  {
   "cell_type": "markdown",
   "metadata": {
    "pycharm": {
     "name": "#%% md\n"
    }
   },
   "source": [
    "## Density Matrices\n",
    "\n",
    "We have delved further into the structure of entanglement and learned that a bipartite state $ \\left|\\psi\\right\\rangle $ is entangled if and only if its Schmidt rank is at least 2. However, let’s take a step back and return to our statement that $ \\left|\\psi\\right\\rangle $ is entangled if it cannot be written as $ \\left|\\psi_1\\right\\rangle  \\otimes  \\left|\\psi_2\\right\\rangle $ for some $ \\left|\\psi_1\\right\\rangle  \\in  \\mathbb{C}^{d_1}$ and $ \\left|\\psi_2\\right\\rangle  \\in  \\mathbb{C}^{d_2}$ . Intuitively, states of the form $ \\left|\\psi_1\\right\\rangle  \\otimes  \\left|\\psi_2\\right\\rangle $, called _tensor product states_, are nice because one can immediately read off the state of each qubit — qubit one is in state $ \\left|\\psi_1\\right\\rangle $ , and qubit two in $ \\left|\\psi_2\\right\\rangle $ i. Since entangled states cannot be written in tensor product form, however, this raises the question: How can we describe the state of qubit one in, say, the Bell pair $ \\left|\\Phi^+\\right\\rangle =  \\frac{1}{\\sqrt{2}}  \\left(  \\left|00\\right\\rangle + \\left|11\\right\\rangle  \\right) $? The answer lies in a more general formalism for describing quantum states, known as the _density matrix formalism._\n",
    "\n",
    "Thus far, we have said that an arbitrary $d$-dimensional quantum state is described by a unit vector $ \\left|\\psi\\right\\rangle $ in $ \\mathbb{C}^d$ . Such states are called _pure_ because we know exactly which state $ \\left|\\psi\\right\\rangle $ we have. Now, suppose we play a game in which with probability 1/2, I give you state $ \\left|\\psi_1\\right\\rangle $, and with probability 1/2, I give you state $ \\left|\\psi_2\\right\\rangle $, and I don’t tell you which state I’ve given you. How can you describe the quantum state in your possession, given that you don’t know whether you actually have $ \\left|\\psi_1\\right\\rangle $ or $ \\left|\\psi_2\\right\\rangle $? This is done via the _density operator_\n",
    "\n",
    "$$\n",
    "  \\rho  = \\frac{1}{2}  \\left| \\psi_1 \\right\\rangle\\!\\left\\langle \\psi_1 \\right| + \\frac{1}{2}  \\left| \\psi_2 \\right\\rangle\\!\\left\\langle \\psi_2 \\right|\n",
    "$$\n",
    "\n",
    "More generally, if we play this game with m possible states  $\\left|\\psi_i\\right\\rangle $, each given with probability $p_i$ (i.e. $ \\sum_{i} p_i =1 $ and $p_i\\geq0$), then the density operator describing your system is\n",
    "\n",
    "$$\n",
    "  \\rho  = \\sum_{i=1}^{m} p_i \\left| \\psi_i \\right\\rangle\\!\\left\\langle \\psi_i \\right|\n",
    "$$\n",
    "\n",
    "Such a state is called mixed because you don’t know with certainty which $ \\left|\\psi_i\\right\\rangle $ you have in your possession. Let us make two important observations here.\n",
    "\n",
    "Mixtures vs. superpositions\n",
    ": A mixture of states $ \\sum_{i=1}P_i \\left| \\psi_i \\right\\rangle\\!\\left\\langle \\psi_i \\right| $ is entirely different than a superposition of states $ \\sum_{i=1} \\alpha_i  \\left|\\psi_i\\right\\rangle $. For starters, the former is a sum of matrices, whereas the latter is a sum of vectors. More importantly, the former models a state of ignorance about which $ \\left|\\psi_i\\right\\rangle $ we actually have in our possession — we know our system is in _precisely one_ such $ \\left|\\psi_i\\right\\rangle $, but which one is unknown. In stark contrast, in a superposition, our system is in all of the states $ \\left|\\psi_i\\right\\rangle $ simultaneously.\n",
    "\n",
    "Let us stress the above point above with a concrete example. The density matrix $ \\rho = \\frac{1}{2}  \\left| 0 \\right\\rangle\\!\\left\\langle 0 \\right| + \\frac{1}{2}  \\left| 1 \\right\\rangle\\!\\left\\langle 1 \\right| $ is:\n",
    "\n",
    "$$\n",
    " \\rho =  \\frac{1}{2}  \\left| 0 \\right\\rangle\\!\\left\\langle 0 \\right| + \\frac{1}{2}  \\left| 1 \\right\\rangle\\!\\left\\langle 1 \\right| = \\frac{1}{2}  \\begin{pmatrix} 1 & 0 \\\\  0 & 0  \\end{pmatrix}+\\frac{1}{2}  \\begin{pmatrix} 0 & 0 \\\\  0 & 1  \\end{pmatrix}=  \\begin{pmatrix} \\frac{1}{2} & 0 \\\\  0 & \\frac{1}{2}  \\end{pmatrix}=\\frac{I}{2}\n",
    "$$\n",
    "\n",
    "In contrast, the state vector $  \\left|\\psi\\right\\rangle  = \\frac{1}{\\sqrt{2}}  \\left|0\\right\\rangle + \\frac{1}{\\sqrt{2}}  \\left|1\\right\\rangle $ is given by\n",
    "\n",
    "$$\n",
    " \\left|\\psi\\right\\rangle = \\frac{1}{\\sqrt{2}}  \\left|0\\right\\rangle + \\frac{1}{\\sqrt{2}}  \\left|1\\right\\rangle =  \\frac{1}{\\sqrt{2}}  \\begin{pmatrix} 1 \\\\ 0 \\end{pmatrix} + \\frac{1}{\\sqrt{2}}  \\begin{pmatrix} 0 \\\\ 1 \\end{pmatrix} = \\frac{1}{\\sqrt{2}}  \\begin{pmatrix} 1 \\\\ 1 \\end{pmatrix}\n",
    "$$\n",
    "\n",
    "Note that the former is a matrix, while the latter is a vector, i.e. these are completely different objects!\n",
    "\n",
    "Pure states.\n",
    ": If there is only one state $ \\left|\\psi_i\\right\\rangle $ in the mixture, i.e. $p_i = 1$ for some $i$, then the mixture simply reads $  \\rho   = \\left| \\psi_i \\right\\rangle\\!\\left\\langle \\psi_i \\right| $. This state is called pure and has rank 1. Conversely, for any pure state $ \\left|\\psi\\right\\rangle $, its density matrix is the rank 1 operator $  \\rho  = \\left| \\psi \\right\\rangle\\!\\left\\langle \\psi \\right| $.\n",
    "\n",
    "As for the property of being positive semidefinite, we use the following fact: For any two positive semi-definite matrices $A$ and $B$ and real numbers $p,q \\geq 0$, it holds that $pA + qB$ is also positive semi-definite. In particular, since both $ \\left| \\psi_1 \\right\\rangle\\!\\left\\langle \\psi_1 \\right| $ and $ \\left| \\psi_2 \\right\\rangle\\!\\left\\langle \\psi_2 \\right| $ are positive semi-definite, we have that $ \\rho $ is also positive semi-definite. Thus, $ \\rho $ is a valid density operator.\n",
    "\n",
    "In fact, the requirements that $ \\text{Tr}\\left( \\rho \\right) $ and $ \\rho $ be positive semidefinite allow us to recover exactly the interpretation of mixed states which this section started with — taking the spectral decomposition of $ \\rho $, we have\n",
    "\n",
    "$$\n",
    " \\rho = \\sum_{i=1}   \\lambda_i   \\left| \\lambda_i \\right\\rangle\\!\\left\\langle \\lambda_i \\right|\n",
    "$$\n",
    "\n",
    "Since $ \\rho $ is positive semidefinite, we know $  \\lambda_i \\geq 0 $ for all $i$. Moreover, recalling that $  \\text{Tr}\\left( \\rho \\right) =1 $, it holds that $ \\sum_{i=1}  \\lambda_i =1 $. Thus, $ \\left\\{  \\lambda_i \\right\\}_i $ forms a probability distribution. This means that we can interpret $ \\rho $ as follows: With probability $  \\lambda_i $ , prepare state $ \\left|\\lambda_i\\right\\rangle $. This is precisely the idea we started this section with! We thus have a good picture of how one can describe probabilistic mixtures over pure quantum states."
   ]
  },
  {
   "cell_type": "markdown",
   "metadata": {
    "pycharm": {
     "name": "#%% md\n"
    }
   },
   "source": [
    "The maximally mixed state.\n",
    ": Finally, let us consider a very special density matrix in $ \\mathcal{L}  \\left( \\mathbb{C}^d\\right) $, the _maximally mixed_ state $ \\rho=I/d$ (where $I$ denotes the identity matrix). Note that $ \\rho $ is positive semidefinite since $I$ is positive semidefinite (in fact, $I$ has eigenvalues all equal to 1), and $ \\text{Tr}\\left(I/d\\right)  = \\frac{1}{d} \\text{Tr}\\left(I\\right)=1   $. Thus, $ \\rho $ is a valid density operator. But what exactly does $I/d$ represent? Here, we use the fact that for any orthonormal basis $  \\left\\{ \\left|\\psi_i\\right\\rangle \\right\\}_{i=1}^d  $ for $ \\mathbb{C}^d $, we have:\n",
    "\n",
    "$$\n",
    " \\sum_{i=1}^{d} \\left| \\psi_i \\right\\rangle\\!\\left\\langle \\psi_i \\right| =I\n",
    "$$\n",
    "\n",
    "In other words, for any orthonormal basis $  \\left\\{ \\left|\\psi_i\\right\\rangle \\right\\}_{i=1}^d  $ , $\\rho$ represents the following state: Pick state $ \\left|\\psi_i\\right\\rangle $ with probability $1/d$, and prepare $ \\left|\\psi_i\\right\\rangle $. Since this holds for any basis, we conclude that $ \\rho $ gives us absolutely no information about which state $ \\left|\\psi\\right\\rangle $ we actually have — every state is an eigenvector of $ \\rho $, and the eigenvalues of $ \\rho $ form a uniform distribution. Thus, the maximally mixed state represents the case where we know nothing about the state of our system! This will be crucial when we discuss entanglement again below."
   ]
  },
  {
   "cell_type": "markdown",
   "metadata": {
    "pycharm": {
     "name": "#%% md\n"
    }
   },
   "source": [
    "### The partial trace operation\n",
    "\n",
    "Our motivation in introducing density matrices stemmed from the fact that we did not know how to describe the state of qubit 1 in the Bell pair $ \\left|\\Phi^+\\right\\rangle =  \\frac{1}{\\sqrt{2}}  \\left(  \\left|00\\right\\rangle + \\left|11\\right\\rangle\\right) $. We claimed that the answer lies in the framework of density matrices, but we have not yet prescribed how one can use density matrices to describe the state of qubit 1 of $ \\left|\\Phi^+\\right\\rangle $. We now do this via the _partial trace_ operation.\n",
    "Intuitively, given a bipartite density matrix $ \\rho_{AB} $ on systems $A$ and $B$, the partial trace operation $ \\text{Tr}_B\\left( \\rho_{AB}\\right) $ returns a density matrix on system $A$ alone (analogously, $ \\text{Tr}_A\\left( \\rho_{AB}\\right) $ returns a density matrix on $B$ alone). Formally, we have that\n",
    "\n",
    "$$\n",
    " \\text{Tr}_B: \\mathcal{L} \\left( \\mathbb{C}^{d_1} \\otimes \\mathbb{C}^{d_2}\\right) \\mapsto  \\mathcal{L}  \\left( \\mathbb{C}^d\\right)\n",
    "$$\n",
    "\n",
    "How exactly is $ \\text{Tr}_B$ defined? Recall that the trace of a matrix $  \\rho   \\in \\mathcal{L} \\left(\\mathbb{C}^d\\right) $ is defined as\n",
    "\n",
    "$$\n",
    " \\text{Tr}\\left( \\rho \\right)= \\sum_{i=1} \\rho  \\left(i,i\\right)= \\sum_{i=1}^{d} \\left\\langle i \\right|  \\rho  \\left|i\\right\\rangle\n",
    "$$\n",
    "\n",
    "For the partial trace, we copy this idea, except we only apply it to one subsystem as follows: For $ \\rho  \\in  \\mathcal{L}  \\left( \\mathbb{C}^{d_1} \\otimes \\mathbb{C}^{d_2}\\right) $,\n",
    "\n",
    "$$\n",
    " \\text{Tr}_B\\left( \\rho \\right)= \\sum_{i=1}^{d_2} \\left(I_A \\otimes  \\left\\langle i \\right| \\right) \\rho  \\left(I_A \\otimes  \\left|i\\right\\rangle \\right)\n",
    "$$\n",
    "\n",
    "In other words, we leave system $A$ untouched (hence the $I_A$ terms above), and “trace out” system $B$. Note that like the trace, the partial trace is a linear map. Let us practice this operation on a number of states, and in the process draw our desired connection to the Bell state which we started this lecture with.\n",
    "\n",
    "_Example 1_: _Product states_. Suppose first that $ \\rho $ is the density matrix of a pure product state $ \\left|\\psi\\right\\rangle =  \\left|\\psi_1\\right\\rangle  \\otimes  \\left|\\psi_2\\right\\rangle $ In other words,\n",
    "\n",
    "$$\n",
    "  \\rho = \\left(\\left|\\psi_1\\right\\rangle  \\otimes  \\left|\\psi_2\\right\\rangle\\right)  \\left( \\left\\langle \\psi_1 \\right|  \\otimes  \\left\\langle \\psi_2 \\right| \\right)= \\left| \\psi_1 \\right\\rangle\\!\\left\\langle \\psi_1 \\right|_A \\otimes  \\left| \\psi_2 \\right\\rangle\\!\\left\\langle \\psi_2 \\right|_B\n",
    "$$\n",
    "\n",
    "Recall that earlier we said the state of $ \\left|\\psi\\right\\rangle $ on qubit 1 is exactly $ \\left|\\psi_1\\right\\rangle $ . Let us confirm this by applying the partial trace to $ \\rho $ to trace out subsystem $B$:\n",
    "\n",
    "$$\n",
    "\\begin{align*}\n",
    " \\text{Tr}_B\\left( \\rho \\right) &= \\text{Tr}_B\\left( \\left| \\psi_1 \\right\\rangle\\!\\left\\langle \\psi_1 \\right| \\otimes  \\left| \\psi_2 \\right\\rangle\\!\\left\\langle \\psi_2 \\right| \\right) \\\\\n",
    " &= \\sum_{i=1}^{d} \\left(I \\otimes  \\left\\langle i \\right| \\right) \\left| \\psi_1 \\right\\rangle\\!\\left\\langle \\psi_1 \\right|  \\otimes  \\left| \\psi_2 \\right\\rangle\\!\\left\\langle \\psi_2 \\right|  \\left(I \\otimes  \\left|i\\right\\rangle \\right) \\\\\n",
    " &= \\sum_{i=1}^{d} \\left| \\psi_1 \\right\\rangle\\!\\left\\langle \\psi_1 \\right|  \\otimes    \\left\\langle i \\middle| \\psi_2 \\right\\rangle  \\left\\langle \\psi_2 \\middle| i \\right\\rangle\\\\\n",
    " &=  \\left| \\psi_1 \\right\\rangle\\!\\left\\langle \\psi_1 \\right|  \\text{Tr}\\left( \\left| \\psi_2 \\right\\rangle\\!\\left\\langle \\psi_2 \\right| \\right)\\\\\n",
    " &=  \\left| \\psi_1 \\right\\rangle\\!\\left\\langle \\psi_1 \\right|\n",
    "\\end{align*}\n",
    "$$\n",
    "\n",
    "where the second equality applies the definition of the partial trace, the second-last equality uses the definition of the trace, and the last equality uses the cyclic property of the trace. In other words, the state of qubit 1 is $ \\left|\\psi_1\\right\\rangle $, as claimed! Note that the calculation above did not use the fact that $\\left|\\psi\\right\\rangle =  \\left|\\psi_1\\right\\rangle  \\otimes  \\left|\\psi_2\\right\\rangle $ is pure — indeed, the same calculation yields that for any operator $ \\rho  =  \\rho_1  \\otimes  \\rho_2$ ,\n",
    "\n",
    "$$\n",
    " \\text{Tr}_B\\left( \\rho \\right)= \\rho_1. \\text{Tr}\\left( \\rho_2\\right)  .\n",
    "$$\n",
    "\n",
    "_Example 2: Separable states_. We have said that a pure state $ \\left|\\psi\\right\\rangle  \\in  \\mathbb{C}^{d_1} \\otimes \\mathbb{C}^{d_1} $ is not entangled, or _separable_, if and only if  $ \\left|\\psi\\right\\rangle =  \\left|\\psi_1\\right\\rangle  \\otimes  \\left|\\psi_2\\right\\rangle $ for some $ \\left|\\psi_1\\right\\rangle  \\in  \\mathbb{C}^{d_1} $ and $ \\left|\\psi_2\\right\\rangle  \\in  \\mathbb{C}^{d_2} $. This idea extends to the setting of mixed states as follows: A bipartite density matrix $ \\rho  \\in  \\mathcal{L}  \\left(\\mathbb{C}^{d_1} \\otimes \\mathbb{C}^{d_2}\\right) $ is unentangled or _separable_ if\n",
    "\n",
    "$$\n",
    " \\rho = \\sum_{i=1}p_i \\left| \\psi_i \\right\\rangle\\!\\left\\langle \\psi_i \\right|  \\otimes  \\left| \\phi_i \\right\\rangle\\!\\left\\langle \\phi_i \\right|\n",
    "$$\n",
    "\n",
    "for some (possibly non-orthogonal) sets of vectors $ \\left\\{ \\left|\\psi_i\\right\\rangle \\right \\}\\subseteq  \\mathbb{C}^{d_1} $ and , and where the $ \\left\\{p_i\\right\\} $ form a probability distribution. In other words, $ \\rho $ is a probabilistic mixture of pure product states. An example of a separable state is\n",
    "\n",
    "$$\n",
    " \\rho = \\frac{1}{2}  \\left| 0 \\right\\rangle\\!\\left\\langle 0 \\right|  \\otimes  \\left| 0 \\right\\rangle\\!\\left\\langle 0 \\right| + \\frac{1}{2}  \\left| 1 \\right\\rangle\\!\\left\\langle 1 \\right|  \\otimes  \\left| 1 \\right\\rangle\\!\\left\\langle 1 \\right|\n",
    "$$\n",
    "\n",
    "Since the partial trace is a linear map, and since we know that $\\text{Tr}_B\\left( \\rho_1 \\otimes  \\rho_2\\right)= \\rho_1. \\text{Tr}\\left( \\rho_2\\right)= \\rho_1$ for density matrices $ \\rho_1$ , $ \\rho_2$ , computing the partial trace of $ \\rho $ for separable states is simple:\n",
    "\n",
    "$$\n",
    "\\begin{align*}\n",
    " \\text{Tr}_B\\left(\\sum_{i=1}p_i \\left| \\psi_i \\right\\rangle\\!\\left\\langle \\psi_i \\right|  \\otimes  \\left| \\phi_i \\right\\rangle\\!\\left\\langle \\phi_i \\right|\\right) &=\\sum_{i=1}p_i\\text{Tr}_B\\left( \\left| \\psi_i \\right\\rangle\\!\\left\\langle \\psi_i \\right|  \\otimes  \\left| \\phi_i \\right\\rangle\\!\\left\\langle \\phi_i \\right|\\right) \\\\\n",
    " =& \\sum_{i=1}p_i \\left| \\psi_i \\right\\rangle\\!\\left\\langle \\psi_i \\right|. \\text{Tr}_B\\left(   \\left| \\phi_i \\right\\rangle\\!\\left\\langle \\phi_i \\right|\\right)\\\\\n",
    " =& \\sum_{i=1}p_i \\left| \\psi_i \\right\\rangle\\!\\left\\langle \\psi_i \\right|\n",
    "\\end{align*}\n",
    "$$\n",
    "\n",
    "Let us make one further comment about mixed separable states. We saw earlier that it is “easy” to check if a bipartite pure state $  \\left|\\psi\\right\\rangle   \\in  \\mathcal{L}  \\left( \\mathbb{C}^d \\otimes  \\mathbb{C}^d \\right) $ is entangled by determining its Schmidt rank (we did not explicitly state this, but the Schmidt rank can be calculated in time polynomial in the dimension d). In stark contrast, it turns out that determining whether a _mixed_ state $ \\rho  \\in  \\mathcal{L}  \\left( \\mathbb{C}^d \\otimes  \\mathbb{C}^d \\right) $ is separable is NP-hard! This is another strong reminder that the settings of pure versus mixed states are indeed very different; the latter is typically much more difficult to work with.\n",
    "\n",
    "\n",
    "_Example 3: Pure entangled states_. We finally arrive at the case we started this lecture with: Pure entangled states such as $ \\left|\\Phi^+\\right\\rangle $. To compute the partial trace of any pure bipartite $ \\left|\\psi\\right\\rangle  $, one approach is to simply write out $ \\left|\\psi\\right\\rangle $ in the standard basis, take its density matrix $ \\rho = \\left| \\psi \\right\\rangle\\!\\left\\langle \\psi \\right| $, and then compute $ \\text{Tr}_B\\left( \\rho \\right) $. For example, for $ \\left|\\Phi^+\\right\\rangle $, we have\n",
    "\n",
    "$$\n",
    "\\begin{align*}\n",
    " \\text{Tr}_B\\left( \\left| \\Phi^+ \\right\\rangle\\!\\left\\langle \\Phi^+ \\right| \\right) &=  \\frac{1}{2}  \\text{Tr}_B\\left( \\left( \\left|00\\right\\rangle + \\left|11\\right\\rangle \\right) \\left( \\left\\langle 00 \\right| + \\left\\langle 11 \\right| \\right)  \\right)\\\\\n",
    " &= \\frac{1}{2}  \\text{Tr}_B\\left( \\left| 00 \\right\\rangle\\!\\left\\langle 00 \\right|+ \\left| 00 \\right\\rangle\\!\\left\\langle 1\\right|+ \\left| 11 \\right\\rangle\\!\\left\\langle 00 \\right|+ \\left| 11 \\right\\rangle\\!\\left\\langle 11 \\right|    \\right) \\\\\n",
    " &=\\frac{1}{2}  \\text{Tr}_B\\left( \\left| 00 \\right\\rangle\\!\\left\\langle 00 \\right|\\right)+\\frac{1}{2}  \\text{Tr}_B\\left( \\left| 00 \\right\\rangle\\!\\left\\langle 11 \\right|\\right)+\\frac{1}{2}  \\text{Tr}_B\\left( \\left| 11 \\right\\rangle\\!\\left\\langle 00 \\right|\\right)+\\frac{1}{2}  \\text{Tr}_B\\left( \\left| 11 \\right\\rangle\\!\\left\\langle 11 \\right|\\right)\\\\\n",
    " &=\\frac{1}{2}  \\text{Tr}_B\\left(  \\left| 0 \\right\\rangle\\!\\left\\langle 0 \\right|  \\otimes  \\left| 0 \\right\\rangle\\!\\left\\langle 0 \\right| \\right)+\\frac{1}{2}  \\text{Tr}_B\\left(  \\left| 0 \\right\\rangle\\!\\left\\langle 1 \\right|  \\otimes  \\left| 0 \\right\\rangle\\!\\left\\langle 1 \\right| \\right) + \\frac{1}{2}  \\text{Tr}_B\\left(  \\left| 1 \\right\\rangle\\!\\left\\langle 0 \\right|  \\otimes  \\left| 1 \\right\\rangle\\!\\left\\langle 0 \\right| \\right) \\\\\n",
    " & +\\frac{1}{2}  \\text{Tr}_B\\left(  \\left| 1 \\right\\rangle\\!\\left\\langle 1 \\right|  \\otimes  \\left| 1 \\right\\rangle\\!\\left\\langle 1 \\right| \\right)\\\\\n",
    " &= \\frac{1}{2}  \\left| 0 \\right\\rangle\\!\\left\\langle 0 \\right|  \\text{Tr}\\left( \\left| 0 \\right\\rangle\\!\\left\\langle 0 \\right| \\right)+\\frac{1}{2}  \\left| 0 \\right\\rangle\\!\\left\\langle 1 \\right|  \\text{Tr}\\left( \\left| 0 \\right\\rangle\\!\\left\\langle 1 \\right| \\right)+\\frac{1}{2}  \\left| 1 \\right\\rangle\\!\\left\\langle 0 \\right|  \\text{Tr}\\left( \\left| 1 \\right\\rangle\\!\\left\\langle 0 \\right| \\right) +\\frac{1}{2}  \\left| 1 \\right\\rangle\\!\\left\\langle 1 \\right|  \\text{Tr}\\left( \\left| 1 \\right\\rangle\\!\\left\\langle 1 \\right| \\right)\\\\\n",
    " &=  \\frac{1}{2}  \\left| 0 \\right\\rangle\\!\\left\\langle 0 \\right| + \\frac{1}{2}  \\left| 1 \\right\\rangle\\!\\left\\langle 1 \\right| \\\\\n",
    " &=  \\frac{1}{2} I\n",
    "\\end{align*}\n",
    "$$\n",
    "\n",
    "where the third equality follows from the linearity of the partial trace, the fifth by $\\text{Tr}_B\\left( \\rho\\right)= \\rho_1. \\text{Tr}\\left( \\rho_2\\right)$, and the sixth by the cyclic property of the trace and since $ \\left|0\\right\\rangle $ and $ \\left|1\\right\\rangle $ are orthogonal. Thus, the reduced state on qubit 1 for the Bell state is maximally mixed ! In other words, it is a completely random state about which we have zero information. In a similar fashion, one can show that $  \\text{Tr}_A\\left( \\left| \\Phi^+ \\right\\rangle\\!\\left\\langle \\Phi^+ \\right| \\right) = I/2$.\n",
    "\n",
    "And here we arrive at one of the most confounding aspects of quantum mechanics: As in the case of the Bell state, it is possible for us to know absolutely nothing about the states of qubits 1 and 2 individually (e.g. they have reduced states $I/2$), but when we bring both qubits together, we know everything about their joint state (e.g. $ \\left|\\Phi^+\\right\\rangle $ is a pure state, i.e. there is no uncertainty). This is yet another striking example of a quantum phenomenon which does not occur in the classical world."
   ]
  },
  {
   "cell_type": "markdown",
   "metadata": {
    "pycharm": {
     "name": "#%% md\n"
    }
   },
   "source": [
    "### Using partial trace to detect entanglement\n",
    "\n",
    "Recall we said that an arbitrary bipartite _pure_ state $ \\left|\\psi\\right\\rangle  \\in  \\mathbb{C}^d \\otimes  \\mathbb{C}^d$ can be written in terms of its Schmidt decomposition\n",
    "\n",
    "$$\n",
    " \\left|\\psi\\right\\rangle = \\sum_{i=1} \\alpha_i \\left|a_i\\right\\rangle  \\left|b_i\\right\\rangle\n",
    "$$\n",
    "\n",
    "where $\\alpha_i\\geq0$ and $ \\left\\{ \\left|a_i\\right\\rangle \\right\\} $ and $ \\left\\{ \\left|b_i\\right\\rangle \\right\\} $ are orthonormal sets. We also said that $ \\left|\\psi\\right\\rangle $ is entangled if and only if its Schmidt rank (i.e. number of non-zero Schmidt coefficients $ \\alpha_i$ ) is at least two. However, we did not discuss how to actually _find_ the Schmidt decomposition of $ \\left|\\psi\\right\\rangle $, i.e. we have not specified a procedure for computing the Schmidt rank of $ \\left|\\psi\\right\\rangle $. The partial trace allows us to solve this problem.\n",
    "\n",
    "For determining whether a bipartite pure state $ \\left|\\psi\\right\\rangle $ is entangled one needs to compute $ \\rho_A= \\text{Tr}_B\\left( \\left| \\psi \\right\\rangle\\!\\left\\langle \\psi \\right| \\right) $, and check if $ \\text{rank} \\left( \\rho_A\\right)  > 1$. If so, $ \\left|\\psi\\right\\rangle $ is entangled; otherwise, it is a product state. Finally, observe that this trick only works for pure states $ \\left|\\psi\\right\\rangle $ — indeed, for mixed bipartite $ \\rho_{AB} $ , detecting entanglement is NP-hard, so such a simple criterion for entanglement is highly unlikely to exist!\n",
    "\n",
    "### How the postulates of quantum mechanics apply to density operators\n",
    "\n",
    "In previous lectures, we introduced the postulates of quantum mechanics in the context of pure states $ \\left|\\psi\\right\\rangle $. All four postulates extend naturally to the setting of mixed quantum states. For example, for Postulate 3 on composite quantum systems, given density operators $ \\rho $ and $\\sigma$, we have that $ \\rho  \\otimes \\sigma$ is also a valid density operator. This follows from the facts that if $A$ and $B$ are positive semi-definite, then so is $A \\otimes B$, and that $ \\text{Tr}\\left(A  \\otimes B \\right)= \\text{Tr}\\left(A\\right) \\text{Tr}\\left(B\\right)$. For now, we will avoid revisiting the postulates in the mixed state setting, and rather approach the topic once the need arises in specific applications of future lectures."
   ]
  },
  {
   "cell_type": "markdown",
   "metadata": {
    "collapsed": true,
    "pycharm": {
     "name": "#%% md\n"
    }
   },
   "source": [
    "## Non-Local Games\n",
    "\n",
    "We have discussed measurements and entanglement, now let's combine these two topics to discuss one of the most fundamental questions in quantum theory: Does entanglement as we understand it actually exist in Nature? Recall that in 1935, Einstein, Podolsky and Rosen (EPR) argued that quantum mechanics could not be a complete physical theory due to its prediction of states such as the Bell state $  \\left|\\Phi^+\\right\\rangle =  \\frac{1}{\\sqrt{2}}  \\left( \\left|00\\right\\rangle + \\left|11\\right\\rangle \\right)  $. For example, as we will discuss shortly, the Bell state _appears_ to allow superluminal (i.e. faster than the speed of light) communication, which is impossible by the theory of relativity. Thus, EPR suggested that there must be more to Nature than what quantum theory prescribes — namely, that there must be “ hidden variables” which contain extra information missing in quantum mechanics about what is actually happening in the subatomic world. In other words, the moon is there even if you do not look at it — it’s just that we “do not have access” to the hidden variables prescribing the state of the moon. Moreover, this information must be “local”, in the sense that instantaneous communication between variables should not be possible. Such theories arehence called local hidden variable theories.\n",
    "\n",
    "Remarkably, in 1964, John Bell proved that no local hidden variable theory could ever reproduce the statistics predicted by quantum mechanics! Thus, either local hidden variables theories are wrong, or quantum mechanics is wrong. In fact, Bell went a step further — he proposed a “simple” experiment which could be run in a lab to test which of these two cases represents reality. This experiment was based on (what is now called) a Bell inequality, and was run for example by the celebrated effort of Aspect, Grangier, and Roger in 1981, who wrote about their findings:\n",
    "\n",
    "> Our results, in excellent agreement with the quantum mechanical predictions, strongly violate the generalized Bell’s inequalities, and rule out the whole class of realistic local theories\n",
    ">>Aspect, Grangier, Roger, PRL 1981.\n",
    "\n",
    "\n",
    "Thus, quantum mechanics, and not a local hidden variable theory, appears to be correct, and\n",
    "Bell states as we understand them really do exist. It should be mentioned that these experiments are not iron-clad results — it turns out there are conceivable “loopholes” in such experimental setups which could explain the outcomes of such experiments without ruling out local hidden variable theories. Nevertheless, over the years improved experimental setups have managed to close some of these “loopholes”, and it is probably fair to say that the general physics community regards this at least as strong evidence that local hidden variable theories are insufficient to model the subatomic world.\n",
    "\n",
    "The equivalent of Bell inequalities in computer science is called non-local games. In the process, we will further practice working with measurements, and see another instance of how the non-local nature of entanglement can be harnessed in a computational task to perform a classically impossible feat."
   ]
  },
  {
   "cell_type": "markdown",
   "metadata": {
    "pycharm": {
     "name": "#%% md\n"
    }
   },
   "source": [
    "## Does entanglement allow superluminal signalling?\n",
    "\n",
    "Before discussing what entanglement can do, however, let us take a detour to point out what entanglement _cannot_ do. Consider the Bell state $  \\left|\\Phi^+\\right\\rangle =  \\frac{1}{\\sqrt{2}}  \\left( \\left|00\\right\\rangle + \\left|11\\right\\rangle \\right)  $. Suppose you take the first qubit of $ \\left|\\Phi^+\\right\\rangle $ and run off to Pluto, and your friend Bob keeps the second qubit here on Earth. If you now measure your qubit in the standard basis $ \\left\\{ \\left|0\\right\\rangle , \\left|1\\right\\rangle \\right\\} $, you will obtain outcome $ \\left|i\\right\\rangle $ with probability\n",
    "\n",
    "$$\n",
    "\\begin{align*}\n",
    "\\text{Pr}(\\text{outcome } i) &= \\text{Tr}\\left( \\left(\\left| i \\right\\rangle\\!\\left\\langle i \\right|  \\otimes I  \\right) \\left| \\Phi^+ \\right\\rangle\\!\\left\\langle \\Phi^+ \\right|  \\right)\\\\\n",
    "&= \\frac{1}{2} \\text{Tr}\\left( \\left(\\left| i \\right\\rangle\\!\\left\\langle i \\right|  \\otimes I  \\right)  \\left( \\left| 00 \\right\\rangle\\!\\left\\langle 00 \\right|  + \\left| 00 \\right\\rangle\\!\\left\\langle 11 \\right| +  \\left| 11 \\right\\rangle\\!\\left\\langle 00 \\right| +  \\left| 11 \\right\\rangle\\!\\left\\langle 11 \\right|  \\right)   \\right)\\\\\n",
    "&= \\frac{1}{2}\n",
    "\\end{align*}\n",
    "$$\n",
    "\n",
    "Moreover, having obtained outcome $ \\left|i\\right\\rangle  $, you know Bob’s qubit on Earth has instantly collapsed to state $ \\left|i\\right\\rangle $ as well, since your joint postmeasurement state (according to _your_ state of knowledge, not Bob’s!) is given by (the normalized version of)\n",
    "\n",
    "$$\n",
    " \\left( \\left| i \\right\\rangle\\!\\left\\langle i \\right|  \\otimes I\\right) \\left|\\Phi^+\\right\\rangle = \\frac{1}{\\sqrt{2}}\\left( \\left| i \\right\\rangle\\!\\left\\langle i \\right|  \\otimes I\\right) \\left(\\left|00\\right\\rangle + \\left|11\\right\\rangle\\right)= \\frac{1}{\\sqrt{2}}  \\left|i\\right\\rangle  \\left|i\\right\\rangle\n",
    "$$\n",
    "\n",
    "Does this mean you have managed to _instantly_ communicate the value of i to Bob? This would be a big no-no according to the theory of relativity!\n",
    "\n",
    "To resolve this paradox, we employ the density operator framework. First, observe that Bob’s state of knowledge before your measurement is given by the reduced density matrix of his qubit, which recall from last class satisfies\n",
    "\n",
    "$$\n",
    " \\rho _B= \\text{Tr}_A\\left( \\left| \\Phi^+ \\right\\rangle\\!\\left\\langle \\Phi^+ \\right| \\right)= \\frac{1}{2} I\n",
    "$$\n",
    "\n",
    "In other words, Bob’s qubit contains no information by itself. Now let us compute Bob’s reduced state after you’ve performed your measurement (assuming you have not communicated your result to Bob by some classical means such as via satellite phone). Since with probability 1/2, you obtain measurement outcome $ \\left|i\\right\\rangle $, resulting in joint state $ \\left|ii\\right\\rangle $, the density operator describing your joint post-measurement state is\n",
    "\n",
    "$$\n",
    " \\sigma_{AB}= \\frac{1}{2}  \\left| 00 \\right\\rangle\\!\\left\\langle 00 \\right| + \\frac{1}{2}  \\left| 11 \\right\\rangle\\!\\left\\langle 11 \\right|\n",
    "$$\n",
    "\n",
    "If we now check Bob’s reduced state, we find that again\n",
    "\n",
    "$$\n",
    " \\text{Tr}_A\\left( \\sigma_{AB}\\right)= \\frac{1}{2}  \\text{Tr}_A\\left(\\left| 00 \\right\\rangle\\!\\left\\langle 00 \\right| + \\left| 11 \\right\\rangle\\!\\left\\langle 11 \\right|\\right)= \\frac{1}{2}  \\left( \\text{Tr}_A\\left(\\left| 00 \\right\\rangle\\!\\left\\langle 00 \\right|\\right) +\\text{Tr}_A\\left(\\left| 11 \\right\\rangle\\!\\left\\langle 11 \\right|\\right)\\right)= \\frac{1}{2}  \\left( \\left| 0 \\right\\rangle\\!\\left\\langle 0 \\right| + \\left| 1 \\right\\rangle\\!\\left\\langle 1 \\right| \\right)= \\frac{1}{2} I\n",
    "$$\n",
    "\n",
    "Thus, Bob has learned nothing about the outcome of your measurement! In other words, although Bob’s state indeed changes instantly once you measure your qubit (i.e. a collapse occurs), he has no way of knowing it until classical information encoding the measurement outcome is sent from Pluto to Earth. Thus, no information is instantly transmitted."
   ]
  },
  {
   "cell_type": "markdown",
   "metadata": {
    "pycharm": {
     "name": "#%% md\n"
    }
   },
   "source": [
    "## Non-local games\n",
    "\n",
    "As we just saw measuring half of a Bell state does not allow one to communicate information from Alice to Bob. Surprisingly, though, the story has only just begun — one can nevertheless use local measurements on both halves of a Bell state to generate a probability distribution which contains correlations stronger than those possible classically. It is precisely this principle which is harnessed in non-local games. The setup of a non-local game is as follows. Suppose you and a friend are charged with doing too much homework on school property, and taken to police headquarters, where you are separated into two different rooms (i.e. you cannot communicate with one another). An interrogator takes turns asking each of you a question, and subsequently compares and cross-checks your answers to verify that you are both telling the truth. It turns out that if you and your friend happened to share two halves of a Bell state before being taken to the police station, then by performing appropriate local measurement on your qubits based on the interrogator’s questions, you can sometimes convince the interrogator of your honesty with higher probability than you could hope to do so without the use of entanglement. Let us demonstrate this via the concrete example of the CHSH game.\n",
    "\n",
    "### The CHSH game\n",
    "\n",
    "In 1969, Clauser-Horne-Shimony-Holt gave an important variant of Bell’s inequality, nowadays named after its authors as the CHSH inequality. It turns out that this inequality can be recast as a non-local game, called the _CHSH game_. To specify this game, let us denote the two spatially separated players as Alice and Bob, each of which receives a single question consisting of a single bit, $q_A \\in  \\left\\{0,1\\right\\} $  for Alice and $q_B \\in  \\left\\{0,1\\right\\} $ for Bob. The questions are chosen uniformly at random. Alice and Bob now output a response consisting of a single bit each, $r_A \\in  \\left\\{0,1\\right\\} $ for Alice and $r_B \\in  \\left\\{0,1\\right\\} $ for Bob. We say they win if $q_A \\land q_B = r_A \\oplus r_B$ , where $\\land$ denotes the AND function and $\\oplus$ denotes XOR (recall XOR on two bits $b_1,b_2 \\in  \\left\\{0,1\\right\\} $ equals one if and only if precisely one of $b_1$ and $b_2$ is set to 1). In words, this says the following: If the questions are $q_Aq_B  \\in  \\left\\{00, 01, 10\\right\\} $, then Alice and Bob should answer with the same bit. Only if the questions are $q_Aq_B  \\in  \\left\\{11\\right\\} $ should they answer with different bits.\n",
    "\n",
    "\n",
    "\n",
    "#### Limits on classical strategies\n",
    "\n",
    "Let us convince ourselves that any deterministic classical strategy for this game can win with probability at most 3/4. Specifically, any deterministic strategy for Alice (similarly for Bob) falls into one of four cases, specifying what Alice does when she receives her question, $q_A$ : Output the same bit as $q_A$ , output the opposite of $q_A$ , ignore $q_A$ and always output 0, or ignore $q_A$ and always output 1. Let us consider one such strategy; the analysis of all other cases follows analogously. Suppose Alice and Bob always ignore their questions $q_A$ and $q_B$ and output $r_A = r_B = 0$. What is the probability of this strategy to win? Since $r_A = r_B = 0$, we have $r_A  \\oplus  r_B = 0$, meaning they win whenever $q_A  \\land  q_B = 0$. This happens so long as $q_Aq_B  \\in  \\left\\{00, 01, 10\\right\\} $, i.e. for 3 of the 4 possible pairs of questions they can receive. Since the questions are chosen uniformly at random, they win with probability 3/4, as claimed.\n",
    "\n",
    "Finally, you may wonder whether Alice and Bob can classically do better if they use a randomized strategy for selecting answers. It turns out the answer is no, as a randomized strategy may be viewed as an average over all deterministic strategies. Thus, they might as well choose the optimal deterministic strategy.\n",
    "\n",
    "\n",
    "#### A quantum strategy\n",
    "\n",
    "We now show that if Alice and Bob share the Bell pair $ \\left|\\Phi^+\\right\\rangle $ before the game starts, then by performing appropriate local measurements based their questions $q_A$ and $q_B$ , they can win the game with a higher probability of $\\cos^2(\\pi/8)\\approx0.854$ (compared to 3/4 in the classical case). This is equivalent to saying the original CHSH inequality is _violated_ by quantum mechanics, meaning a local hidden variable theory cannot explain the measurement statistics predicted by quantum mechanics (though we will not discuss these details here). To model Alice and Bob’s strategy, we introduce the concept of an _observable_.\n",
    "\n",
    "Observables\n",
    ": Recall that a projective measurement is given by a set of projectors $M= \\left\\{\\Pi_i \\right\\} $ such that $  \\sum_{i=1}\\Pi_i=I$. To each outcome we associate some label, $i \\in S  \\subset  \\mathbb{R} $ for some set $S$ such as $S = \\{1, . . . , d\\}$. An _observable_ is simply the matrix\n",
    "\n",
    "$$\n",
    "C= \\sum_{i\\in S} i.\\Pi_i\n",
    "$$\n",
    "\n",
    "For example, consider a measurement in the standard basis $ \\left\\{ \\left|0\\right\\rangle , \\left|1\\right\\rangle \\right\\} $, where the outcomes are labelled with set $S = \\{1, −1\\}$, respectively. Then, the corresponding observable is (for Pauli operator $Z$)\n",
    "\n",
    "$$\n",
    "C =  \\left| 0 \\right\\rangle\\!\\left\\langle 0 \\right| - \\left| 1 \\right\\rangle\\!\\left\\langle 1 \\right| =Z\n",
    "$$"
   ]
  },
  {
   "cell_type": "markdown",
   "metadata": {
    "pycharm": {
     "name": "#%% md\n"
    }
   },
   "source": [
    "Observables are useful in that they allow us to quickly calculate the expected value of a measurement. Recall that for a random variable $X$ distributed over set $Y$ , the expected value of $X$ is defined\n",
    "\n",
    "$$\n",
    "E[X] =  \\sum_{y\\in Y}  \\text{Pr}\\left(X=y\\right).y\n",
    "$$\n",
    "\n",
    "and captures what value $X$ takes on _average_. Similarly, the outcome of a measurement $M= \\left\\{\\Pi_i \\right\\}$ can be modelled by a random variable $X$ over possible outcome labels $i \\in S$, and we can\n",
    "ask what $E[X]$ is. For a measurement on density operator $ \\rho $, this is given by the formula\n",
    "\n",
    "$$\n",
    "E[X] =  \\sum_{i\\in S}  \\text{Pr}\\left(X=i\\right).i=\\sum_{i\\in S}  \\text{Tr}\\left( \\rho \\Pi_i\\right).i= \\text{Tr}\\left( \\rho  \\left( \\sum_{i}\\Pi_i . i \\right) \\right)= \\text{Tr}\\left( \\rho C\\right)\n",
    "$$\n",
    "\n",
    "for observable $C= \\sum_{i\\in S} i.\\Pi_i$ , and where the third equality follows by linearity of the trace."
   ]
  },
  {
   "cell_type": "markdown",
   "metadata": {
    "pycharm": {
     "name": "#%% md\n"
    }
   },
   "source": [
    "**Alice and Bob’s strategy.** With observables in hand, we state Alice’s and Bob’s strategy. First, let us change the encoding of their output bits. Namely, instead of outputting $r_A,r_B  \\in  \\left\\{0,1\\right\\} $, in their measurements Alice and Bob use label 1 to mean output 0, and label −1 to mean output bit 1. Then, conditioned on questions $q_A$ and $q_B$ , Alice and Bob use observables $A_{q_A}$ and $B_{q_B}$ as follows:\n",
    "\n",
    "$$\n",
    "A_0=Z \\qquad A_1=X \\qquad B_0=H \\qquad B_1=ZHZ\n",
    "$$\n",
    "\n",
    "Note that all four of these observables have eigenvalues in set $S = \\{1, −1\\}$, and so they can be thought of as measurements in their respective eigenbases with outcomes labelled by $S$.\n",
    "\n",
    "_Calculating the success probability._ At first glance, it is likely unclear why such a strategy should be interesting at all. Let us first calculate the success probability of this strategy to demonstrate that it does work, and subsequently give an intuitive understanding of _why_ it works.\n",
    "\n",
    "First, we claim that for arbitrary observables with spectral decompositions $A= \\left| a_0 \\right\\rangle\\!\\left\\langle a_0 \\right| - \\left| a_1 \\right\\rangle\\!\\left\\langle a_1 \\right| $ and $B= \\left| b_0 \\right\\rangle\\!\\left\\langle b_0 \\right| - \\left| b_1 \\right\\rangle\\!\\left\\langle b_1 \\right| $ the quantity $ \\text{Tr}\\left(A  \\otimes  B\\left| \\Phi^+ \\right\\rangle\\!\\left\\langle \\Phi^+ \\right| \\right) $ encodes the probability that Alice and Bob output the same bits minus the probability they output different bits, assuming they measure using $A$ and $B$. To see this, we have\n",
    "\n",
    "$$\n",
    "\\begin{align*}\n",
    " \\text{Tr}\\left(A  \\otimes  \\left| \\Phi^+ \\right\\rangle\\!\\left\\langle \\Phi^+ \\right|\\right) &=  \\text{Tr}\\left( \\left(\\left| a_0 \\right\\rangle\\!\\left\\langle a_0 \\right| - \\left| a_1 \\right\\rangle\\!\\left\\langle a_1 \\right|\\right) \\otimes  \\left( \\left| b_0 \\right\\rangle\\!\\left\\langle b_0 \\right| - \\left| b_1 \\right\\rangle\\!\\left\\langle b_1 \\right|\\right) \\left| \\Phi^+ \\right\\rangle\\!\\left\\langle \\Phi^+ \\right| \\right) \\\\\n",
    " &= \\text{Tr}\\left( \\left| a_0 \\right\\rangle\\!\\left\\langle a_0 \\right|  \\otimes  \\left| b_0 \\right\\rangle\\!\\left\\langle b_0 \\right| \\cdot  \\left| \\Phi^+ \\right\\rangle\\!\\left\\langle \\Phi^+ \\right| \\right)- \\text{Tr}\\left( \\left| a_0 \\right\\rangle\\!\\left\\langle a_0 \\right|  \\otimes  \\left| b_1 \\right\\rangle\\!\\left\\langle b_1 \\right| \\cdot  \\left| \\Phi^+ \\right\\rangle\\!\\left\\langle \\Phi^+ \\right| \\right) \\\\\n",
    " & \\text{Tr}\\left( \\left| a_1 \\right\\rangle\\!\\left\\langle a_1 \\right|  \\otimes  \\left| b_0 \\right\\rangle\\!\\left\\langle b_0 \\right| \\cdot  \\left| \\Phi^+ \\right\\rangle\\!\\left\\langle \\Phi^+ \\right| \\right)+ \\text{Tr}\\left( \\left| a_1 \\right\\rangle\\!\\left\\langle a_1 \\right|  \\otimes  \\left| b_1 \\right\\rangle\\!\\left\\langle b_1 \\right| \\cdot  \\left| \\Phi^+ \\right\\rangle\\!\\left\\langle \\Phi^+ \\right| \\right)\\\\\n",
    " &=  \\text{Pr}\\left(\\text{output }00\\right) -\\text{Pr}\\left(\\text{output }01\\right)-\\text{Pr}\\left(\\text{output }10\\right)+\\text{Pr}\\left(\\text{output }11\\right)\\\\\n",
    " &= \\text{Pr}\\left(\\text{output same bits}\\right)-\\text{Pr}\\left(\\text{output different bits}\\right)\n",
    "\\end{align*}\n",
    "$$\n",
    "\n",
    "We conclude that for pairs of questions $q_Aq_B  \\in  \\left\\{00, 01, 10\\right\\} $ (i.e. Alice and Bob should output the same bit), the term $\\text{Tr}\\left(A  \\otimes B \\left| \\Phi^+ \\right\\rangle\\!\\left\\langle \\Phi^+ \\right|\\right)$ denotes the probability Alice and Bob win minus the probability they lose. Similarly, for the question pair $q_Aq_B  = 11 $ (i.e. their answers should disagree) the analogous quantity is $-\\text{Tr}\\left(A  \\otimes  B \\left| \\Phi^+ \\right\\rangle\\!\\left\\langle \\Phi^+ \\right|\\right)$. It follows that that the probability that Alice and Bob win minus the probability they lose is given by\n",
    "\n",
    "$$\n",
    "\\begin{align*}\n",
    " & \\text{Pr}\\left(q_Aq_B=00\\right)\\cdot \\text{Tr}\\left(A_0  \\otimes  B_0\\left| \\Phi^+ \\right\\rangle\\!\\left\\langle \\Phi^+ \\right|\\right)+\\text{Pr}\\left(q_Aq_B=01\\right)\\cdot \\text{Tr}\\left(A_0  \\otimes  B_1\\left| \\Phi^+ \\right\\rangle\\!\\left\\langle \\Phi^+ \\right|\\right)+\\\\\n",
    " & \\text{Pr}\\left(q_Aq_B=10\\right)\\cdot \\text{Tr}\\left(A_1  \\otimes  B_0\\left| \\Phi^+ \\right\\rangle\\!\\left\\langle \\Phi^+ \\right|\\right)-\\text{Pr}\\left(q_Aq_B=11\\right)\\cdot \\text{Tr}\\left(A_1  \\otimes  B_1\\left| \\Phi^+ \\right\\rangle\\!\\left\\langle \\Phi^+ \\right|\\right)\\\\\n",
    " &= \\frac{1}{4} \\left[ \\text{Tr}\\left( \\left(A_0 \\otimes B_0+A_0 \\otimes B_1 + A_1 \\otimes B_0-A_1 \\otimes B_1\\right) \\left| \\Phi^+ \\right\\rangle\\!\\left\\langle \\Phi^+ \\right|  \\right)  \\right]\n",
    " \\end{align*}\n",
    "$$\n",
    "\n",
    "where the factor of $1/4$ appears because each question pair $q_Aq_B$ appears with probability $1/4$. A direct calculation now yields that for our choices of $A_i$ and $B_i$ ,\n",
    "\n",
    "$$\n",
    "\\text{Tr}\\left(A_0  \\otimes B_0 \\left| \\Phi^+ \\right\\rangle\\!\\left\\langle \\Phi^+ \\right|\\right)=\\text{Tr}\\left(A_0  \\otimes B_1 \\left| \\Phi^+ \\right\\rangle\\!\\left\\langle \\Phi^+ \\right|\\right)=\\text{Tr}\\left(A_1  \\otimes B_0 \\left| \\Phi^+ \\right\\rangle\\!\\left\\langle \\Phi^+ \\right|\\right)= \\frac{1}{\\sqrt{2}}\n",
    "$$\n",
    "\n",
    "whereas $\\text{Tr}\\left(A_1  \\otimes B_1 \\left| \\Phi^+ \\right\\rangle\\!\\left\\langle \\Phi^+ \\right|\\right)=- \\frac{1}{\\sqrt{2}} $.\n",
    "\n",
    "Let $p$ be the probability with which Alice and Bob win with this strategy. The probability of winning minus losing, $p − (1 − p) = 2p − 1$, equals $ \\sfrac{1}{\\sqrt{2}} $. Hence, $p = 1/2 + 1/(2\\sqrt{2}) = \\cos^2 (\\pi/8) \\approx 0.854$, which is strictly better than the optimal classical winning probability of 0.75, as claimed."
   ]
  },
  {
   "cell_type": "markdown",
   "metadata": {
    "pycharm": {
     "name": "#%% md\n"
    }
   },
   "source": [
    "![Measurement bases CHSH](images/CHSH_bases-k.png \"Measurement bases for CHSH\")\n",
    "\n",
    "Measurement bases for $A_0$ (top-left), $A_1$ (top-right), $B_0$ (bottom-left), $B_1$ (bottom-\n",
    "right)."
   ]
  },
  {
   "cell_type": "markdown",
   "metadata": {
    "pycharm": {
     "name": "#%% md\n"
    }
   },
   "source": [
    "_Intuition behind Alice and Bob’s strategy._ Why does this strategy work? To see this, we plot the eigenbases for each observable used (i.e. the measurement bases). Each eigenvector is denoted $ \\left|a_0\\right\\rangle $ or $ \\left|a_1\\right\\rangle $ for Alice ($ \\left|b_0\\right\\rangle $ or $ \\left|b_1\\right\\rangle $ for Bob), corresponding to Alice outputting $0$ or $1$, respectively. To begin, intuitively, the Bell state has the special property that if Alice and Bob measure in “similar” bases on their respective qubits, then they should get the same outcome with high probability, whereas if they measure with “very different” bases, then they will get opposite outcomes with high probability. In other words, we want to choose observables $A_0$ , $A_1$ , $B_0$ , and $B_1$ such that for questions $q_Aq_B \\in  \\left\\{00,01,10\\right\\} $, Alice and Bob measure in bases which are “close” (since their output bits should match), and for $q_Aq_B=11$, they measure in bases which are “far apart” (since their outputs should differ). Figure depicts exactly this scenario. For example, for $q_Aq_B = 00$, the plots depicting Alice and Bob’s measurement bases are the top-left and bottom-left, respectively. Here we see that $ \\left|a_0\\right\\rangle $ for Alice has high overlap with $ \\left|b_0\\right\\rangle $ for Bob (similarly for $ \\left|a_1\\right\\rangle $ and $ \\left|b_1\\right\\rangle $), so they are likely to obtain the same outcome. Conversely, for $q_A q_B = 11$ (i.e. top-right and bottom-right plots), $ \\left|a_0\\right\\rangle $ and $ \\left|b_0\\right\\rangle $ i are almost orthogonal (similarly for $ \\left|a_1\\right\\rangle $), meaning it is unlikely that Alice and Bob’s outputs will agree."
   ]
  },
  {
   "cell_type": "markdown",
   "metadata": {
    "pycharm": {
     "name": "#%% md\n"
    }
   },
   "source": [
    "## The magic square game\n",
    "In the previous, we studied the CHSH game, whose maximum classical winning probability is $3/4$, whereas a quantum strategy based on entanglement achieves probability $0.854$. Let us see if this separation can be made stronger — does there exist a non-local game with classical winning probability strictly smaller than 1, but can be won perfectly quantumly? It turns out the answer is yes; an example demonstrating this phenomenon is the magic square of Mermin and Peres from the early 1990’s. The magic square works as follows: Suppose we have a $3\\times3$ array, labelled with variables $x_{ij}$ :\n",
    "\n",
    "\n",
    "$$\n",
    "\\begin{table}\n",
    "\\begin{tabular}{|l|l|l|}\n",
    "\\hline\n",
    "x_{11} &x_{12}  & x_{13}  \\\\ \\hline\n",
    "x_{21}    &x_{22}  & x_{23} \\\\ \\hline\n",
    "x_{31}    &x_{32}  & x_{33} \\\\ \\hline\n",
    "\\end{tabular}\n",
    "\\end{table}\n",
    "$$\n",
    "\n",
    "The goal is to assign $0$ or $1$ to each variable $x_{ij}$ so that in each row and in the first two columns, the number of 1’s is even (i.e. they have parity 0). In the last column, the requirement is that the number of 1’s is odd (i.e. they have parity 1). Formally, we can express this as the system of equations\n",
    "\n",
    "$$\n",
    "\\begin{table}\n",
    "\\resizebox{\\textwidth}{!}{%\n",
    "\\begin{tabular}{ll}\n",
    "x_{11}  \\oplus x_{12}  \\oplus x_{13} =0 & x_{11}  \\oplus x_{21}  \\oplus x_{31} =0 \\\\\n",
    "x_{21}  \\oplus x_{22}  \\oplus x_{23} =0    &  x_{12}  \\oplus x_{22}  \\oplus x_{32} =0 \\\\\n",
    "x_{31}  \\oplus x_{32}  \\oplus x_{33} =0    & x_{13}  \\oplus x_{23}  \\oplus x_{33} =1\n",
    "\\end{tabular}%\n",
    "}\n",
    "\\end{table}\n",
    "$$\n",
    "\n",
    "where $ \\oplus $ denotes the XOR, i.e. addition modulo 2. It turns out that it is impossible to fill out this square so that all six of these equations are satisfied."
   ]
  },
  {
   "cell_type": "markdown",
   "metadata": {
    "pycharm": {
     "name": "#%% md\n"
    }
   },
   "source": [
    "_Making a game of the magic square._ We can turn the magic square into a non-local game between parties Alice and Bob as follows. As her question, Alice receives uniformly at random one of the rows or columns of the square, where we index the rows and columns by $q_A  \\in  \\{1, 2, 3, 4, 5, 6\\}$. Suppose row/column $q_A$ contains variables $x, y, z$. Then, Alice must return assignments for $x$,$y$, and $z$ — denote her answers $x_A$ , $y_A$ , $z_A$ . As for Bob’s question, we now choose uniformly one of $x, y, z$, and ask Bob to provide an assignment for it. For example, Bob might be asked to provide an assignment for $y$, which we would denote $y_B$ . We say Alice and Bob win the game if $x_A$ , $y_A$ , $z_A$ satisfies the parity constraint for the corresponding row or column, and if Bob’s answer matches that of Alice (i.e. $y_B = y_A$ in our example)."
   ]
  },
  {
   "cell_type": "markdown",
   "metadata": {
    "pycharm": {
     "name": "#%% md\n"
    }
   },
   "source": [
    "Because the magic square cannot be filled out perfectly, it is not difficult to argue that no classical strategy of Alice and Bob can win this non-local game with probability 1. There is, however, a perfect quantum strategy, and as for the CHSH game, it relies on the non-local nature of entanglement.\n",
    "\n",
    "**A perfect quantum strategy.** As for the CHSH game, we begin by switching from basis $\\{0, 1\\}$\n",
    "for encoding responses to $\\{1, −1\\}$, respectively. (As a result, our observables will have eigevalues\n",
    "in $\\{1, −1\\}$.) Note that this translates an expression of the form $x \\oplus y  \\oplus z = b$ for $x, y, z, b  \\in  \\{0, 1\\}$ to $xyz = (−1)^b$ for $x, y, z  \\in  \\{1, −1\\}$, i.e. the direct sum condition converts to a multiplication. For example, with this “change of basis”, $0  \\oplus  1  \\oplus  0 = 1$ converts to $(1)(−1)(1) = (−1)^1$ . Also as for CHSH, before the game starts, Alice and Bob share an entangled state between them; in this case, we use a higher dimensional analogue of the Bell state,\n",
    "\n",
    "$$\n",
    " \\left|\\psi\\right\\rangle= \\frac{1}{2}  \\left|00\\right\\rangle  + \\frac{1}{2}  \\left|11\\right\\rangle +\\frac{1}{2}  \\left|22\\right\\rangle+ \\frac{1}{2}  \\left|33\\right\\rangle  \\in  \\mathbb{C}^4 \\otimes  \\mathbb{C}^4\n",
    "$$\n",
    "\n",
    "where recall $\\{ \\left|0\\right\\rangle , \\left|1\\right\\rangle , \\left|2\\right\\rangle,  \\left|3\\right\\rangle  \\}$ is an orthonormal basis for $ \\mathbb{C}^4$ . Now recall Alice will receive three cells $x$, $y$, $z$ in the magic square (from a single row or column) for which she has to provide values in $\\{1, −1\\}$, and Bob will receive one of $x$, $y$, or $z$, for which he must provide a value in $\\{1, −1\\}$. The following chart shows which measurement Alice or Bob should apply to their half of $ \\left|\\psi\\right\\rangle $ depending on which cell(s) they receive questions for:\n",
    "\n",
    "$$\n",
    "\\begin{table}\n",
    "\\begin{tabular}{|l|l|l|}\n",
    "\\hline\n",
    "Z \\otimes I & I \\otimes Z  & Z \\otimes Z  \\\\ \\hline\n",
    "I \\otimes X    & X \\otimes I  & X \\otimes X \\\\ \\hline\n",
    "Z \\otimes X    & X \\otimes Z  & Y \\otimes Y \\\\ \\hline\n",
    "\\end{tabular}\n",
    "\\end{table}\n",
    "$$\n",
    "\n",
    "\n",
    "\n",
    "For example, if Alice receives row 1 as her question, she measures observables $Z \\otimes I $, $I \\otimes Z$, and $Z  \\otimes Z$ on her half of $ \\left|\\psi\\right\\rangle $. Then, if Bob receives the top middle cell as his question, he measures $I \\otimes Z $ on his half of $ \\left|\\psi\\right\\rangle $. Since all observables above have eigenvalues in $\\{1, −1\\}$, all of Alice\n",
    "and Bob’s responses will also be in $\\{1, −1\\}$.\n",
    "\n",
    "Why does this work? Suppose Alice gets the first row as a question. Then, she measures according to $Z \\otimes I $, $I \\otimes Z$, and $Z  \\otimes Z$, obtaining 3 values from set $\\{1, −1\\}$, each of which corresponds to one of the cells in row 1. The expected value for the product of these (since recall switching to the $\\{1, −1\\}$ output encoding converted our constraints to multiplication of variables) is given by\n",
    "\n",
    "$$\n",
    " \\text{Tr}\\left(\\left(Z \\otimes I\\right)\\left(I \\otimes Z\\right)\\left(Z \\otimes Z\\right) \\left| \\psi \\right\\rangle\\!\\left\\langle \\psi \\right| \\right)= \\text{Tr}\\left( \\left(I \\otimes I\\right) \\left| \\psi \\right\\rangle\\!\\left\\langle \\psi \\right|  \\right)=1\n",
    "$$\n",
    "\n",
    "In other words, Alice always outputs a triple from set $\\{1, −1\\}^{\\times3}$ with product 1 when she is\n",
    "asked row 1, and hence answers her question correctly. (Aside: Note that each operator above, e.g. $Z \\otimes  I$, acts entirely on Alice’s 4-dimensional half of $ \\left|\\psi\\right\\rangle $.) More generally, multiplying out the observables in any row and in the first two columns similarly yields the matrix $I \\otimes I$ — this means Alice always outputs values with product 1 in these cases, as desired. As for the last column, the observables multiply out to $−I  \\otimes  I$, meaning Alice outputs values with product $−1$, again as desired."
   ]
  },
  {
   "cell_type": "markdown",
   "metadata": {
    "pycharm": {
     "name": "#%% md\n"
    }
   },
   "source": [
    "\n",
    "How about Bob — will his measurement result match Alice’s? Note that by definition, Alice and Bob both perform the same measurement for a given cell on their respective halves of $ \\left|\\psi\\right\\rangle $. For example, if Alice is asked row 1 and Bob is asked the top-middle cell, then both of them measure $I \\otimes Z$ on their respective halves of $ \\left|\\psi\\right\\rangle $. Here, we use a nice fact:\n",
    "\n",
    "Fact:\n",
    ": For $ \\left|\\psi\\right\\rangle = \\frac{1}{\\sqrt{d}} \\sum_{i=1}^{d} \\left|ii\\right\\rangle   $ and any observable $A$, we have $A ⊗ I \\left|\\psi\\right\\rangle  = I  \\otimes  A^T  \\left|\\psi\\right\\rangle $.\n",
    "\n",
    "\n",
    "Using this fact, the expected value for the product of Alice and Bob’s measurements for the top-middle cell is\n",
    "\n",
    "$$\n",
    " \\text{Tr}\\left( \\left(I \\otimes Z\\right)_A \\otimes  \\left(I \\otimes Z\\right)_B  \\left| \\psi \\right\\rangle\\!\\left\\langle \\psi \\right| \\right)= \\text{Tr}\\left(\\right)=\\text{Tr}\\left( \\left(I^2 \\otimes Z^2\\right)_A \\otimes  \\left(I \\otimes I\\right)_B  \\left| \\psi \\right\\rangle\\!\\left\\langle \\psi \\right| \\right)= 1\n",
    "$$\n",
    "\n",
    "since $Z^2 = I$. In other words, their outputs always agree. A similar analysis applies for any of the nine cells in the magic square. We conclude that Alice and Bob win the magic square game with certainty.\n",
    "\n",
    "Finally, we mention an important point, but one which we will not dwell on at this point in the course. Recall that in general, measuring a quantum state disturbs it, and so the order in which a sequence of measurements is performed is important. There is an exception to this rule, though — if the observables corresponding to the measurements all commute, then the order in which the measurements are performed does not matter. In the strategy above, any pair of observables in the table pairwise commute - thus, e.g., when Alice does three measurements in a row on her half of $ \\left|\\psi\\right\\rangle $, the precise order of the measurements does not matter. This ensures the strategies above are well-defined.\n",
    "\n",
    "**Connections to solving systems of equations.** Recall the magic square corresponds to the following inconsistent system of equations (where each $x_{ij} \\in \\{1, −1\\}$):\n",
    "\n",
    "$$\n",
    "\\begin{table}\n",
    "\\resizebox{\\textwidth}{!}{%\n",
    "\\begin{tabular}{ll}\n",
    "x_{11}  x_{12}  x_{13} =1 & x_{11}  x_{21}  x_{31} =1 \\\\\n",
    "x_{21}  x_{22}  x_{23} =1    &  x_{12} x_{22} x_{32} =1 \\\\\n",
    "x_{31}  x_{32}  x_{33} =1    & x_{13}  x_{23}  x_{33} =-1\n",
    "\\end{tabular}%\n",
    "}\n",
    "\\end{table}\n",
    "$$\n",
    "\n",
    "\n",
    "The reason why the magic square game has a perfect quantum strategy is intuitively that if we allow higher dimensional assignments, then the analogous system does have a solution! Formally, let us work in $ \\mathcal{L}  \\left( \\mathbb{C}^4\\right) $, obtaining system\n",
    "$$\n",
    "\\begin{table}\n",
    "\\resizebox{\\textwidth}{!}{%\n",
    "\\begin{tabular}{ll}\n",
    "M_{11}  M_{12}  M_{13} =I & M_{11}  M_{21}  M_{31} =I \\\\\n",
    "M_{21}  M_{22}  M_{23} =I    &  M_{12} M_{22} M_{32} =I \\\\\n",
    "M_{31}  M_{32}  M_{33} =I    & M_{13}  M_{23}  M_{33} =-I\n",
    "\\end{tabular}%\n",
    "}\n",
    "\\end{table}\n",
    "$$\n",
    "\n",
    "where $M_{ij} \\in \\mathcal{L}  \\left( \\mathbb{C}^4\\right)$ ) and I is the $4\\times4$ identity matrix."
   ]
  },
  {
   "cell_type": "markdown",
   "metadata": {
    "pycharm": {
     "name": "#%% md\n"
    }
   },
   "source": [
    "\n",
    "It follows immediately from the exercise above that regardless of which state $ \\left|\\psi\\right\\rangle $ Alice and Bob share, Alice will always output a correct answer. The only reason we now require $ \\left|\\psi\\right\\rangle $ to specifically be a high dimensional analogue of the Bell state is to apply $A ⊗ I \\left|\\psi\\right\\rangle  = I  \\otimes  A^T  \\left|\\psi\\right\\rangle $, which allows Bob’s condition to always be satisfied. Thus, at the heart of the magic square game is the idea that even if a system of equations has no solution over a low dimensional space, its high dimensional analogue may nevertheless have a solution."
   ]
  },
  {
   "cell_type": "markdown",
   "metadata": {
    "pycharm": {
     "name": "#%% md\n"
    }
   },
   "source": [
    "## Entropy and Entanglement Distillation\n",
    "\n",
    "The theme of the last two lectures has been of a quantum information theoretic nature — we have studied cloning (or rather, lack thereof), entanglement, and non-local correlations. Before progressing to our next main theme of quantum algorithms, we now give a brief taste of more advanced ideas in quantum information. In the process, we will continue getting used to working with quantum states in both the state vector and density operator formalisms.\n",
    "\n",
    "The main questions we ask in this lecture are the following:\n",
    "\n",
    "* How can we quantify the “amount” of entanglement in a composite quantum system?\n",
    "* Under what conditions can “less entangled” states be “converted” to “more entangled” states?\n",
    "\n",
    "The first question will require the foundational concept of entropy, introduced in the context of classical information theory by Claude Shannon in 1948. The entropy is worthy of a lecture in itself, being an extremely important quantity. The second question above is tied to the discovery of entanglement distillation, in which, similar to the age-old process of distilling potable water from salt water (or more fittingly for our analogy, “pure” water from “dirty” water), one can “distill” pure entanglement from noisy entanglement.\n",
    "\n",
    "## Entropy\n",
    "\n",
    "One of the most influential scientific contributions of the 20th century was the 1948 paper of Claude Shannon, “A Mathematical Theory of Communication”, which single-handed founded the field of information theory. Roughly, the aim of information theory is to study information transmission and compression. For this, Shannon introduced the notion of entropy, which intuitively quantifies “how random” a data source is, or the “average information content” of the source. It turns out that a quantum generalization of entropy will be vital to quantifying entanglement; as such, we begin by defining and motivating the classical Shannon entropy."
   ]
  },
  {
   "cell_type": "markdown",
   "metadata": {
    "pycharm": {
     "name": "#%% md\n"
    }
   },
   "source": [
    "### Shannon entropy\n",
    "\n",
    "Let $X$ be a discrete random variable taking values from set $ \\left\\{x_1,\\dots,x_n\\right\\} $, where $ \\text{Pr}\\left(x_i\\right) :=  \\text{Pr}\\left(X=x_i\\right)$ denotes the probability that $X$ takes value $x_i$ . Then, the Shannon entropy $H(X)$ is defined as\n",
    "\n",
    "$$\n",
    "H(X)= \\sum_{i=1}^{n} -\\text{Pr}\\left(x_i\\right) \\log \\left( \\text{Pr}\\left(x_i\\right) \\right)\n",
    "$$\n",
    "\n",
    "Here, the logarithm is taken base 2, and we define $0.\\log\\left(0\\right)=0 $.\n",
    "\n",
    "Before getting our hands dirty understanding $H(x)$, let us step back and motivate it via data compression. Suppose we have a data source whose output we wish to transmit from (say) Germany to Canada. Naturally, we may wish to first _compress_ the data, so that we need to transmit as few bits as possible between the two countries. Furthermore, a compression scheme is useless unless we are later able to _recover_ or _uncompress_ the data in Canada. This raises the natural question: **How few bits can one transmit, so as to ensure recovery of the data on the receiving end?** Remarkably, Shannon’s noiseless coding theorem says that this quantity is given by the entropy! Roughly, the theorem says that in order to reliably transmit N i.i.d. (independently and identically distributed) random variables $X_i$ from a random source $X$, it is necessary and sufficient to instead send $H(X)$ bits of communication.\n",
    "\n",
    " We now explore the sense in which $H(X)$ indeed quantifies the “randomness” or “uncertainty” of $X$ by considering two boundary cases. In the first boundary case, $X$ models a fair coin flip, i.e. $X$ takes value HEADS or TAILS with probability 1/2 each. Then,\n",
    "\n",
    "$$\n",
    "H(X)=- \\frac{1}{2}  \\log\\left( \\frac{1}{2} \\right)- \\frac{1}{2}  \\log\\left( \\frac{1}{2} \\right)= \\frac{1}{2} + \\frac{1}{2} =1\n",
    "$$\n",
    "\n",
    "Therefore, we interpret a fair coin as encoding, on average, _one_ bit of information. Alternatively, in the information transmission setting, we would need to transmit a single bit to convey the answer of the coin flip from Germany to Canada. This intuitively makes sense — since the outcome of the coin flip is completely random, there is no way to guess its outcome in Canada with success probability greater than 1/2 (i.e. a random guess)."
   ]
  },
  {
   "cell_type": "markdown",
   "metadata": {
    "pycharm": {
     "name": "#%% md\n"
    }
   },
   "source": [
    "In the above exercise, there is no “uncertainty”; we know the outcome will be HEADS. Thus, in the communication setting, one can interpret this as saying zero bits of communication are required to transmit the outcome of the coin flip from Germany to Canada (assuming both Germany and Canada know the probabilities of obtaining HEADS and TAILS beforehand). Indeed, the answer to the exercise above is $H(Y) = 0$."
   ]
  },
  {
   "cell_type": "markdown",
   "metadata": {
    "pycharm": {
     "name": "#%% md\n"
    }
   },
   "source": [
    "The entropy formula is odd-looking; to understand how it is derived, the key observation is the intuition behind the coin flip examples, which says that “when an event is _less_ likely to happen, it reveals _more_ information”. To capture this intuition, Shannon started with a formula for _information content_ $I(x_i)$, which for any possible event $x_i$ for random variable $X$, is given by\n",
    "\n",
    "$$\n",
    "I  \\left(x_i\\right)= \\log\\left( \\frac{1}{ \\text{Pr}\\left(x_i\\right) } \\right)=- \\log\\left( \\text{Pr}\\left(x_i\\right) \\right)\n",
    "$$\n",
    "\n",
    "Since the log function is strictly monotonically increasing (i.e. $I(x) > I(y)$ if $x > y$ for $x, y  \\in  (0, \\infty)$), it holds that $I(x_i)$ captures the idea that “rare events yield more information”. But $I(x)$ also has three other important properties we expect of an “information measure”; here are the first two:\n",
    "1. (Information is non-negative) $I(x)  \\geq  0$\n",
    "2. if $ \\text{Pr}\\left(x\\right)  = 1$, then $I(x) = 0$. (If an event occurs with certainty, said occurrence conveys no information)\n",
    "\n",
    "\n",
    "For the third important property, we ask — why did we use the log function? Why not any other monotonically increasing function satisfying properties (1) and (2) above? Recall that, by definition, two random variables $X$ and $Y$ are independent if\n",
    "\n",
    "$$\n",
    " \\text{Pr}\\left(X = x \\text{ and } Y = y\\right)=  \\text{Pr}\\left(X = x\\right)\\text{Pr}\\left(Y = y\\right) .\n",
    "$$\n",
    "\n",
    "Moreover, if $X$ and $Y$ are independent, then intuitively one expects the information conveyed by the joint event $z := (X = x \\text{ and } Y = y)$ to be _additive_, i.e. $I(z) = I(x) + I(y)$. But this is precisely what the information content I(x) satisfies, due to its use of the log function."
   ]
  },
  {
   "cell_type": "markdown",
   "metadata": {
    "pycharm": {
     "name": "#%% md\n"
    }
   },
   "source": [
    "We can now use the information content to derive the formula for entropy — $H(X)$ is simply the _expected_ information content over all possible events $ \\left\\{  x_1 \\dots  x_n \\right\\} $. (Recall here that for random variable $X$ taking values $x  \\in  \\{x_i\\}$, its expectation $E[x]$ is given by $E[x] =  \\sum_{i} \\text{Pr}\\left(x_i\\right). xi$ ) This is precisely why at the start of this section, we referred to $H(x)$ as the **average** information content of a data source."
   ]
  },
  {
   "cell_type": "markdown",
   "metadata": {
    "pycharm": {
     "name": "#%% md\n"
    }
   },
   "source": [
    "### Von Neumann Entropy\n",
    "\n",
    "Recall the first aim of this lecture was to use entropy to measure entanglement. For this, we shall require a quantum generalization of the Shannon entropy $H(X)$, named as  the *von Neumann entropy* $S( \\rho )$, for density operator $ \\rho $. To motivate this definition, let us recall the “hierarchy of matrix classes” we introduced in discussing measurements:\n",
    "* Hermitian operators, $\\text{Herm}  \\left(\\mathbb{C}^d\\right) $ , which generalize the real numbers.\n",
    "* Positive semidefinite operators, $\\text{Pos} \\left(\\mathbb{C}^d\\right)$ , which generalize the non-negative real numbers.\n",
    "* Orthogonal projection operators, $\\Pi\\left(\\mathbb{C}^d\\right)$, which generalize the set $\\{0, 1\\}$.\n",
    "\n",
    "Note that $\\Pi\\left(\\mathbb{C}^d\\right) \\subseteq \\text{Pos} \\left(\\mathbb{C}^d\\right) \\subseteq \\text{Herm}  \\left(\\mathbb{C}^d\\right)$ , and that the notion of “generalize” above means the eigenvalues of the operators fall into the respective class the operators generalize. (For example, matrices in $\\text{Pos}  \\left(\\mathbb{C}^d\\right)$ have non-negative eigenvalues.) Applying this same interpretation to the set of *density operators* acting on $\\mathbb{C}^d$, $D  \\left(\\mathbb{C}^d\\right)$ , we thus have that density operators generalize the notion of a *probability distribution*. Indeed, any probability distribution can be embedded into a diagonal density matrix."
   ]
  },
  {
   "cell_type": "markdown",
   "metadata": {
    "pycharm": {
     "name": "#%% md\n"
    }
   },
   "source": [
    "Since the eigenvalues $ \\lambda_i \\left( \\rho \\right) $ of a density operator $ \\rho  \\in D \\left( \\mathbb{C} ^d\\right) $ form a probability distribution, the natural approach for defining a quantum entropy formula is to apply the classical Shannon entropy to the spectrum of $ \\rho $:\n",
    "\n",
    "$$\n",
    "S \\left( \\rho \\right):=H \\left( \\left\\{ \\lambda _i \\left( \\rho \\right) \\right\\}_{i=1}^d \\right)= \\sum_{i=1}^{d}- \\lambda_i \\left(\\rho\\right) \\log\\left(\\lambda_i \\left(\\rho\\right)\\right)\n",
    "$$\n",
    "\n",
    "**Operator functions**. It is important to pause now and take stock of what we have done in defining $S( \\rho )$ : In order to apply a function $f :  \\mathbb{R}  \\mapsto  \\mathbb{R} $ to a Hermitian matrix $H  \\in  \\text{Herm}  \\left(\\mathbb{C}^d\\right)$ , we instead applied $f$ to the *eigenvalues* of $H$. Why does this “work”? Let us look at the Taylor series expansion of $f$ , which for e.g. $f = e^x$ is (the series converges for all x)\n",
    "\n",
    "$$\n",
    "e^x= \\sum_{i=1}^{\\infty} \\frac{x^n}{n!}=1+x+ \\frac{x^2}{2!}+\\frac{x^3}{3!}+\\dots\n",
    "$$\n",
    "\n",
    "This suggests an idea — to define $e^H$ , perhaps we can substitute $H$ in the right hand side of the Taylor series expansion of $e^x$ :\n",
    "\n",
    "$$\n",
    "e^H:= I+H+ \\frac{H^2}{2!}+\\frac{H^3}{3!}+\\dots\n",
    "$$\n",
    "\n",
    "Indeed, this leads to our desired definition; that to generalize the function $f(x) = e^x$ to Hermitian matrices, we apply $f$ to the eigenvalues of $H$."
   ]
  },
  {
   "cell_type": "markdown",
   "metadata": {
    "pycharm": {
     "name": "#%% md\n"
    }
   },
   "source": [
    "This idea of applying functions $f :  \\mathbb{R}  \\mapsto  \\mathbb{R} $ to the eigenvalues of Hermitian operators is used so frequently in quantum information that we give such “generalized $f$ ” a name — *operator functions*. In the case of $S( \\rho )$, by setting $f(x) =  \\log\\left(x\\right)$, we can rewrite $S( \\rho )$ as\n",
    "\n",
    "$$\n",
    "S( \\rho )=- \\text{Tr}\\left( \\rho  \\log\\left( \\rho \\right) \\right)\n",
    "$$\n"
   ]
  },
  {
   "cell_type": "markdown",
   "metadata": {
    "pycharm": {
     "name": "#%% md\n"
    }
   },
   "source": [
    "#### Properties of the von Neumann entropy\n",
    "\n",
    "Let us now see how properties of $H(X)$ carry over to $S( \\rho )$. These will prove crucial in our understanding of quantifying entanglement shortly.\n",
    "\n",
    "1. *When does a quantum state have no entropy?*\n",
    "   Recall in our biased coin flip example that if an outcome occurs with probability 1 in our distribution, then $H(X) = 0$. Quantumly, the analogue of this statement is that $S( \\rho ) = 0$ if and only if $ \\rho $ is a pure state, i.e. $ \\rho = \\left| \\psi \\right\\rangle\\!\\left\\langle \\psi \\right| $ for some $ \\left|\\psi\\right\\rangle  \\in  \\mathbb{C}^d$ . This is because a recall a pure state is the special case of a mixed state in which one of the states in the preparation procedure is picked with certainty.\n",
    "2. *When does a quantum state have maximum entropy?*\n",
    "   We saw that when $X$ represents a fair coin flip, $H(X) = 1$. This is, in fact, the unique distribution maximizing $H$. Applying this directly to the definition of $S( \\rho )$, we find that $S( \\rho )$ is maximized over all $ \\rho  \\in D \\left( \\mathbb{C}^2\\right)$ if and only if both eigenvalues of $ \\rho $ are 1/2. This implies that $ \\rho  = I/2$. Moreover, this statement generalizes to any dimension $d  \\geq  2$ — for $ \\rho  \\in D \\left( \\mathbb{C}^d\\right)$ , $S( \\rho )$ is maximized if and only if $ \\rho  = I/d$.\n",
    "3. *Quantum information is non-negative.*\n",
    "   Since $H(X)  \\geq  0$, it immediately follows by definition that $S( \\rho )  \\geq  0$.\n",
    "4. *What is the quantum analogue of independent probability distributions $X$ and $Y$* ?\n",
    "   Recall that in defining information content, the log function was chosen so as to ensure information is additive when two random variables $X$ and $Y$ are independently distributed. The quantum analogue of this has a natural expression: Let $ \\rho, \\sigma  \\in D \\left( \\mathbb{C}^d\\right)  $, be density matrices. Then, $ \\rho $ and $ \\sigma $ are independent if their joint state is $ \\rho  \\otimes  \\sigma $. In the next exercise, you will prove that this indeed preserves our desired additivity property of information for independent quantum states.\n",
    "\n",
    "There are other important properties of $S( \\rho )$ which we do not wish to focus on at present; for completeness, however, let us briefly mention two more: (1) For arbitrary, possibly entangled, bipartite mixed states $ \\rho_{AB} $:$S \\left(\\rho_{AB}\\right) \\leq S \\left(\\rho_{A}\\right)+S \\left(\\rho_{B}\\right) $ (subadditivity), and (2) $S \\left( \\sum_{i=1}^{n} p_i \\rho_i\\right) \\geq \\sum_{i=1}^{n} p_i S \\left(\\rho_i\\right)  $ for $ \\left\\{p_i\\right\\}_{i=1}^{m} $ (concavity). Here, and henceforth in this course, we use the shorthand\n",
    "\n",
    "$$\n",
    " \\rho_A :=  \\text{Tr}_B\\left( \\rho_{AB}\\right)\n",
    "$$"
   ]
  },
  {
   "cell_type": "markdown",
   "metadata": {
    "pycharm": {
     "name": "#%% md\n"
    }
   },
   "source": [
    "## Quantifying entanglement in composite quantum systems\n",
    "\n",
    "With the notion of entropy in hand, we return to the following fundamental question. Let\n",
    "$ \\rho_{AB} \\in D \\left( \\mathbb{C}^d \\otimes  \\mathbb{C}^d\\right)  $ be a bipartite quantum state. Can one efficiently determine if $\\rho_{AB}$ is entangled? (Recall this means that $\\rho_{AB}$ cannot be written $\\rho_{AB} =  \\sum_{i=1} p_i  \\rho_{A,i}  \\otimes  \\rho_{B,i}$ as a convex combination of product states.) Roughly, if one uses $d$ to encode the size of the input (i.e. the input is the entire $d^2\\times d^2$ matrix representing $\\rho_{A,B}$ ), then deciding this question turns out to be NP-hard. This directly implies that quantifying “how much” entanglement is in $\\rho_{A,B}$ is also NP-hard. However, there is a special case in which we _can_ do both tasks efficiently — the case of bipartite _pure_ states $ \\left|\\psi_{AB}\\right\\rangle \\in  \\mathbb{C}^d \\otimes  \\mathbb{C}^d $ . It is here in which the von Neumann entropy plays a role.\n",
    "\n",
    "In fact, a previous lecture already discussed an efficient test for entanglement for $\\left|\\psi_{AB}\\right\\rangle$ — the latter is entangled if and only if\n",
    "\n",
    "  $$\n",
    "   \\rho_A:= \\text{Tr}_B\\left( \\left| \\psi_{AB} \\right\\rangle\\!\\left\\langle \\psi_{AB} \\right| \\right)\n",
    "  $$\n",
    "\n",
    "has rank at least 2. This, in turn, followed because it immediately implies the Schmidt rank of $ \\left|\\psi_{AB}\\right\\rangle $ is at least 2. However, we can say more. Suppose we have Schmidt decomposition\n",
    "\n",
    "  $$\n",
    "   \\left|\\psi_{AB}\\right\\rangle= \\sum_{i=1}^{d}s_i \\left| a_i \\right\\rangle\\!\\left\\langle b_i \\right|\n",
    "  $$\n",
    "\n",
    "Then, intuitively, as with the example of a Bell pair, $ \\left|\\psi_{AB}\\right\\rangle $ is “highly entangled” if all the Schmidt coefficients $s_i$ are approximately equal in magnitude, and $ \\left|\\psi_{AB}\\right\\rangle $ is “weakly entangled” if there exists a single $s_i$ whose magnitude is approximately 1. Do we know of a function which quantifies precisely this sort of behavior on the set $\\{s_i\\}$? Indeed, the entropy function! This notion of $s_i$ being “spread out” versus “concentrated” is highly reminiscent of our fair versus biased coin flip example for the Shannon entropy. We can therefore use the von Neumann entropy to define an entanglement measure $E( \\left|\\psi_{AB}\\right\\rangle )$ as\n",
    "\n",
    "  $$\n",
    "  E \\left(\\left|\\psi_{AB}\\right\\rangle\\right):=S \\left( \\rho_A\\right)\n",
    "  $$\n",
    "\n",
    "Finally, let us close this section with a natural question — does $E \\left(\\left|\\psi_{AB}\\right\\rangle\\right)$ still measure entanglement when its input is allowed to be a mixed state $ \\rho_{AB} $ (as opposed to a pure state $ \\left|\\psi_{AB}\\right\\rangle $? This is the last question in the following exercise."
   ]
  },
  {
   "cell_type": "markdown",
   "metadata": {
    "pycharm": {
     "name": "#%% md\n"
    }
   },
   "source": [
    "## Entanglement distillation\n",
    "\n",
    "Now that we have a notion of how to quantify entanglement in pure states, we can become greedy — under what circumstances is it possible to “increase” the amount of entanglement in a composite quantum system? This is a highly non-trivial question, as fundamental communication tasks such as teleportation require highly entangled Bell pairs as a resource. Unfortunately, experimentally producing such pure states is generally a difficult task due to noise from the environment. In other words, in a lab one is typically able to produce _mixed_ states, as opposed to pure states. Moreover, *even if* Alice could produce perfect Bell pairs in a lab on Earth, when she sends half of a Bell pair to Bob on Mars, the transmitted qubit will again typically be subject to noise, yielding a shared mixed state $ \\rho_{AB}$ between Alice and Bob. Do Alice and Bob have any hope of running the teleportation protocol given $ \\rho_{AB}$ ?\n",
    "\n",
    "**Local Operations and Classical Communication (LOCC).** To answer the question,it is important to first define the rules of the game. Since Alice and Bob are spatially separated, they are not able to apply joint quantum operations to both systems $A$ and $B$, e.g. they cannot apply a non-factorizable unitary $U_{AB}  \\in  U \\left( \\mathbb{C}^d \\otimes  \\mathbb{C}^d\\right)$ to $ \\rho_{AB}$ . However, they _can_ apply local unitaries and measurements, e.g. factorizable unitaries of the form $U_A \\otimes U_B$ for $U_A,UB  \\in  U( \\mathbb{C}^d)$ (i.e.\n",
    "Alice locally applies $U_A$ , Bob locally applies $U_B$ ). They can also pick up the phone and call one another to transmit classical information. Taken together, this set of allowed operations is given a name: Local Operations and Classical Communication (LOCC). The question is thus: *Given a shared mixed state $ \\rho_{AB}$ , can Alice and Bob use LOCC to “purify” or “distill” Bell states out of $ \\rho_{AB}$ ?* The answer is sometimes yes, and protocols accomplishing this are called distillation protocols, as they recover “pure” entanglement from “noisy” or mixed state entanglement.\n",
    "\n",
    "**A simple distillation protocol.** We shall discuss a simple distillation protocol, known as the *recurrence protocol*. Given as input a mixed two-qubit state $ \\rho_{AB} \\in D \\left( \\mathbb{C}^2 \\otimes  \\mathbb{C}^2 \\right) $  our aim is to distill the Bell state known as the *singlet*,   $\\left|\\Psi^-\\right\\rangle =  \\frac{1}{\\sqrt{2}}  \\left( \\left|01\\right\\rangle - \\left|10\\right\\rangle \\right)$  ; note $I \\otimes Y \\left|\\Psi^-\\right\\rangle =i \\left|\\Phi^+\\right\\rangle $, making it easy to convert one Bell state into the other for the teleportation scheme. There is a required precondition for the protocol to work — the input state $ \\rho_{AB}$ must have sufficient initial overlap with $ \\left|\\Psi^-\\right\\rangle $ i, i.e.\n",
    "\n",
    "$$\n",
    "F ( \\rho_{AB} ) :=  \\left\\langle \\Psi^- \\right| \\rho_{AB}\\left| \\Psi^- \\right\\rangle  > \\frac{1}{2}\n",
    "$$\n",
    "\n",
    "In other words, in transmitting half of $ \\left|\\Psi^-\\right\\rangle $ from Alice to Bob, the resulting mixed state $ \\rho_{AB}$ should not have deviated “too far” from $ \\left|\\Psi^-\\right\\rangle $. Henceforth, we shall use shorthand $F$ to denote $F ( \\rho_{AB} )$ for brevity.\n",
    "\n",
    "Suppose Alice and Bob share two copies of $ \\rho_{AB}$ ; let us label them $ \\rho_{A_1B_1}$ and $ \\rho_{A_2B_2}$ , where Alice holds systems $A_1 , A_2$ , and Bob holds $B_1 , B_2$ . Each round of the distillation protocol proceeds as follows.\n",
    "\n",
    "1. (Twirling operation) Alice picks a Pauli operator $U$ from set $\\{I, X, Y, Z\\}$ uniformly at random, and communicates this choice to Bob. They each locally apply operator $\\sqrt{U}$ to $ \\rho_{A_iB_i}$ for $i  \\in  \\{1, 2\\}$ (note that $U$ is defined using the notion of operator functions), obtaining\n",
    "\n",
    "   $$\n",
    "    \\sigma_{A_iB_i}:= \\left(\\sqrt{U_A} \\otimes\\sqrt{U_B} \\right) \\rho_{A_iB_i}\\left(\\sqrt{U_A}^\\dagger  \\otimes\\sqrt{U_B}^\\dagger  \\right)\n",
    "   $$\n",
    "\n",
    "   This random choice of Pauli and its subsequent local application is together called the *twirling map* $\\Phi:D \\left( \\mathbb{C}^2 \\otimes  \\mathbb{C}^2\\right) \\mapsto D \\left( \\mathbb{C}^2 \\otimes  \\mathbb{C}^2\\right) $, and is not a unitary map (due to the random choice over Pauli operators); nevertheless, it can clearly be implemented given the ability to flip random coins and apply arbitrary single qubit gates. (The formal framework for studying such operations is via *Trace Preserving Completely Positive Maps*, and is beyond the scope of this course.) The nice thing about the twirling operation is that, for any input $ \\rho_{AB}$ , $\\Phi \\left(\\rho_{AB}\\right) $ can be diagonalized in the Bell basis, i.e. can be written\n",
    "\n",
    "    $$\n",
    "    \\Phi \\left(\\rho_{AB}\\right)  = F  \\left| \\Psi^- \\right\\rangle\\!\\left\\langle \\Psi^- \\right|+  \\frac{1-F}{3} \\left| \\Psi^+ \\right\\rangle\\!\\left\\langle \\Psi^+ \\right| +  \\frac{1-F}{3} \\left| \\Phi^+ \\right\\rangle\\!\\left\\langle \\Phi^+ \\right| + \\frac{1-F}{3} \\left| \\Phi^- \\right\\rangle\\!\\left\\langle \\Phi^- \\right|\n",
    "    $$\n",
    "\n",
    "    for Bell basis $ \\left\\{ \\left|\\Phi^+\\right\\rangle , \\left|\\Phi^-\\right\\rangle , \\left|\\Psi^+\\right\\rangle , \\left|\\Psi^-\\right\\rangle \\right\\} $, where $F$ is given above\n",
    "\n",
    "2. (Convert from $ \\left|\\Psi^-\\right\\rangle $ to $ \\left|\\Phi^+\\right\\rangle $ Alice applies Pauli $Y$ to her half of each state to obtain states:\n",
    "\n",
    "   $$\n",
    "    \\sigma_{A_iB_i}=\\frac{1-F}{3} \\left| \\Psi^- \\right\\rangle\\!\\left\\langle \\Psi^- \\right| +  \\frac{1-F}{3} \\left| \\Psi^+ \\right\\rangle\\!\\left\\langle \\Psi^+ \\right| + F \\left| \\Phi^+ \\right\\rangle\\!\\left\\langle \\Phi^+ \\right| +\\frac{1-F}{3} \\left| \\Phi^- \\right\\rangle\\!\\left\\langle \\Phi^- \\right|\n",
    "   $$\n",
    "\n",
    "   This shifts most of the weight in $\\Phi( \\rho_{A_iB_i} $ from $ \\left|\\Psi^-\\right\\rangle $ to $ \\left|\\Phi^+\\right\\rangle $, since $F > 1/2$.\n",
    "\n",
    "3. (Application of CNOT gates) Alice applies a CNOT gate with qubit $A_1$ as the control and $A_2$ as the target. Bob does the same for $B_1$ and $B_2$ .\n",
    "\n",
    "4. (Local measurements) Alice and Bob each locally measure $A_2$ and $B_2$ in the standard basis, obtaining outcomes $a$ and $b$ in $\\{0, 1\\}$, respectively. They pick up the phone to compare their measurement results $a$ and $b$. If $a = b$, they keep the remaining composite system on $AB$, denoted $ \\sigma^\\prime_{A_1B_1}  $. Otherwise if $a \\neq b$, they throw out all systems and start again.\n",
    "\n",
    "5. (Convert from $ \\left|\\Phi^+\\right\\rangle $ to $ \\left|\\Psi^-\\right\\rangle $) Alice applies Pauli $Y$ to her half of $\\sigma^\\prime_{A_1B_1}$ to convert its $ \\left|\\Phi^+\\right\\rangle $ component back to $ \\left|\\Psi^-\\right\\rangle $.\n",
    "\n",
    "\n",
    "To get a better sense of this protocol in action, let us apply it to a concrete example. Suppose Alice sends half of the singlet to Bob, and along the way, the state $ \\left|\\Psi^-\\right\\rangle $ is injected with some completely random noise, denoted by the identity matrix:\n",
    "\n",
    "$$\n",
    " \\rho_{AB}=  \\frac{1}{2}  \\left| \\Psi^- \\right\\rangle\\!\\left\\langle \\Psi^- \\right| +  \\frac{1}{8} I = \\frac{3}{4} \\left| \\Psi^- \\right\\rangle\\!\\left\\langle \\Psi^- \\right| + \\frac{1}{12} \\left| \\Psi^+ \\right\\rangle\\!\\left\\langle \\Psi^+ \\right| + \\frac{1}{12} \\left| \\Phi^+ \\right\\rangle\\!\\left\\langle \\Phi^+ \\right| + \\frac{1}{12} \\left| \\Phi^- \\right\\rangle\\!\\left\\langle \\Phi^- \\right|\n",
    "$$\n",
    "\n",
    "where the second equality follows by recalling the identity matrix diagonalizes in any basis, including the Bell basis. (The noise-inducing channel above is formally known as the _depolarizing channel_ in quantum information theory.)\n",
    "\n",
    "\n",
    "Steps 3 and 4 are a bit messier. The intuition here is that the CNOT entangles $ \\sigma_{A_1B_1}$ with $ \\sigma_{A_2B_2}$ , and the measurement forces the bits in the second system (formerly in state $ \\sigma_{A_2B_2}$ ) to match; via the entanglement just created, this increases the weight on the\n",
    "terms where bits match, i.e. $ \\left| \\Phi^+ \\right\\rangle\\!\\left\\langle \\Phi^+ \\right| $ and $ \\left| \\Phi^- \\right\\rangle\\!\\left\\langle \\Phi^- \\right| $. Thus, the final Step 5 will yield a state with higher overlap on the desired singlet state $ \\left|\\Psi^-\\right\\rangle $.\n",
    "\n",
    "To run through the full technical analysis for Steps 3 and 4 would be tedious, so we analyze one term of the computation for brevity. Before Step 3 is run, Alice and Bob share state\n",
    "\n",
    "$$\n",
    " \\sigma_{A_1B_1} \\otimes \\sigma_{A_2B_2} \\in D \\left( \\mathbb{C}^2 \\otimes \\mathbb{C}^2 \\otimes\\mathbb{C}^2 \\otimes\\mathbb{C}^2 \\right)\n",
    "$$\n",
    "\n",
    "where recall Alice holds qubits $A_1$ , $A_2$ , and Bob holds $B_1$ , $B_2$ . Since each $\\sigma_{A_iB_i}$ has 4 terms in its mixture, the tensor product has 16 terms. By linearity, Step 3 then applies gates CNOT$_{A_1A_2}$ and CNOT$_{B_1B_2}$ to each of these 16 terms, where our notational convention is that CNOT$_{12}$ has qubit 1 as the control and qubit 2 as the target.\n",
    "\n",
    "Finally, let us briefly state what this protocol does. A careful but tedious analysis yields that with probability at least 1/4, this protocol maps the input state $ \\rho_{A_1B_1} \\otimes \\rho_{A_2B_2}$ to an output state $ \\sigma^\\prime_{A_1B_1} $ such that (for $F_\\rho  := F ( \\rho_{A_1B_1} )$)\n",
    "\n",
    "$$\n",
    "F (  \\sigma^\\prime_{A_1B_1} )= \\frac{F_\\rho^2+ \\frac{1}{9} \\left(1-F_\\rho\\right)^2  }{F_\\rho^2+ \\frac{2}{3}F_\\rho \\left(1-F_\\rho\\right)+ \\frac{5}{9} \\left(1-F_\\rho\\right)^2    }\n",
    "$$\n",
    "\n",
    "So long as $F_\\rho > 1/2$, one can show $F (  \\sigma^\\prime_{A_1B_1} )>F_\\rho$ ; thus, recursively applying this protocol (using many pairs of input states $ \\rho_{AB}$ ) improves our overlap with our desired target state of $ \\left|\\Psi^-\\right\\rangle $."
   ]
  }
 ],
 "metadata": {
  "kernelspec": {
   "display_name": "Python 3 (ipykernel)",
   "language": "python",
   "name": "python3"
  },
  "language_info": {
   "codemirror_mode": {
    "name": "ipython",
    "version": 3
   },
   "file_extension": ".py",
   "mimetype": "text/x-python",
   "name": "python",
   "nbconvert_exporter": "python",
   "pygments_lexer": "ipython3",
   "version": "3.8.18"
  }
 },
 "nbformat": 4,
 "nbformat_minor": 1
}
