{
  "cells": [
    {
      "cell_type": "code",
      "execution_count": null,
      "metadata": {
        "id": "WYq8L04NV3SA",
        "pycharm": {
          "name": "#%%\n"
        }
      },
      "outputs": [],
      "source": [
        "!pip install qiskit\n",
        "!pip install qiskit-Aer\n",
        "!pip install matplotlib\n",
        "!pip install pylatexenc\n",
        "!pip install qiskit-ibm-runtime\n",
        "!pip install kaleidoscope"
      ]
    },
    {
      "cell_type": "markdown",
      "metadata": {
        "id": "WP7LCfrpV3SC"
      },
      "source": [
        "# Hands on 3\n",
        "\n",
        "Today's session starts with a cheatsheet on single qubit gates, and we will delve deeper into measurement\n",
        "\n",
        "## Single Qubit Gates\n",
        "In the previous section we looked at all the possible states a qubit could be in. We saw that qubits could be represented by 2D vectors, and that their states are limited to the form:\n",
        "\n",
        "$$ |q\\rangle = \\cos{\\tfrac{\\theta}{2}}|0\\rangle + e^{i\\phi}\\sin{\\tfrac{\\theta}{2}}|1\\rangle $$\n",
        "\n",
        "Where $\\theta$ and $\\phi$ are real numbers. In this section we will cover _gates,_ the operations that change a qubit between these states. Due to the number of gates and the similarities between them, this chapter is at risk of becoming a list. To counter this, we have included a few digressions to introduce important ideas at appropriate places throughout the chapter.\n",
        "\n",
        "### Contents\n",
        "\n",
        "1. [The Pauli Gates](#pauli)    \n",
        "    1.1 [The X-Gate](#xgate)    \n",
        "    1.2 [The Y & Z-Gates](#ynzgatez)    \n",
        "2. [Digression: The X, Y & Z-Bases](#xyzbases)    \n",
        "3. [The Hadamard Gate](#hgate)    \n",
        "4. [Digression: Measuring in Different Bases](#measuring)    \n",
        "5. [The P-gate](#rzgate)    \n",
        "6. [The I, S and T-gates](#istgates)    \n",
        "    6.1 [The I-Gate](#igate)    \n",
        "    6.2 [The S-Gate](#sgate)    \n",
        "    6.3 [The T_Gate](#tgate)    \n",
        "7. [The General U-gate](#generalU)    \n",
        "\n",
        "In _The Atoms of Computation_ we came across some gates and used them to perform a classical computation. An important feature of quantum circuits is that, between initialising the qubits and measuring them, the operations (gates) are *_always_* reversible! These reversible gates can be represented as matrices, and as rotations around the Bloch sphere."
      ]
    },
    {
      "cell_type": "code",
      "execution_count": null,
      "metadata": {
        "id": "jjh6JCxGV3SE",
        "tags": [
          "thebelab-init"
        ]
      },
      "outputs": [],
      "source": [
        "\n",
        "from qiskit import QuantumCircuit, assemble\n",
        "from qiskit_aer import Aer\n",
        "from qiskit.visualization import plot_histogram, plot_bloch_multivector\n",
        "from math import pi, sqrt\n",
        "from qiskit.visualization import plot_bloch_multivector, plot_histogram\n",
        "sim = Aer.get_backend('aer_simulator')"
      ]
    },
    {
      "cell_type": "markdown",
      "metadata": {
        "id": "hNdgz7ItV3SE"
      },
      "source": [
        "### 1. The Pauli Gates <a id=\"pauli\"></a>\n",
        "You should be familiar with the Pauli matrices from the linear algebra section. If any of the maths here is new to you, you should use the linear algebra section to bring yourself up to speed. We will see here that the Pauli matrices can represent some very commonly used quantum gates.\n",
        "\n",
        "#### 1.1 The X-Gate <a id=\"xgate\"></a>\n",
        "The X-gate is represented by the Pauli-X matrix:\n",
        "\n",
        "$$ X = \\begin{bmatrix} 0 & 1 \\\\ 1 & 0 \\end{bmatrix} = |0\\rangle\\langle1| + |1\\rangle\\langle0| $$\n",
        "\n",
        "To see the effect a gate has on a qubit, we simply multiply the qubit’s statevector by the gate. We can see that the X-gate switches the amplitudes of the states $|0\\rangle$ and $|1\\rangle$:\n",
        "\n",
        "$$ X|0\\rangle = \\begin{bmatrix} 0 & 1 \\\\ 1 & 0 \\end{bmatrix}\\begin{bmatrix} 1 \\\\ 0 \\end{bmatrix} = \\begin{bmatrix} 0 \\\\ 1 \\end{bmatrix} = |1\\rangle$$\n"
      ]
    },
    {
      "cell_type": "markdown",
      "metadata": {
        "id": "e8UW7hEvV3SE"
      },
      "source": [
        "In Qiskit, we can create a short circuit to verify this:"
      ]
    },
    {
      "cell_type": "code",
      "execution_count": null,
      "metadata": {
        "id": "4svnUxVAV3SF"
      },
      "outputs": [],
      "source": [
        "# Let's do an X-gate on a |0> qubit\n",
        "qc = QuantumCircuit(1)\n",
        "qc.x(0)\n",
        "qc.draw('mpl')"
      ]
    },
    {
      "cell_type": "markdown",
      "metadata": {
        "id": "ELv3g-Y8V3SF"
      },
      "source": [
        "Let's see the result of the above circuit. **Note:** Here we use `plot_bloch_multivector()` which takes a qubit's statevector instead of the Bloch vector."
      ]
    },
    {
      "cell_type": "code",
      "execution_count": null,
      "metadata": {
        "id": "otWZsYduV3SG"
      },
      "outputs": [],
      "source": [
        "# Let's see the result\n",
        "qc.save_statevector()\n",
        "result = sim.run(qc).result()\n",
        "final_state = result.get_statevector()\n",
        "plot_bloch_multivector(final_state)"
      ]
    },
    {
      "cell_type": "markdown",
      "metadata": {
        "id": "u6OjZ_6BV3SG",
        "pycharm": {
          "name": "#%% md\n"
        }
      },
      "source": [
        "We can indeed see the state of the qubit is $|1\\rangle$ as expected. We can think of this as a rotation by $\\pi$ radians around the *x-axis* of the Bloch sphere. The X-gate is also often called a NOT-gate, referring to its classical analogue.\n",
        "\n",
        "#### 1.2 The Y & Z-gates  <a id=\"ynzgatez\"></a>\n",
        "Similarly to the X-gate, the Y & Z Pauli matrices also act as the Y & Z-gates in our quantum circuits:\n",
        "\n",
        "\n",
        "$$ Y = \\begin{bmatrix} 0 & -i \\\\ i & 0 \\end{bmatrix} \\quad\\quad\\quad\\quad Z = \\begin{bmatrix} 1 & 0 \\\\ 0 & -1 \\end{bmatrix} $$\n",
        "\n",
        "$$ Y = -i|0\\rangle\\langle1| + i|1\\rangle\\langle0| \\quad\\quad Z = |0\\rangle\\langle0| - |1\\rangle\\langle1| $$\n",
        "\n",
        "And, unsurprisingly, they also respectively perform rotations by $\\pi$ around the y and z-axis of the Bloch sphere.\n"
      ]
    },
    {
      "cell_type": "markdown",
      "metadata": {
        "collapsed": false,
        "id": "hf79vfJdV3SH",
        "jupyter": {
          "outputs_hidden": false
        }
      },
      "source": [
        "In Qiskit, we can apply the Y and Z-gates to our circuit using:"
      ]
    },
    {
      "cell_type": "code",
      "execution_count": null,
      "metadata": {
        "id": "8moMMBLAV3SH",
        "pycharm": {
          "name": "#%%\n"
        }
      },
      "outputs": [],
      "source": [
        "qc.y(0) # Do Y-gate on qubit 0\n",
        "qc.z(0) # Do Z-gate on qubit 0\n",
        "qc.draw('mpl')"
      ]
    },
    {
      "cell_type": "markdown",
      "metadata": {
        "id": "6lqpxLpzV3SI"
      },
      "source": [
        "### 2. Digression: The X, Y & Z-Bases <a id=\"xyzbases\"></a>"
      ]
    },
    {
      "cell_type": "markdown",
      "metadata": {
        "id": "FenGHvVtV3SI"
      },
      "source": [
        "#### Reminder: Eigenvectors of Matrices\n",
        "We have seen that multiplying a vector by a matrix results in a vector:\n",
        "     \n",
        "$$\n",
        "    M|v\\rangle  = |v'\\rangle \\leftarrow \\text{new vector}\n",
        "$$\n",
        "\n",
        "If we chose the right vectors and matrices, we can find a case in which this matrix multiplication is the same as doing a multiplication by a scalar:\n",
        "      \n",
        "$$\n",
        "    M|v\\rangle  = \\lambda|v\\rangle\n",
        "$$\n",
        "\n",
        "(Above, $M$ is a matrix, and $\\lambda$ is a scalar). For a matrix $M$, any vector that has this property is called an <i>eigenvector</i> of $M$. For example, the eigenvectors of the Z-matrix are the states $|0\\rangle$ and $|1\\rangle$:\n",
        "\n",
        "$$\n",
        "      \\begin{aligned}\n",
        "      Z|0\\rangle & = |0\\rangle \\\\\n",
        "      Z|1\\rangle & = -|1\\rangle\n",
        "      \\end{aligned}\n",
        "$$\n",
        "\n",
        "Since we use vectors to describe the state of our qubits, we often call these vectors <i>eigenstates</i> in this context. Eigenvectors are very important in quantum computing, and it is important you have a solid grasp of them.\n"
      ]
    },
    {
      "cell_type": "markdown",
      "metadata": {
        "id": "R4tcazWeV3SJ"
      },
      "source": [
        "You may also notice that the Z-gate appears to have no effect on our qubit when it is in either of these two states. This is because the states $|0\\rangle$ and $|1\\rangle$ are the two _eigenstates_ of the Z-gate. In fact, the _computational basis_ (the basis formed by the states $|0\\rangle$ and $|1\\rangle$) is often called the Z-basis. This is not the only basis we can use, a popular basis is the X-basis, formed by the eigenstates of the X-gate. We call these two vectors $|+\\rangle$ and $|-\\rangle$:\n",
        "\n",
        "$$ |+\\rangle = \\tfrac{1}{\\sqrt{2}}(|0\\rangle + |1\\rangle) = \\tfrac{1}{\\sqrt{2}}\\begin{bmatrix} 1 \\\\ 1 \\end{bmatrix}$$\n",
        "\n",
        "$$ |-\\rangle = \\tfrac{1}{\\sqrt{2}}(|0\\rangle - |1\\rangle) = \\tfrac{1}{\\sqrt{2}}\\begin{bmatrix} 1 \\\\ -1 \\end{bmatrix} $$\n",
        "\n",
        "Another less commonly used basis is that formed by the eigenstates of the Y-gate. These are called:\n",
        "\n",
        "$$ |\\circlearrowleft\\rangle, \\quad |\\circlearrowright\\rangle$$\n",
        "\n",
        "We leave it as an exercise to calculate these. There are in fact an infinite number of bases; to form one, we simply need two orthogonal vectors. The eigenvectors of both Hermitian and unitary matrices form a basis for the vector space. Due to this property, we can be sure that the eigenstates of the X-gate and the Y-gate indeed form a basis for 1-qubit states (read more about this in the [linear algebra page](https://qiskit.org/textbook/ch-appendix/linear_algebra.html#Matrices-and-Matrix-Operations) in the appendix)\n",
        "\n",
        "#### Exercise 1\n",
        "1. Verify that $|+\\rangle$ and $|-\\rangle$ are in fact eigenstates of the X-gate.\n",
        "2. What eigenvalues do they have?\n",
        "3. Find the eigenstates of the Y-gate, and their co-ordinates on the Bloch sphere.\n",
        "\n",
        "Using only the Pauli-gates it is impossible to move our initialized qubit to any state other than $|0\\rangle$ or $|1\\rangle$, i.e. we cannot achieve superposition. This means we can see no behaviour different to that of a classical bit. To create more interesting states we will need more gates!\n",
        "\n",
        "### 3. The Hadamard Gate  <a id=\"hgate\"></a>\n",
        "\n",
        "The Hadamard gate (H-gate) is a fundamental quantum gate. It allows us to move away from the poles of the Bloch sphere and create a superposition of $|0\\rangle$ and $|1\\rangle$. It has the matrix:\n",
        "\n",
        "$$ H = \\tfrac{1}{\\sqrt{2}}\\begin{bmatrix} 1 & 1 \\\\ 1 & -1 \\end{bmatrix} $$\n",
        "\n",
        "We can see that this performs the transformations below:\n",
        "\n",
        "$$ H|0\\rangle = |+\\rangle $$\n",
        "\n",
        "$$ H|1\\rangle = |-\\rangle $$\n",
        "\n",
        "This can be thought of as a rotation around the Bloch vector `[1,0,1]` (the line between the x & z-axis), or as transforming the state of the qubit between the X and Z bases.\n",
        "\n"
      ]
    },
    {
      "cell_type": "markdown",
      "metadata": {
        "id": "DYxvRvJIV3SJ"
      },
      "source": [
        "#### Exercise 2\n",
        "1. Write the H-gate as the outer products of vectors $|0\\rangle$, $|1\\rangle$, $|+\\rangle$ and $|-\\rangle$.\n",
        "2. Show that applying the sequence of gates: HZH, to any qubit state is equivalent to applying an X-gate.\n",
        "3. Find a combination of X, Z and H-gates that is equivalent to a Y-gate (ignoring global phase).\n",
        "\n",
        "### 4. Digression: Measuring in Different Bases  <a id=\"measuring\"></a>\n",
        "We have seen that the Z-axis is not intrinsically special, and that there are infinitely many other bases. Similarly with measurement, we don’t always have to measure in the computational basis (the Z-basis), we can measure our qubits in any basis.\n",
        "\n",
        "As an example, let’s try measuring in the X-basis. We can calculate the probability of measuring either $|+\\rangle$ or $|-\\rangle$:\n",
        "\n",
        "$$ p(|+\\rangle) = |\\langle+|q\\rangle|^2, \\quad p(|-\\rangle) = |\\langle-|q\\rangle|^2 $$\n",
        "\n",
        "And after measurement, the superposition is destroyed. Since Qiskit only allows measuring in the Z-basis, we must create our own using Hadamard gates:"
      ]
    },
    {
      "cell_type": "code",
      "execution_count": null,
      "metadata": {
        "id": "G9gU2HvtV3SJ"
      },
      "outputs": [],
      "source": [
        "# Create the X-measurement function:\n",
        "def x_measurement(qc, qubit, cbit):\n",
        "    \"\"\"Measure 'qubit' in the X-basis, and store the result in 'cbit'\"\"\"\n",
        "    qc.h(qubit)\n",
        "    qc.measure(qubit, cbit)\n",
        "    return qc\n",
        "\n",
        "initial_state = [1/sqrt(2), -1/sqrt(2)]\n",
        "# Initialize our qubit and measure it\n",
        "qc = QuantumCircuit(1,1)\n",
        "qc.initialize(initial_state, 0)\n",
        "x_measurement(qc, 0, 0)  # measure qubit 0 to classical bit 0\n",
        "qc.draw('mpl')"
      ]
    },
    {
      "cell_type": "markdown",
      "metadata": {
        "id": "Rwtz-f0WV3SK"
      },
      "source": [
        "In the quick exercises above, we saw you could create an X-gate by sandwiching our Z-gate between two H-gates:\n",
        "\n",
        "$$ X = HZH $$\n",
        "\n",
        "Starting in the Z-basis, the H-gate switches our qubit to the X-basis, the Z-gate performs a NOT in the X-basis, and the final H-gate returns our qubit to the Z-basis. We can verify this always behaves like an X-gate by multiplying the matrices:\n",
        "\n",
        "$$\n",
        "HZH =\n",
        "\\tfrac{1}{\\sqrt{2}}\\begin{bmatrix} 1 & 1 \\\\ 1 & -1 \\end{bmatrix}\n",
        "\\begin{bmatrix} 1 & 0 \\\\ 0 & -1 \\end{bmatrix}\n",
        "\\tfrac{1}{\\sqrt{2}}\\begin{bmatrix} 1 & 1 \\\\ 1 & -1 \\end{bmatrix}\n",
        "=\n",
        "\\begin{bmatrix} 0 & 1 \\\\ 1 & 0 \\end{bmatrix}\n",
        "=X\n",
        "$$\n",
        "\n",
        "Following the same logic, we have created an X-measurement by transforming from the X-basis to the Z-basis before our measurement. Since the process of measuring can have different effects depending on the system (e.g. some systems always return the qubit to $|0\\rangle$ after measurement, whereas others may leave it as the measured state), the state of the qubit post-measurement is undefined and we must reset it if we want to use it again.\n",
        "\n",
        "There is another way to see why the Hadamard gate indeed takes us from the Z-basis to the X-basis. Suppose the qubit we want to measure in the X-basis is in the (normalized) state $a |0\\rangle + b |1\\rangle$. To measure it in X-basis, we first express the state as a linear combination of $|+\\rangle$ and $|-\\rangle$. Using the relations $|0\\rangle = \\frac{|+\\rangle + |-\\rangle}{\\sqrt{2}}$ and $|1\\rangle = \\frac{|+\\rangle - |-\\rangle}{\\sqrt{2}}$, the state becomes $\\frac{a + b}{\\sqrt{2}}|+\\rangle + \\frac{a - b}{\\sqrt{2}}|-\\rangle$. Observe that the probability amplitudes in X-basis can be obtained by applying a Hadamard matrix on the state vector expressed in Z-basis.\n",
        "\n",
        "Let’s now see the results:"
      ]
    },
    {
      "cell_type": "code",
      "execution_count": null,
      "metadata": {
        "id": "a-KQejmXV3SK"
      },
      "outputs": [],
      "source": [
        "counts = sim.run(qc).result().get_counts()  # Do the simulation, returning the state vector\n",
        "plot_histogram(counts)  # Display the output on measurement of state vector"
      ]
    },
    {
      "cell_type": "markdown",
      "metadata": {
        "id": "2wiZJ1vTV3SK"
      },
      "source": [
        "We initialized our qubit in the state $|-\\rangle$, but we can see that, after the measurement, we have collapsed our qubit to the state $|1\\rangle$. If you run the cell again, you will see the same result, since along the X-basis, the state $|-\\rangle$ is a basis state and measuring it along X will always yield the same result.\n",
        "\n",
        "\n",
        "#### Exercise 3\n",
        "1.\tIf we initialize our qubit in the state $|+\\rangle$, what is the probability of measuring it in state $|-\\rangle$?\n",
        "2.\tUse Qiskit to display the probability of measuring a $|0\\rangle$ qubit in the states $|+\\rangle$ and $|-\\rangle$ (**Hint:** you might want to use `.get_counts()` and `plot_histogram()`).\n",
        "3.\tTry to create a function that measures in the Y-basis.\n",
        "\n",
        "Measuring in different bases allows us to see Heisenberg’s famous uncertainty principle in action. Having certainty of measuring a state in the Z-basis removes all certainty of measuring a specific state in the  X-basis, and vice versa. A common misconception is that the uncertainty is due to the limits in our equipment, but here we can see the uncertainty is actually part of the nature of the qubit.\n",
        "\n",
        "For example, if we put our qubit in the state $|0\\rangle$, our measurement in the Z-basis is certain to be $|0\\rangle$, but our measurement in the X-basis is completely random! Similarly, if we put our qubit in the state $|-\\rangle$, our measurement in the X-basis is certain to be $|-\\rangle$, but now any measurement in the Z-basis will be completely random.\n",
        "\n",
        "More generally: _Whatever state our quantum system is in, there is always a measurement that has a deterministic outcome._\n",
        "\n",
        "The introduction of the H-gate has allowed us to explore some interesting phenomena, but we are still very limited in our quantum operations. Let us now introduce a new type of gate:\n",
        "\n",
        "### 5. The P-gate  <a id=\"rzgate\"></a>\n",
        "\n",
        "The P-gate (phase gate) is _parametrised,_ that is, it needs a number ($\\phi$) to tell it exactly what to do. The P-gate performs a rotation of $\\phi$ around the Z-axis direction. It has the matrix form:\n",
        "\n",
        "$$\n",
        "P(\\phi) = \\begin{bmatrix} 1 & 0 \\\\ 0 & e^{i\\phi} \\end{bmatrix}\n",
        "$$\n",
        "\n",
        "Where $\\phi$ is a real number.\n",
        "\n"
      ]
    },
    {
      "cell_type": "markdown",
      "metadata": {
        "id": "W0rk1SeQV3SK"
      },
      "source": [
        "In Qiskit, we specify a P-gate using `p(phi, qubit)`:"
      ]
    },
    {
      "cell_type": "code",
      "execution_count": null,
      "metadata": {
        "id": "RKWqhiQ4V3SL"
      },
      "outputs": [],
      "source": [
        "qc = QuantumCircuit(1)\n",
        "qc.p(pi/4, 0)\n",
        "qc.draw('mpl')"
      ]
    },
    {
      "cell_type": "markdown",
      "metadata": {
        "id": "SUHLagj1V3SL"
      },
      "source": [
        "You may notice that the Z-gate is a special case of the P-gate, with $\\phi = \\pi$. In fact there are three more commonly referenced gates we will mention in this chapter, all of which are special cases of the P-gate:\n",
        "\n",
        "### 6. The I, S and T-gates  <a id=\"istgates\"></a>\n",
        "\n",
        "#### 6.1 The I-gate  <a id=\"igate\"></a>\n",
        "\n",
        "First comes the I-gate (aka ‘Id-gate’ or ‘Identity gate’). This is simply a gate that does nothing. Its matrix is the identity matrix:\n",
        "\n",
        "$$\n",
        "I = \\begin{bmatrix} 1 & 0 \\\\ 0 & 1\\end{bmatrix}\n",
        "$$\n",
        "\n",
        "Applying the identity gate anywhere in your circuit should have no effect on the qubit state, so it’s interesting this is even considered a gate. There are two main reasons behind this, one is that it is often used in calculations, for example: proving the X-gate is its own inverse:\n",
        "\n",
        "$$ I = XX $$\n",
        "\n",
        "The second, is that it is often useful when considering real hardware to specify a ‘do-nothing’ or ‘none’ operation.\n",
        "\n",
        "#### Send it after class 4\n",
        "1. What are the eigenstates of the I-gate?\n",
        "\n",
        "#### 6.2 The S-gates  <a id=\"sgate\"></a>\n",
        "\n",
        "The next gate to mention is the S-gate (sometimes known as the $\\sqrt{Z}$-gate), this is a P-gate with $\\phi = \\pi/2$. It does a quarter-turn around the Bloch sphere. It is important to note that unlike every gate introduced in this chapter so far, the S-gate is **not** its own inverse! As a result, you will often see the S<sup>†</sup>-gate, (also “S-dagger”, “Sdg” or $\\sqrt{Z}^\\dagger$-gate).  The S<sup>†</sup>-gate is clearly an P-gate with $\\phi = -\\pi/2$:\n",
        "\n",
        "$$ S = \\begin{bmatrix} 1 & 0 \\\\ 0 & e^{\\frac{i\\pi}{2}} \\end{bmatrix}, \\quad  S^\\dagger = \\begin{bmatrix} 1 & 0 \\\\ 0 & e^{-\\frac{i\\pi}{2}} \\end{bmatrix}$$\n",
        "\n",
        "The name \"$\\sqrt{Z}$-gate\" is due to the fact that two successively applied S-gates has the same effect as one Z-gate:\n",
        "\n",
        "$$ SS|q\\rangle = Z|q\\rangle $$\n",
        "\n",
        "This notation is common throughout quantum computing.\n",
        "\n",
        "To add an S-gate in Qiskit:"
      ]
    },
    {
      "cell_type": "code",
      "execution_count": null,
      "metadata": {
        "id": "aUPxSfOhV3SM"
      },
      "outputs": [],
      "source": [
        "qc = QuantumCircuit(1)\n",
        "qc.s(0)   # Apply S-gate to qubit 0\n",
        "qc.sdg(0) # Apply Sdg-gate to qubit 0\n",
        "qc.draw('mpl')"
      ]
    },
    {
      "cell_type": "markdown",
      "metadata": {
        "id": "Yj8nklTHV3SM"
      },
      "source": [
        "#### 6.3 The T-gate <a id=\"tgate\"></a>\n",
        "The T-gate is a very commonly used gate, it is an P-gate with $\\phi = \\pi/4$:\n",
        "\n",
        "$$ T = \\begin{bmatrix} 1 & 0 \\\\ 0 & e^{\\frac{i\\pi}{4}} \\end{bmatrix}, \\quad  T^\\dagger = \\begin{bmatrix} 1 & 0 \\\\ 0 & e^{-\\frac{i\\pi}{4}} \\end{bmatrix}$$\n",
        "\n",
        "As with the S-gate, the T-gate is sometimes also known as the $\\sqrt[4]{Z}$-gate.\n",
        "\n",
        "In Qiskit:"
      ]
    },
    {
      "cell_type": "code",
      "execution_count": null,
      "metadata": {
        "id": "fJueIqGdV3SM",
        "scrolled": true
      },
      "outputs": [],
      "source": [
        "qc = QuantumCircuit(1)\n",
        "qc.t(0)   # Apply T-gate to qubit 0\n",
        "qc.tdg(0) # Apply Tdg-gate to qubit 0\n",
        "qc.draw('mpl')"
      ]
    },
    {
      "cell_type": "markdown",
      "metadata": {
        "id": "GP0oc6H2V3SM"
      },
      "source": [
        "### 7. The U-gate  <a id=\"generalU\"></a>\n",
        "\n",
        "As we saw earlier, the I, Z, S & T-gates were all special cases of the more general P-gate. In the same way, the U-gate is the most general of all single-qubit quantum gates. It is a parametrised gate of the form:\n",
        "\n",
        "$$\n",
        "U(\\theta, \\phi, \\lambda) = \\begin{bmatrix} \\cos(\\frac{\\theta}{2}) & -e^{i\\lambda}\\sin(\\frac{\\theta}{2}) \\\\\n",
        "            e^{i\\phi}\\sin(\\frac{\\theta}{2}) & e^{i(\\phi+\\lambda)}\\cos(\\frac{\\theta}{2})\n",
        "     \\end{bmatrix}\n",
        "$$\n",
        "\n",
        "Every gate in this chapter could be specified as $U(\\theta,\\phi,\\lambda)$, but it is unusual to see this in a circuit diagram, possibly due to the difficulty in reading this.\n",
        "\n",
        "As an example, we see some specific cases of the U-gate in which it is equivalent to the H-gate and P-gate respectively.\n",
        "\n",
        "$$\n",
        "\\begin{aligned}\n",
        "U(\\tfrac{\\pi}{2}, 0, \\pi) = \\tfrac{1}{\\sqrt{2}}\\begin{bmatrix} 1 & 1 \\\\\n",
        "            1 & -1\n",
        "     \\end{bmatrix} = H\n",
        "& \\quad &\n",
        "U(0, 0, \\lambda) = \\begin{bmatrix} 1 & 0 \\\\\n",
        "            0 & e^{i\\lambda}\\\\\n",
        "     \\end{bmatrix} = P\n",
        "\\end{aligned}\n",
        "$$"
      ]
    },
    {
      "cell_type": "code",
      "execution_count": null,
      "metadata": {
        "id": "IX0Eo9Z2V3SM"
      },
      "outputs": [],
      "source": [
        "# Let's have U-gate transform a |0> to |+> state\n",
        "qc = QuantumCircuit(1)\n",
        "qc.u(pi/2, 0, pi, 0)\n",
        "qc.draw('mpl')"
      ]
    },
    {
      "cell_type": "code",
      "execution_count": null,
      "metadata": {
        "id": "9jy4O1--V3SM"
      },
      "outputs": [],
      "source": [
        "# Let's see the result\n",
        "qc.save_statevector()\n",
        "state = sim.run(qc).result().get_statevector()\n",
        "plot_bloch_multivector(state)"
      ]
    },
    {
      "cell_type": "markdown",
      "metadata": {
        "id": "dTfenTekV3SM"
      },
      "source": [
        "It should be obvious from this that there are an infinite number of possible gates, and that this also includes R<sub>x</sub> and R<sub>y</sub>-gates, although they are not mentioned here. It must also be noted that there is nothing special about the Z-basis, except that it has been selected as the standard computational basis. Qiskit also provides the X equivalent of the S and Sdg-gate i.e. the SX-gate and SXdg-gate respectively. These gates do a quarter-turn with respect to the X-axis around the Block sphere and are a special case of the R<sub>x</sub>-gate.\n",
        "\n",
        "\n",
        "Before running on real IBM quantum hardware, all single-qubit operations are compiled down to $I$ , $X$, $SX$ and $R_{z}$ . For this reason they are sometimes called the _physical gates_.\n"
      ]
    },
    {
      "cell_type": "markdown",
      "metadata": {
        "id": "vqJtu1CTV3SN"
      },
      "source": [
        "## Quantum Measurements (Exercise)\n",
        "\n",
        "### Part 1: Measuring the state of a qubit\n",
        "\n",
        "<br>\n",
        "<div style=\"background: #E8E7EB; border-radius: 5px;\n",
        "-moz-border-radius: 5px;\">\n",
        "  <p style=\"background: #800080;\n",
        "            border-radius: 5px 5px 0px 0px;\n",
        "            padding: 10px 0px 10px 10px;\n",
        "            font-size:18px;\n",
        "            color:white;\n",
        "            \"><b>Goal</b></p>\n",
        "    <p style=\" padding: 0px 0px 10px 10px;\n",
        "              font-size:16px;\">Determine the Bloch components of a qubit.</p>\n",
        "</div>\n",
        "\n",
        "Fundamental to the operation of a quantum computer is the ability to compute the Bloch components of a qubit or qubits. These components correspond to the expectation values of the Pauli operators $X, Y, Z$, and are important quantities for applications such as quantum chemistry and optimization.  Unfortunately, it is impossible to simultaneously compute these values, thus requiring many executions of the same circuit.  In addition, measurements are restricted to the computational basis (Z-basis) so that each Pauli needs to be rotated to the standard basis to access the x and y components.  Here we verify the methods by considering the case of a random vector on the Bloch sphere."
      ]
    },
    {
      "cell_type": "code",
      "execution_count": null,
      "metadata": {
        "id": "1jtqK-JnV3SN",
        "pycharm": {
          "name": "#%%\n"
        }
      },
      "outputs": [],
      "source": [
        "from qiskit import *\n",
        "import numpy as np\n",
        "from numpy import linalg as la"
      ]
    },
    {
      "cell_type": "markdown",
      "metadata": {
        "id": "WTiY21ihV3SN"
      },
      "source": [
        "#### 1. Express the expectation values of the Pauli operators for an arbitrary qubit state $|q\\rangle$ in the computational basis.\n",
        "\n",
        "The case for the expectation value of Pauli Z gate is given as an example."
      ]
    },
    {
      "cell_type": "markdown",
      "metadata": {
        "id": "nTpb6M73V3SN"
      },
      "source": [
        "Using the diagonal representation, also known as spectral form or orthonormal decomposition, of Pauli $Z$ gate and the relations among the Pauli gates (see [here](https://qiskit.org/textbook/ch-states/single-qubit-gates.html)), expectation values of $ X, Y, Z $ gates can be written as  \n",
        "\n",
        "$$\n",
        "\\begin{align}\n",
        "\\langle Z \\rangle &=\\langle q | Z | q\\rangle =\\langle q|0\\rangle\\langle 0|q\\rangle - \\langle q|1\\rangle\\langle 1|q\\rangle\n",
        "=|\\langle 0 |q\\rangle|^2 - |\\langle 1 | q\\rangle|^2\\\\\\\\\n",
        "\\langle X \\rangle &= \\\\\\\\\n",
        "\\langle Y \\rangle &=\n",
        "\\end{align}\n",
        "\\\\\n",
        "$$\n",
        ", respectively.\n",
        "\n",
        "Therefore, the expectation values of the Paulis for a qubit state $|q\\rangle$ can be obtained by making a measurement in the standard basis after rotating the standard basis frame to lie along the corresponding axis. The probabilities of obtaining the two possible outcomes 0 and 1 are used to evaluate the desired expectation value as the above equations show."
      ]
    },
    {
      "cell_type": "markdown",
      "metadata": {
        "id": "KxznzWx1V3SO"
      },
      "source": [
        "#### 2. Measure the Bloch sphere coordinates of a qubit using the Aer simulator and plot the vector on the Bloch sphere."
      ]
    },
    {
      "cell_type": "markdown",
      "metadata": {
        "id": "U6H0-I1TV3SO"
      },
      "source": [
        "##### Step A. Create a qubit state using the circuit method, <code>initialize</code> with two random complex numbers as the parameter.\n",
        "\n",
        "To learn how to use the function `initialize`, check [here](https://qiskit.org/documentation/tutorials/circuits/3_summary_of_quantum_operations.html#Arbitrary-initialization). (go to the `arbitrary initialization` section.)"
      ]
    },
    {
      "cell_type": "code",
      "execution_count": null,
      "metadata": {
        "id": "jWSNmBI7V3SO"
      },
      "outputs": [],
      "source": [
        "qc = QuantumCircuit(1, 1)\n",
        "\n",
        "#### your code goes here\n",
        "\n",
        "\n"
      ]
    },
    {
      "cell_type": "markdown",
      "metadata": {
        "id": "0EjVK-wyV3SO"
      },
      "source": [
        "##### Step B. Build the circuits to measure the expectation values of $X, Y, Z$ gate based on your answers to the question 1.  Run the cell below to estimate the Bloch sphere coordinates of the qubit from step A using the Aer simulator.\n",
        "\n",
        "The circuit for $Z$ gate measurement is given as an example."
      ]
    },
    {
      "cell_type": "code",
      "execution_count": null,
      "metadata": {
        "id": "9Jy7ZUoQV3SO"
      },
      "outputs": [],
      "source": [
        "# z measurement of qubit 0\n",
        "measure_z = QuantumCircuit(1,1)\n",
        "measure_z.measure(0,0)\n",
        "\n",
        "# x measurement of qubit 0\n",
        "measure_x = QuantumCircuit(1,1)\n",
        "# your code goes here\n",
        "\n",
        "\n",
        "\n",
        "\n",
        "\n",
        "\n",
        "\n",
        "# y measurement of qubit 0\n",
        "measure_y = QuantumCircuit(1,1)\n",
        "# your code goes here\n",
        "\n",
        "\n",
        "\n",
        "\n",
        "\n",
        "\n",
        "\n",
        "shots = 2**14 # number of samples used for statistics\n",
        "sim = Aer.get_backend('aer_simulator')\n",
        "bloch_vector_measure = []\n",
        "for measure_circuit in [measure_x, measure_y, measure_z]:\n",
        "\n",
        "    # run the circuit with the selected measurement and get the number of samples that output each bit value\n",
        "    circ_trans = transpile(qc.compose(measure_circuit), sim)\n",
        "    counts = sim.run(qc.compose(circ_trans), shots=shots).result().get_counts()\n",
        "\n",
        "    # calculate the probabilities for each bit value\n",
        "    probs = {}\n",
        "    for output in ['0','1']:\n",
        "        if output in counts:\n",
        "            probs[output] = counts[output]/shots\n",
        "        else:\n",
        "            probs[output] = 0\n",
        "\n",
        "    bloch_vector_measure.append( probs['0'] -  probs['1'] )\n",
        "\n",
        "# normalizing the Bloch sphere vector\n",
        "bloch_vector = bloch_vector_measure/la.norm(bloch_vector_measure)\n",
        "\n",
        "print('The Bloch sphere coordinates are [{0:4.3f}, {1:4.3f}, {2:4.3f}]'\n",
        "      .format(*bloch_vector))"
      ]
    },
    {
      "cell_type": "markdown",
      "metadata": {
        "id": "UDOUqwF4V3SP"
      },
      "source": [
        "##### Step C. Plot the vector on the Bloch sphere.\n",
        "\n",
        "Note that the following cell for the interactive bloch_sphere would not run properly unless you work in [IQX](https://quantum-computing.ibm.com/login). You can either use `plot_bloch_vector` for the non-interactive version or install `kaleidoscope` by running\n",
        "\n",
        "```\n",
        "pip install kaleidoscope\n",
        "\n",
        "```\n",
        "in a terminal.  You also need to restart your kernel after the installation.  To learn more about how to use the interactive Bloch sphere, go [here](https://nonhermitian.org/kaleido/stubs/kaleidoscope.interactive.bloch_sphere.html#kaleidoscope.interactive.bloch_sphere)."
      ]
    },
    {
      "cell_type": "code",
      "execution_count": null,
      "metadata": {
        "id": "eNVn-HClV3SP"
      },
      "outputs": [],
      "source": [
        "from kaleidoscope.interactive import bloch_sphere\n",
        "\n",
        "bloch_sphere(bloch_vector, vectors_annotation=True)"
      ]
    },
    {
      "cell_type": "code",
      "execution_count": null,
      "metadata": {
        "id": "IJ5KLHNgV3SP"
      },
      "outputs": [],
      "source": [
        "from qiskit.visualization import plot_bloch_vector\n",
        "\n",
        "plot_bloch_vector( bloch_vector )"
      ]
    },
    {
      "cell_type": "markdown",
      "metadata": {
        "id": "ebspttUGV3SP"
      },
      "source": [
        "### Part 2: Measuring Energy\n",
        "\n",
        "<br>\n",
        "<div style=\"background: #E8E7EB; border-radius: 5px;\n",
        "-moz-border-radius: 5px;\">\n",
        "  <p style=\"background: #800080;\n",
        "            border-radius: 5px 5px 0px 0px;\n",
        "            padding: 10px 0px 10px 10px;\n",
        "            font-size:18px;\n",
        "            color:white;\n",
        "            \"><b>Goal</b></p>\n",
        "    <p style=\" padding: 0px 0px 10px 10px;\n",
        "              font-size:16px;\">Evaluate the energy levels of the hydrogen ground state using Aer simulator.</p>\n",
        "</div>\n",
        "\n",
        "\n",
        "The energy of a quantum system can be estimated by measuring the expectation value of its Hamiltonian, which is a Hermitian operator, through the procedure we mastered in part 1.\n",
        "\n",
        "The ground state of hydrogen is not defined as a single unique state but actually contains four different states due to the spins of the electron and proton. In part 2 of this lab, we evaluate the energy difference among these four states, which is from the `hyperfine splitting`, by computing the energy expectation value for the system of two spins with the Hamiltonian expressed in Pauli operators. For more information about `hyperfine structure`, see [here](https://www.feynmanlectures.caltech.edu/III_12.html)"
      ]
    },
    {
      "cell_type": "markdown",
      "metadata": {
        "id": "niN2XnrlV3SP"
      },
      "source": [
        "Consider the system with two qubit interaction Hamiltonian $H = A(XX+YY+ZZ)$ where $A = 1.47e^{-6} eV$ and $X, Y, Z$ are Pauli gates. Then the energy expectation value of the system can be evaluated by combining the expectation value of each term in the Hamiltonian.\n",
        "In this case, $E = \\langle H\\rangle = A( \\langle XX\\rangle + \\langle YY\\rangle + \\langle ZZ\\rangle )$."
      ]
    },
    {
      "cell_type": "markdown",
      "metadata": {
        "id": "5Q4ILMpRV3SQ"
      },
      "source": [
        "#### 1. Express the expectation value of each term in the Hamiltonian for an arbitrary two qubit state   $|\\psi \\rangle$ in the computational basis.\n",
        "\n",
        "The case for the term $\\langle ZZ\\rangle$ is given as an example.\n",
        "\n",
        "$$\n",
        "\\begin{align}\n",
        "\\langle ZZ\\rangle &=\\langle \\psi | ZZ | \\psi\\rangle =\\langle \\psi|(|0\\rangle\\langle 0| - |1\\rangle\\langle 1|)\\otimes(|0\\rangle\\langle 0| - |1\\rangle\\langle 1|) |\\psi\\rangle\n",
        "=|\\langle 00|\\psi\\rangle|^2 - |\\langle 01 | \\psi\\rangle|^2 - |\\langle 10 | \\psi\\rangle|^2 + |\\langle 11|\\psi\\rangle|^2\\\\\\\\\n",
        "\\langle XX\\rangle &= \\\\\\\\\n",
        "\\langle YY\\rangle &=\n",
        "\\end{align}\n",
        "$$"
      ]
    },
    {
      "cell_type": "markdown",
      "metadata": {
        "id": "fxu9y52kV3SQ"
      },
      "source": [
        "#### 2. Measure the expected energy of the system using the Aer simulator when two qubits are entangled. Regard the bell basis, four different entangled states."
      ]
    },
    {
      "cell_type": "markdown",
      "metadata": {
        "id": "KoL604lnV3SQ"
      },
      "source": [
        "##### Step A. Construct the circuits to prepare four different bell states.\n",
        "\n",
        "Let's label each bell state as\n",
        "$$\n",
        "\\begin{align}\n",
        "Tri1 &= \\frac{1}{\\sqrt2} (|00\\rangle + |11\\rangle)\\\\\n",
        "Tri2 &= \\frac{1}{\\sqrt2} (|00\\rangle - |11\\rangle)\\\\\n",
        "Tri3 &= \\frac{1}{\\sqrt2} (|01\\rangle + |10\\rangle)\\\\\n",
        "Sing &= \\frac{1}{\\sqrt2} (|10\\rangle - |01\\rangle)\n",
        "\\end{align}\n",
        "$$"
      ]
    },
    {
      "cell_type": "code",
      "execution_count": null,
      "metadata": {
        "id": "4TMiqPJOV3SQ"
      },
      "outputs": [],
      "source": [
        "# circuit for the state Tri1\n",
        "Tri1 = QuantumCircuit(2, 2)\n",
        "# your code goes here\n",
        "\n",
        "\n",
        "\n",
        "\n",
        "\n",
        "\n",
        "# circuit for the state Tri2\n",
        "Tri2 = QuantumCircuit(2, 2)\n",
        "# your code goes here\n",
        "\n",
        "\n",
        "\n",
        "\n",
        "\n",
        "# circuit for the state Tri3\n",
        "Tri3 = QuantumCircuit(2, 2)\n",
        "# your code goes here\n",
        "\n",
        "\n",
        "\n",
        "\n",
        "\n",
        "\n",
        "# circuit for the state Sing\n",
        "Sing = QuantumCircuit(2, 2)\n",
        "# your code goes here\n",
        "\n",
        "\n",
        "\n",
        "\n",
        "\n"
      ]
    },
    {
      "cell_type": "markdown",
      "metadata": {
        "id": "IGNjMAHoV3SR"
      },
      "source": [
        "##### Step B. Create the circuits to measure the expectation value of each term in the Hamiltonian based on your answer to the question 1."
      ]
    },
    {
      "cell_type": "code",
      "execution_count": null,
      "metadata": {
        "id": "j2pD6Qx6V3SR"
      },
      "outputs": [],
      "source": [
        "# <ZZ>\n",
        "measure_ZZ = QuantumCircuit(2)\n",
        "measure_ZZ.measure_all()\n",
        "\n",
        "# <XX>\n",
        "measure_XX = QuantumCircuit(2)\n",
        "# your code goes here\n",
        "\n",
        "\n",
        "\n",
        "\n",
        "\n",
        "# <YY>\n",
        "measure_YY = QuantumCircuit(2)\n",
        "# your code goes here\n",
        "\n",
        "\n",
        "\n",
        "\n"
      ]
    },
    {
      "cell_type": "markdown",
      "metadata": {
        "id": "apBUu1ncV3SR"
      },
      "source": [
        " ##### Step C. Execute the circuits on Aer simulator by running the cell below and evaluate the energy expectation value for each state."
      ]
    },
    {
      "cell_type": "code",
      "execution_count": null,
      "metadata": {
        "id": "5w64swU2V3SR"
      },
      "outputs": [],
      "source": [
        "shots = 2**14 # number of samples used for statistics\n",
        "\n",
        "A = 1.47e-6 #unit of A is eV\n",
        "E_sim = []\n",
        "for state_init in [Tri1,Tri2,Tri3,Sing]:\n",
        "    Energy_meas = []\n",
        "    for measure_circuit in [measure_XX, measure_YY, measure_ZZ]:\n",
        "\n",
        "        # run the circuit with the selected measurement and get the number of samples that output each bit value\n",
        "        qc = state_init.compose(measure_circuit)\n",
        "        qc_trans = transpile(qc, sim)\n",
        "        counts = sim.run(qc_trans, shots=shots).result().get_counts()\n",
        "\n",
        "        # calculate the probabilities for each computational basis\n",
        "        probs = {}\n",
        "        for output in ['00','01', '10', '11']:\n",
        "            if output in counts:\n",
        "                probs[output] = counts[output]/shots\n",
        "            else:\n",
        "                probs[output] = 0\n",
        "\n",
        "        Energy_meas.append( probs['00'] - probs['01'] - probs['10'] + probs['11'] )\n",
        "\n",
        "    E_sim.append(A * np.sum(np.array(Energy_meas)))"
      ]
    },
    {
      "cell_type": "code",
      "execution_count": null,
      "metadata": {
        "id": "TaGKguJKV3SS"
      },
      "outputs": [],
      "source": [
        "# Run this cell to print out your results\n",
        "\n",
        "print('Energy expectation value of the state Tri1 : {:.3e} eV'.format(E_sim[0]))\n",
        "print('Energy expectation value of the state Tri2 : {:.3e} eV'.format(E_sim[1]))\n",
        "print('Energy expectation value of the state Tri3 : {:.3e} eV'.format(E_sim[2]))\n",
        "print('Energy expectation value of the state Sing : {:.3e} eV'.format(E_sim[3]))"
      ]
    },
    {
      "cell_type": "markdown",
      "metadata": {
        "id": "B9r82aFAV3SS"
      },
      "source": [
        " ##### Step D. Understanding the result.\n",
        "\n",
        "If you found the energy expectation values successfully, you would have obtained exactly the same value, $A (= 1.47e^{-6} eV)$, for the triplet states, $|Tri1\\rangle, |Tri2\\rangle, |Tri3\\rangle$ and one lower energy level, $-3A (= -4.41e^{-6} eV)$ for the singlet state $|Sing\\rangle$.   \n",
        "\n",
        "What we have done here is measuring the energies of the four different spin states corresponding to the ground state of hydrogen and observed `hyperfine structure` in the energy levels caused by spin-spin coupling.  This tiny energy difference between the singlet and triplet states is the reason for the famous 21-cm wavelength radiation used to map the structure of the galaxy.  "
      ]
    },
    {
      "cell_type": "markdown",
      "metadata": {
        "id": "SwBfGuIVV3SS"
      },
      "source": [
        "In the cell below, we verify the wavelength of the emission from the transition between the triplet states and singlet state."
      ]
    },
    {
      "cell_type": "code",
      "execution_count": null,
      "metadata": {
        "id": "NxWb1XExV3ST"
      },
      "outputs": [],
      "source": [
        "# reduced plank constant in (eV) and the speed of light(cgs units)\n",
        "hbar, c = 4.1357e-15, 3e10\n",
        "\n",
        "# energy difference between the triplets and singlet\n",
        "E_del = abs(E_sim[0] - E_sim[3])\n",
        "\n",
        "# frequency associated with the energy difference\n",
        "f = E_del/hbar\n",
        "\n",
        "# convert frequency to wavelength in (cm)\n",
        "wavelength = c/f\n",
        "\n",
        "print('The wavelength of the radiation from the transition\\\n",
        " in the hyperfine structure is : {:.1f} cm'.format(wavelength))"
      ]
    },
    {
      "cell_type": "markdown",
      "metadata": {
        "id": "0iezOb1SV3ST"
      },
      "source": [
        "### Part 3 : Execute the circuits on Quantum Computer\n",
        "\n",
        "<br>\n",
        "<div style=\"background: #E8E7EB; border-radius: 5px;\n",
        "-moz-border-radius: 5px;\">\n",
        "  <p style=\"background: #800080;\n",
        "            border-radius: 5px 5px 0px 0px;\n",
        "            padding: 10px 0px 10px 10px;\n",
        "            font-size:18px;\n",
        "            color:white;\n",
        "            \"><b>Goal</b></p>\n",
        "    <p style=\" padding: 0px 0px 10px 10px;\n",
        "              font-size:16px;\"> Re-run the circuits on a IBM quantum system.  Perform measurement error mitigations on the result to improve the accuracy in the energy estimation.</p>\n",
        "</div>"
      ]
    },
    {
      "cell_type": "markdown",
      "metadata": {
        "id": "YkWkXONNV3ST"
      },
      "source": [
        "##### Step A. Run the following cells to load your account and select the backend"
      ]
    },
    {
      "cell_type": "code",
      "execution_count": null,
      "metadata": {
        "id": "03e2J1ddV3ST",
        "tags": [
          "uses-hardware"
        ]
      },
      "outputs": [],
      "source": [
        "provider = IBMQ.load_account()"
      ]
    },
    {
      "cell_type": "code",
      "execution_count": null,
      "metadata": {
        "id": "zBdxHmetV3SU",
        "tags": [
          "uses-hardware"
        ]
      },
      "outputs": [],
      "source": [
        "backend = provider.get_backend('ibm_lima')"
      ]
    },
    {
      "cell_type": "markdown",
      "metadata": {
        "id": "vYaalVpiV3SU"
      },
      "source": [
        "##### Step B. Execute the circuits on the quantum system.\n",
        "\n",
        "\n",
        "In Lab1 when we executed multiple circuits on a real quantum system, we submitted each circuit as a separate job which produces the multiple job ids. This time, we put all the circuits in a list and execute the list of the circuits as one job. In this way, all the circuit executions can happen at once, which would possibly decrease your wait time in the queue."
      ]
    },
    {
      "cell_type": "markdown",
      "metadata": {
        "id": "U8WyDVjaV3SV"
      },
      "source": [
        "<p>&#128211; Check the backend configuration information and error map through the widget to determine your <code>initial_layout</code>."
      ]
    },
    {
      "cell_type": "code",
      "execution_count": null,
      "metadata": {
        "id": "H3qmFkOcV3SV",
        "tags": [
          "uses-hardware"
        ]
      },
      "outputs": [],
      "source": [
        "# run this cell to get the backend information through the widget\n",
        "backend"
      ]
    },
    {
      "cell_type": "code",
      "execution_count": null,
      "metadata": {
        "id": "xybKumtZV3SV",
        "tags": [
          "uses-hardware"
        ]
      },
      "outputs": [],
      "source": [
        "# assign your choice for the initial layout to the list variable `initial_layout`.\n",
        "initial_layout ="
      ]
    },
    {
      "cell_type": "markdown",
      "metadata": {
        "id": "SlWQ6hBUV3SW"
      },
      "source": [
        "Run the following cell to execute the circuits with the initial_layout on the backend."
      ]
    },
    {
      "cell_type": "code",
      "execution_count": null,
      "metadata": {
        "id": "vlkJkVWdV3SW",
        "tags": [
          "uses-hardware"
        ]
      },
      "outputs": [],
      "source": [
        "qc_all = [state_init.compose(measure_circuit) for state_init in [Tri1,Tri2,Tri3,Sing]\n",
        "          for measure_circuit in [measure_XX, measure_YY, measure_ZZ] ]\n",
        "\n",
        "shots = 8192\n",
        "qc_all_trans = transpile(qc_all, backend, initial_layout=initial_layout, optimization_level=3)\n",
        "job = backend.run(qc_all_trans, shots=shots)\n",
        "print(job.job_id())"
      ]
    },
    {
      "cell_type": "code",
      "execution_count": null,
      "metadata": {
        "id": "wrzmwUVQV3SW",
        "tags": [
          "uses-hardware"
        ]
      },
      "outputs": [],
      "source": [
        "# getting the results of your job\n",
        "results = job.result()"
      ]
    },
    {
      "cell_type": "code",
      "execution_count": null,
      "metadata": {
        "id": "gX4sVlDiV3SW",
        "tags": [
          "uses-hardware"
        ]
      },
      "outputs": [],
      "source": [
        "## To access the results of the completed job\n",
        "#results = backend.retrieve_job('job_id').result()"
      ]
    },
    {
      "cell_type": "markdown",
      "metadata": {
        "id": "XiRi-zxtV3SW"
      },
      "source": [
        "##### Step C. Estimate the ground state energy levels from the results of the previous step by executing the cells below."
      ]
    },
    {
      "cell_type": "code",
      "execution_count": null,
      "metadata": {
        "id": "5hDlNgDAV3SX",
        "tags": [
          "uses-hardware"
        ]
      },
      "outputs": [],
      "source": [
        "def Energy(results, shots):\n",
        "    \"\"\"Compute the energy levels of the hydrogen ground state.\n",
        "\n",
        "    Parameters:\n",
        "        results (obj): results, results from executing the circuits for measuring a Hamiltonian.\n",
        "        shots (int): shots, number of shots used for the circuit execution.\n",
        "\n",
        "    Returns:\n",
        "        Energy (list): energy values of the four different hydrogen ground states\n",
        "    \"\"\"\n",
        "    E = []\n",
        "    A = 1.47e-6\n",
        "\n",
        "    for ind_state in range(4):\n",
        "        Energy_meas = []\n",
        "        for ind_comp in range(3):\n",
        "            counts = results.get_counts(ind_state*3+ind_comp)\n",
        "\n",
        "            # calculate the probabilities for each computational basis\n",
        "            probs = {}\n",
        "            for output in ['00','01', '10', '11']:\n",
        "                if output in counts:\n",
        "                    probs[output] = counts[output]/shots\n",
        "                else:\n",
        "                    probs[output] = 0\n",
        "\n",
        "            Energy_meas.append( probs['00'] - probs['01'] - probs['10'] + probs['11'] )\n",
        "\n",
        "        E.append(A * np.sum(np.array(Energy_meas)))\n",
        "\n",
        "    return E"
      ]
    },
    {
      "cell_type": "code",
      "execution_count": null,
      "metadata": {
        "id": "y1VtaYnuV3SX",
        "tags": [
          "uses-hardware"
        ]
      },
      "outputs": [],
      "source": [
        "E = Energy(results, shots)\n",
        "\n",
        "print('Energy expectation value of the state Tri1 : {:.3e} eV'.format(E[0]))\n",
        "print('Energy expectation value of the state Tri2 : {:.3e} eV'.format(E[1]))\n",
        "print('Energy expectation value of the state Tri3 : {:.3e} eV'.format(E[2]))\n",
        "print('Energy expectation value of the state Sing : {:.3e} eV'.format(E[3]))"
      ]
    },
    {
      "cell_type": "markdown",
      "metadata": {
        "id": "cpvBA50SV3SX"
      },
      "source": [
        "##### Step D. Measurement error mitigation.\n",
        "\n",
        "The results you obtained from running the circuits on the quantum system are not exact due to the noise from the various sources such as enery relaxation, dephasing, crosstalk between qubits, etc. In this step, we will alleviate the effects of the noise through the measurement error mitigation. Before we start, watch this [video](https://www.youtube.com/watch?v=yuDxHJOKsVA&list=PLOFEBzvs-Vvp2xg9-POLJhQwtVktlYGbY&index=8)."
      ]
    },
    {
      "cell_type": "code",
      "execution_count": null,
      "metadata": {
        "id": "opQUoWVEV3SY"
      },
      "outputs": [],
      "source": [
        "from qiskit.ignis.mitigation.measurement import *"
      ]
    },
    {
      "cell_type": "markdown",
      "metadata": {
        "id": "MA-8LueBV3SY"
      },
      "source": [
        "<p>&#128211;Construct the circuits to profile the measurement errors of all basis states using the function 'complete_meas_cal'.  Obtain the measurement filter object, 'meas_filter', which will be applied to the noisy results to mitigate readout (measurement) error.<p>"
      ]
    },
    {
      "cell_type": "markdown",
      "metadata": {
        "id": "zIm9TjivV3SY"
      },
      "source": [
        "For further helpful information to complete this task, check [here](https://qiskit.org/textbook/ch-quantum-hardware/measurement-error-mitigation.html) ."
      ]
    },
    {
      "cell_type": "code",
      "execution_count": null,
      "metadata": {
        "id": "iAd7mYUDV3SY"
      },
      "outputs": [],
      "source": [
        "# your code to create the circuits, meas_calibs, goes here\n",
        "meas_calibs, state_labels =\n",
        "\n",
        "\n",
        "\n",
        "# execute meas_calibs on your choice of the backend\n",
        "meas_calibs_trans = transpile(meas_calibs, backend, optimization_level=3)\n",
        "job = backend.run(meas_calibs_trans, backend, shots = shots)\n",
        "print(job.job_id())\n",
        "job_monitor(job)\n",
        "cal_results = job.result()\n",
        "\n",
        "## To access the results of the completed job\n",
        "#cal_results = backend.retrieve_job('job_id').result()\n",
        "\n",
        "\n",
        "# your code to obtain the measurement filter object, 'meas_filter', goes here\n",
        "\n",
        "\n",
        "\n",
        "\n",
        "\n"
      ]
    },
    {
      "cell_type": "code",
      "execution_count": null,
      "metadata": {
        "id": "IrT-EU5NV3SZ"
      },
      "outputs": [],
      "source": [
        "results_new = meas_filter.apply(results)"
      ]
    },
    {
      "cell_type": "code",
      "execution_count": null,
      "metadata": {
        "id": "TFXxPNiHV3SZ"
      },
      "outputs": [],
      "source": [
        "E_new = Energy(results_new, shots)\n",
        "\n",
        "print('Energy expection value of the state Tri1 : {:.3e} eV'.format(E_new[0]))\n",
        "print('Energy expection value of the state Tri2 : {:.3e} eV'.format(E_new[1]))\n",
        "print('Energy expection value of the state Tri3 : {:.3e} eV'.format(E_new[2]))\n",
        "print('Energy expection value of the state Sing : {:.3e} eV'.format(E_new[3]))"
      ]
    },
    {
      "cell_type": "markdown",
      "metadata": {
        "id": "mYwjXoStV3SZ"
      },
      "source": [
        "##### Step E. Interpret the result."
      ]
    },
    {
      "cell_type": "markdown",
      "metadata": {
        "id": "gM-g_-bZV3Sa"
      },
      "source": [
        "<p>&#128211; Compute the relative errors ( or the fractional error ) of the energy values for all four states with and without measurement error mitigation.<p>"
      ]
    },
    {
      "cell_type": "code",
      "execution_count": null,
      "metadata": {
        "id": "6JhcHSD5V3Sa"
      },
      "outputs": [],
      "source": [
        "# results for the energy estimation from the simulation,\n",
        "# execution on a quantum system without error mitigation and\n",
        "# with error mitigation in numpy array format\n",
        "Energy_exact, Energy_exp_orig, Energy_exp_new = np.array(E_sim), np.array(E), np.array(E_new)"
      ]
    },
    {
      "cell_type": "code",
      "execution_count": null,
      "metadata": {
        "id": "DQG4UZo3V3Sa"
      },
      "outputs": [],
      "source": [
        "# Calculate the relative errors of the energy values without error mitigation\n",
        "# and assign to the numpy array variable `Err_rel_orig` of size 4\n",
        "Err_rel_orig ="
      ]
    },
    {
      "cell_type": "code",
      "execution_count": null,
      "metadata": {
        "id": "oR6P1x5XV3Sa"
      },
      "outputs": [],
      "source": [
        "# Calculate the relative errors of the energy values with error mitigation\n",
        "# and assign to the numpy array variable `Err_rel_new` of size 4\n",
        "Err_rel_new ="
      ]
    },
    {
      "cell_type": "code",
      "execution_count": null,
      "metadata": {
        "id": "b3ycK8MlV3Sb"
      },
      "outputs": [],
      "source": [
        "np.set_printoptions(precision=3)\n",
        "\n",
        "print('The relative errors of the energy values for four bell basis\\\n",
        " without measurement error mitigation : {}'.format(Err_rel_orig))"
      ]
    },
    {
      "cell_type": "code",
      "execution_count": null,
      "metadata": {
        "id": "wsHfRfuBV3Sb"
      },
      "outputs": [],
      "source": [
        "np.set_printoptions(precision=3)\n",
        "\n",
        "print('The relative errors of the energy values for four bell basis\\\n",
        " with measurement error mitigation : {}'.format(Err_rel_new))"
      ]
    },
    {
      "cell_type": "markdown",
      "metadata": {
        "id": "-PsGPiRkV3Sb"
      },
      "source": [
        "<p>&#128211; Compare the size of the errors before and after the measurment error mitigation and discuss about the effect of the readout error regarding the error map information of the backend that you selected.<p>  "
      ]
    }
  ],
  "metadata": {
    "colab": {
      "provenance": []
    },
    "kernelspec": {
      "display_name": "Python 3 (ipykernel)",
      "language": "python",
      "name": "python3"
    },
    "language_info": {
      "codemirror_mode": {
        "name": "ipython",
        "version": 3
      },
      "file_extension": ".py",
      "mimetype": "text/x-python",
      "name": "python",
      "nbconvert_exporter": "python",
      "pygments_lexer": "ipython3",
      "version": "3.12.7"
    },
    "nbdime-conflicts": {
      "local_diff": [
        {
          "diff": [
            {
              "diff": [
                {
                  "key": 0,
                  "op": "addrange",
                  "valuelist": [
                    "3.9.4"
                  ]
                },
                {
                  "key": 0,
                  "length": 1,
                  "op": "removerange"
                }
              ],
              "key": "version",
              "op": "patch"
            }
          ],
          "key": "language_info",
          "op": "patch"
        }
      ],
      "remote_diff": [
        {
          "diff": [
            {
              "diff": [
                {
                  "key": 0,
                  "op": "addrange",
                  "valuelist": [
                    "3.8.8"
                  ]
                },
                {
                  "key": 0,
                  "length": 1,
                  "op": "removerange"
                }
              ],
              "key": "version",
              "op": "patch"
            }
          ],
          "key": "language_info",
          "op": "patch"
        }
      ]
    }
  },
  "nbformat": 4,
  "nbformat_minor": 0
}