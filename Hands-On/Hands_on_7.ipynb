{
 "cells": [
  {
   "cell_type": "code",
   "execution_count": null,
   "metadata": {
    "colab": {
     "base_uri": "https://localhost:8080/"
    },
    "id": "Xgd2NvG8dvMP",
    "outputId": "7aab099c-c471-4bee-df4f-ad61ed3494eb"
   },
   "outputs": [],
   "source": [
    "!pip install pennylane\n",
    "!pip install hvplot"
   ]
  },
  {
   "cell_type": "markdown",
   "metadata": {
    "id": "nD_PWv5gdvMR"
   },
   "source": [
    "# Generative quantum eigensolver (GQE) training using PennyLane data\n",
    "\n",
    "\n",
    "We will be demonstrating and evaluating a novel algorithm proposed by\n",
    "Nakaji et al. in their paper [The generative quantum eigensolver (GQE)\n",
    "and its application for ground state\n",
    "search](https://arxiv.org/abs/2401.09253) that employs a classical\n",
    "generative model of quantum circuits for the purpose of ground-state\n",
    "energy estimation of any molecular Hamiltonian. It has been proposed as\n",
    "a scalable alternative to the variational quantum eigensolver\n",
    "(VQE) approach, where the\n",
    "quantum state is represented as a quantum circuit with tunable\n",
    "parameters which are then optimized during training in order to arrive\n",
    "at a state minimizing the corresponding energy $E.$ Instead, in GQE, the\n",
    "structure of the quantum circuit is given by a trained generative model.\n",
    "\n",
    "We will primarily focus on offline training on a fixed training dataset\n",
    "\\-- thanks to the molecular data available in [PennyLane\n",
    "Datasets](https://pennylane.ai/datasets/). By the end of the demo, we\n",
    "will show that the model gradually provides a better estimate for the\n",
    "energies and, in turn, can sample energies close to the ground state\n",
    "energy calculated by PennyLane.\n",
    "\n",
    "This demo is organized as follows. Firstly, we compare the GQE and VQE\n",
    "algorithms, and afterwards, we dive deeper in describing GPT-QE, i.e.,\n",
    "the GQE algorithm which uses a GPT model, and its training. Next, we\n",
    "generate the training dataset for our GPT model using PennyLane, and\n",
    "give details on our model architecture and training implementation.\n",
    "After that, we evaluate the model throughout its training and discuss\n",
    "its performance in estimating the ground state. And lastly, we discuss\n",
    "the results, potential ways optimizing the code, and its extension into\n",
    "the \\\"online training\\\" phase.\n",
    "\n"
   ]
  },
  {
   "cell_type": "markdown",
   "metadata": {
    "id": "O31Wb_AsdvMT"
   },
   "source": [
    "## GQE vs. VQE\n",
    "\n",
    "\n",
    "Despite the relative success of VQE, there are some issues regarding its\n",
    "*trainability* for large problem instances. This shortcoming makes it\n",
    "less competitive against the performance of classical machine learning\n",
    "(ML) algorithms for large problems. To bypass this, the GQE algorithm\n",
    "was proposed. Specifically, GQE uses a classical generative model where\n",
    "quantum circuits are sampled as a sequence of unitaries from a given\n",
    "operator pool. This generative model is then trained so that it learns\n",
    "to predict quantum circuits that evolves an initial state to the states\n",
    "better approximating the ground state.\n",
    "\n",
    "The main difference between the two approaches is where the tunable\n",
    "parameters are embedded. That is, it is the classical GQE model that is\n",
    "being optimized as opposed to the variable quantum circuit of VQE.\n",
    "Potentially then, the\n",
    "`barren plateau` landscape of VQE and the quantum gradient evaluation of\n",
    "large circuits will be sidestepped by GQE, thus becoming more amenable\n",
    "for larger problems.\n"
   ]
  },
  {
   "cell_type": "markdown",
   "metadata": {
    "id": "MYyyt1AWdvMT"
   },
   "source": [
    "![Figure 1: Diagrams of GQE and VQE from Fig. 1\n",
    "in](Hands_on_7_images/paper_gqe_vqe.png)\n"
   ]
  },
  {
   "cell_type": "markdown",
   "metadata": {
    "id": "_em0j3uEdvMU"
   },
   "source": [
    "## GPT-QE background\n",
    "\n",
    "\n",
    "In particular, the model architecture used by Nakaji et al. for GQE was\n",
    "a generative pre-trained transformer (GPT),. This choice is then\n",
    "reflected in the name GPT-QE. As language models, GPTs are successful in\n",
    "generating sequences of words that closely resemble human natural\n",
    "language. This performance is harnessed for quantum chemistry by\n",
    "constructing quantum states $\\rho$ as a sequence of unitary operators\n",
    "which are, in turn, represented by quantum circuits. That is, we let\n",
    "$\\rho = U\\rho_0 U^{\\dagger}$ for some fixed initial state $\\rho_0$ and\n",
    "the aforementioned sequence is $U = U_{j_N}U_{j_{N-1}}\\cdots U_{j_1}.$\n",
    "The GPT model samples a sequence of integers $j_1, j_2, ..., j_N$\n",
    "indexing a pool of operators $U_j$ generated using molecular data from\n",
    "[PennyLane Molecules](https://pennylane.ai/datasets/qchem). We interpret\n",
    "these integers as tokens and the pool as the vocabulary in the parlance\n",
    "for language models. The goal of training is then to minimize the\n",
    "corresponding energy $E = \\mbox{Tr}(\\hat{H}\\rho),$ where $\\hat{H}$ is\n",
    "the Hamiltonian of the molecule in question.\n",
    "\n",
    "Each token $j_i$ is sampled from the distribution\n",
    "$\\exp(-\\beta w_{j_i}),$ where $w_{j_i}$ is the unnormalized log\n",
    "probability (or logit) returned by the GPT model for the token $j_i$ and\n",
    "$\\beta$ is an inverse temperature representing a trade-off parameter\n",
    "between exploration and exploitation. We then observe that the\n",
    "probability of sampling a state through the method described above is\n",
    "proportional to $\\exp(-\\beta w_{\\mbox{sum}}),$ where\n",
    "$w_{\\mbox{sum}} = \\sum_{i=1}^N w_{j_i}$ and the probability for the\n",
    "corresponding energy is $\\exp(-\\beta E).$ We thus have a constraint for\n",
    "the total logit to be equal to the energy of the corresponding state:\n",
    "$w_{\\mbox{sum}} = E,$ which can be imposed by training GPT-QE to\n",
    "minimize the loss function $C = (w_{\\mbox{sum}} - E)^2.$ With this\n",
    "constraint satisfied, GPT-QE would then be sampling states of smaller\n",
    "energies with increasing likelihood.\n",
    "\n",
    "More concretely, we summarize the *pre-*training loop in Figure 2. This\n",
    "is called pre-training because it involves learning from a fixed dataset\n",
    "first before transitioning to the \\\"real\\\" training which utilizes the\n",
    "data generated by the model itself. In this demo, we will call the\n",
    "pre-training as offline training since the GPT model does not receive\n",
    "feedback from the sequences it samples, and online training if\n",
    "otherwise.\n"
   ]
  },
  {
   "cell_type": "markdown",
   "metadata": {
    "id": "q9GepePIdvMU"
   },
   "source": [
    "![Figure 2: Overview for offline training of\n",
    "GPT-QE](Hands_on_7_images/gqe_training_diagram.png)\n"
   ]
  },
  {
   "cell_type": "markdown",
   "metadata": {
    "id": "B0NupuPbdvMV"
   },
   "source": [
    "## Dataset construction via PennyLane\n",
    "\n",
    "\n",
    "Firstly, let us construct the static dataset we will use for offline\n",
    "training. We choose to generate our own dataset in order to illustrate\n",
    "the sequences and energies more concretely. Our dataset will be made\n",
    "from random sequences of tokens, which we recall corresponds to indices\n",
    "of a vocabulary of unitary operators. We then define an energy function\n",
    "in PennyLane to calculate the energy of a state corresponding to a token\n",
    "sequence. Applying the aforementioned function, we would then have a\n",
    "dataset of token sequences and energies for the GPT model offline\n",
    "training.\n"
   ]
  },
  {
   "cell_type": "markdown",
   "metadata": {
    "id": "aOkFv53UdvMV"
   },
   "source": [
    "## Loading molecular information\n",
    "\n",
    "For simplicity, let us consider the [hydrogen\n",
    "molecule](https://pennylane.ai/datasets/qchem/h2-molecule) and load the\n",
    "corresponding dataset from PennyLane. Recall that we would need a\n",
    "vocabulary of operators $U_j$, an initial state $\\rho_0,$ and the\n",
    "Hamiltonian $\\hat{H}$ for a hydrogen molecule. We also get the ground\n",
    "state energy for later comparison with the results.\n",
    "\n",
    "Specifically, the unitary operators $U_j$ are time evolution operators\n",
    "as prescribed in. The non-identity operators are generated in PennyLane\n",
    "using `pennylane.SingleExcitation` and\n",
    "`pennylane.DoubleExcitation` which\n",
    "then depend on the number of electrons and orbitals of the molecule.\n"
   ]
  },
  {
   "cell_type": "code",
   "execution_count": null,
   "metadata": {
    "id": "L3dFifY9dvMV"
   },
   "outputs": [],
   "source": [
    "import numpy as np\n",
    "import pennylane as qml\n",
    "\n",
    "def generate_molecule_data(molecules=\"H2\"):\n",
    "    datasets = qml.data.load(\"qchem\", molname=molecules)\n",
    "\n",
    "    # Get the time set T\n",
    "    op_times = np.sort(np.array([-2**k for k in range(1, 5)] + [2**k for k in range(1, 5)]) / 160)\n",
    "\n",
    "    # Build operator set P for each molecule\n",
    "    molecule_data = dict()\n",
    "    for dataset in datasets:\n",
    "        molecule = dataset.molecule\n",
    "        num_electrons, num_qubits = molecule.n_electrons, 2 * molecule.n_orbitals\n",
    "        singles, doubles = qml.qchem.excitations(num_electrons, num_qubits)\n",
    "        double_excs = [qml.DoubleExcitation(time, wires=double) for double in doubles for time in op_times]\n",
    "        single_excs = [qml.SingleExcitation(time, wires=single) for single in singles for time in op_times]\n",
    "        identity_ops = [qml.exp(qml.I(range(num_qubits)), 1j*time) for time in op_times] # For Identity\n",
    "        operator_pool = double_excs + single_excs + identity_ops\n",
    "        molecule_data[dataset.molname] = {\n",
    "            \"op_pool\": np.array(operator_pool),\n",
    "            \"num_qubits\": num_qubits,\n",
    "            \"hf_state\": dataset.hf_state,\n",
    "            \"hamiltonian\": dataset.hamiltonian,\n",
    "            \"expected_ground_state_E\": dataset.fci_energy\n",
    "        }\n",
    "    return molecule_data\n",
    "\n",
    "molecule_data = generate_molecule_data(\"H2\")\n",
    "h2_data = molecule_data[\"H2\"]\n",
    "op_pool = h2_data[\"op_pool\"]\n",
    "num_qubits = h2_data[\"num_qubits\"]\n",
    "init_state = h2_data[\"hf_state\"]\n",
    "hamiltonian = h2_data[\"hamiltonian\"]\n",
    "grd_E = h2_data[\"expected_ground_state_E\"]\n",
    "op_pool_size = len(op_pool)"
   ]
  },
  {
   "cell_type": "markdown",
   "metadata": {
    "id": "NS2lFDYwdvMW"
   },
   "source": [
    "## Defining the energy function\n",
    "\n",
    "\n",
    "In PennyLane, we define the energy function\n",
    "$E = \\mbox{Tr}(\\hat{H}U_{j_N}\\cdots U_{j_1}\\rho_0 U_{j_1}^{\\dagger}\\cdots U_{j_N}^{\\dagger})$\n",
    "corresponding to Eq. 1 of. Here, `energy_circuit` takes in the operator\n",
    "sequence $U_{j_1}, U_{j_2}, ..., U_{j_N}$ and returns the energy of the\n",
    "corresponding quantum state.\n",
    "\n",
    "As a slight extension, we can also calculate the energies for each\n",
    "subsequence of operators to help with the training of the model. That\n",
    "is, for a sequence of three operators $U_{j_1}, U_{j_2}, U_{j_3}$ we\n",
    "compute the energies for $U_{j_1}$ and $U_{j_1}, U_{j_2}$ instead of\n",
    "just the full sequence of three operators, which was described in. This\n",
    "can be done simply in PennyLane, using\n",
    "`pennylane.Snapshot` as shown below.\n"
   ]
  },
  {
   "cell_type": "code",
   "execution_count": null,
   "metadata": {
    "id": "0M0QIQ8cdvMW"
   },
   "outputs": [],
   "source": [
    "dev = qml.device(\"default.qubit\", wires=num_qubits)\n",
    "\n",
    "@qml.qnode(dev)\n",
    "def energy_circuit(gqe_ops):\n",
    "    # Computes Eq. 1 from Nakaji et al. based on the selected unitary operators\n",
    "    qml.BasisState(init_state, wires=range(num_qubits)) # Initial state <-- Hartree Fock state\n",
    "    for op in gqe_ops:\n",
    "        qml.Snapshot(measurement=qml.expval(hamiltonian))\n",
    "        qml.apply(op) # Applies each of the unitary operators\n",
    "    return qml.expval(hamiltonian)\n",
    "\n",
    "energy_circuit = qml.snapshots(energy_circuit)\n",
    "\n",
    "def get_subsequence_energies(op_seq):\n",
    "    # Collates the energies of each subsequence for a batch of sequences\n",
    "    energies = []\n",
    "    for ops in op_seq:\n",
    "        es = energy_circuit(ops)\n",
    "        energies.append(\n",
    "            [es[k].item() for k in list(range(1, len(ops))) + [\"execution_results\"]]\n",
    "        )\n",
    "    return np.array(energies)"
   ]
  },
  {
   "cell_type": "markdown",
   "metadata": {
    "id": "adIlQIEXdvMW"
   },
   "source": [
    "## Token sequence generation with corresponding energies\n",
    "\n",
    "\n",
    "With these ingredients, we can now construct a dataset containing\n",
    "sequences of tokens and their energies. Since we cannot feed the\n",
    "operators directly to the GPT model, we would need to tokenize them. The\n",
    "indices of `op_pool` seems to be a good candidate, but we instead choose\n",
    "the tokens to be the `op_pool` indices shifted by 1. This is so that we\n",
    "can define a special token `0` that tells the GPT model where the\n",
    "sequence starts.\n",
    "\n",
    "We generate a `train_size` number of random operator sequences of length\n",
    "`seq_len` for our purposes and calculate their energies (and their\n",
    "subsequences).\n"
   ]
  },
  {
   "cell_type": "code",
   "execution_count": null,
   "metadata": {
    "id": "3l8sSqUYdvMX"
   },
   "outputs": [],
   "source": [
    "# Generate sequence of indices of operators in vocab\n",
    "train_size = 1024\n",
    "seq_len = 4\n",
    "train_op_pool_inds = np.random.randint(op_pool_size, size=(train_size, seq_len))\n",
    "\n",
    "# Corresponding sequence of operators\n",
    "train_op_seq = op_pool[train_op_pool_inds]\n",
    "\n",
    "# Corresponding tokens with special starting tokens\n",
    "train_token_seq = np.concatenate([\n",
    "    np.zeros(shape=(train_size, 1), dtype=int), # starting token is 0\n",
    "    train_op_pool_inds + 1 # shift operator inds by one\n",
    "], axis=1)\n",
    "\n",
    "# Calculate the energies for each subsequence in the training set\n",
    "train_sub_seq_en = get_subsequence_energies(train_op_seq)"
   ]
  },
  {
   "cell_type": "markdown",
   "metadata": {
    "id": "OKTpZY-ZdvMX"
   },
   "source": [
    "## GPT-QE offline training\n",
    "\n",
    "\n",
    "Having setup our training dataset, we can start implementing our offline\n",
    "training loop as illustrated in Figure 2. We outline our implementation\n",
    "below.\n"
   ]
  },
  {
   "cell_type": "markdown",
   "metadata": {
    "id": "26Q3snOTdvMX"
   },
   "source": [
    "## GPT model implementation details\n",
    "\n",
    "\n",
    "The GPT model we will use in this demo is mostly implemented in the\n",
    "[nanoGPT repo](https://github.com/karpathy/nanoGPT) (a reimplementation\n",
    "of the [OpenAI GPT-2](https://github.com/openai/gpt-2)) as the\n",
    "[class](https://github.com/karpathy/nanoGPT/blob/9755682b981a45507f6eb9b11eadef8cb83cebd5/model.py#L118)\n",
    "`GPT` with the model hyperparameters stored in the\n",
    "[dataclass](https://github.com/karpathy/nanoGPT/blob/9755682b981a45507f6eb9b11eadef8cb83cebd5/model.py#L109)\n",
    "`GPTConfig`. Namely, we will use 12 attention layers, 12 attention\n",
    "heads, and 768 embedding dimensions, which are equal to those described\n",
    "in. We can import from the nanoGPT repo directly by running the `curl`\n",
    "command (commented out below) in a Jupyter Notebook. Since nanoGPT is\n",
    "trained as a language model, its loss function and sampling method are\n",
    "defined differently. We then define the subclass `GPTQE` below to\n",
    "override some nanoGPT methods in order to make it more suitable for our\n",
    "case.\n"
   ]
  },
  {
   "cell_type": "code",
   "execution_count": null,
   "metadata": {
    "colab": {
     "base_uri": "https://localhost:8080/"
    },
    "id": "ZRDVGXTKdvMX",
    "outputId": "7f7986ff-cfce-4edd-fe2a-c5450e26beb6"
   },
   "outputs": [],
   "source": [
    "!curl -O https://raw.githubusercontent.com/karpathy/nanoGPT/master/model.py\n",
    "from model import GPT, GPTConfig\n",
    "import torch\n",
    "from torch.nn import functional as F\n",
    "\n",
    "class GPTQE(GPT):\n",
    "    def forward(self, idx):\n",
    "        device = idx.device\n",
    "        b, t = idx.size()\n",
    "        pos = torch.arange(0, t, dtype=torch.long, device=device) # shape (t)\n",
    "\n",
    "        # forward the GPT model itself\n",
    "        tok_emb = self.transformer.wte(idx) # token embeddings of shape (b, t, n_embd)\n",
    "        pos_emb = self.transformer.wpe(pos) # position embeddings of shape (t, n_embd)\n",
    "        x = self.transformer.drop(tok_emb + pos_emb)\n",
    "        for block in self.transformer.h:\n",
    "            x = block(x)\n",
    "        x = self.transformer.ln_f(x)\n",
    "        logits = self.lm_head(x)\n",
    "        return logits\n",
    "\n",
    "    def calculate_loss(self, tokens, energies):\n",
    "        current_tokens, next_tokens = tokens[:, :-1], tokens[:, 1:]\n",
    "        # calculate the logits for the next possible tokens in the sequence\n",
    "        logits = self(current_tokens)\n",
    "        # get the logit for the actual next token in the sequence\n",
    "        next_token_mask = torch.nn.functional.one_hot(\n",
    "            next_tokens, num_classes=self.config.vocab_size\n",
    "        )\n",
    "        next_token_logits = (logits * next_token_mask).sum(axis=2)\n",
    "        # calculate the cumulative logits for each subsequence\n",
    "        cumsum_logits = torch.cumsum(next_token_logits, dim=1)\n",
    "        # match cumulative logits to subsequence energies\n",
    "        loss = torch.mean(torch.square(cumsum_logits - energies))\n",
    "        return loss\n",
    "\n",
    "    @torch.no_grad()\n",
    "    def generate(self, n_sequences, max_new_tokens, temperature=1.0, device=\"cpu\"):\n",
    "        idx = torch.zeros(size=(n_sequences, 1), dtype=int, device=device)\n",
    "        total_logits = torch.zeros(size=(n_sequences, 1), device=device)\n",
    "        for _ in range(max_new_tokens):\n",
    "            # if the sequence context is growing too long we must crop it at block_size\n",
    "            idx_cond = idx if idx.size(1) <= self.config.block_size else idx[:, -self.config.block_size:]\n",
    "            # forward the model to get the logits for the index in the sequence\n",
    "            logits = self(idx_cond)\n",
    "            # pluck the logits at the final step\n",
    "            logits = logits[:, -1, :]\n",
    "            # set the logit of the first token so that its probability will be zero\n",
    "            logits[:, 0] = float(\"inf\")\n",
    "            # apply softmax to convert logits to (normalized) probabilities and scale by desired temperature\n",
    "            probs = F.softmax(-logits / temperature, dim=-1)\n",
    "            # sample from the distribution\n",
    "            idx_next = torch.multinomial(probs, num_samples=1)\n",
    "            # # Accumulate logits\n",
    "            total_logits += torch.gather(logits, index=idx_next, dim=1)\n",
    "            # append sampled index to the running sequence and continue\n",
    "            idx = torch.cat((idx, idx_next), dim=1)\n",
    "        return idx, total_logits"
   ]
  },
  {
   "cell_type": "markdown",
   "metadata": {
    "id": "Q4rlL4krdvMX"
   },
   "source": [
    "However, it is important to note that the loss function\n",
    "`calculate_loss`, that we defined is different from the one described in\n",
    "which is $(\\exp(-w_{\\mbox{sum}}) - \\exp(-E))^2.$ As described\n",
    "beforehand, we instead directly compute the mean squared error between\n",
    "$w_{\\mbox{sum}}$ and $E.$ Since the exponential function is one-to-one,\n",
    "both loss functions would then impose the same minimum. Using the error\n",
    "between exponentials may even introduce numerical instabilities in the\n",
    "training since the loss would be taking differences of potentially large\n",
    "numbers. In addition to this change from, we also use the error between\n",
    "the cumulative sum of logits and the corresponding energy for each\n",
    "subsequence instead of just the error between total logits and the\n",
    "energy of an entire sequence. This addition will give more training data\n",
    "to the model and should help with logit matching the intermediate\n",
    "tokens.\n",
    "\n",
    "Since it was not explicitly shown in, another possible deviation we made\n",
    "is with the logit calculation during offline training. It seems that the\n",
    "logits were accumulated by looping through the sequential generation of\n",
    "tokens. In order to fill in the blanks, we implement the logit\n",
    "calculation in a manner that we think is efficient. Namely, we directly\n",
    "pass the fixed training sequences to the model and retrieve the relevant\n",
    "logits from it. This can be done because we are using a causal mask for\n",
    "the attention blocks so that the logits of the earlier tokens in the\n",
    "sequence are not affected by tokens in the later part of the sequence.\n",
    "Thus, having the same effect of the sequential token generation.\n",
    "\n",
    "We initialize our GPT model below and we see that it has around 85\n",
    "million parameters. When saved, the model is `324.25 MB` in size.\n"
   ]
  },
  {
   "cell_type": "code",
   "execution_count": null,
   "metadata": {
    "colab": {
     "base_uri": "https://localhost:8080/"
    },
    "id": "0m7R2-0JdvMX",
    "outputId": "2f5c0b62-8f14-4aab-b0d4-527df7b6c7d6"
   },
   "outputs": [],
   "source": [
    "# Uncomment for cuda\n",
    "#tokens = torch.from_numpy(train_token_seq).to(\"cuda\")\n",
    "#energies = torch.from_numpy(train_sub_seq_en).to(\"cuda\")\n",
    "#gpt = GPTQE(GPTConfig(\n",
    "#    vocab_size=op_pool_size + 1,\n",
    "#    block_size=seq_len,\n",
    "#    dropout=0.2,\n",
    "#    bias=False\n",
    "#)).to(\"cuda\")\n",
    "#opt = gpt.configure_optimizers(\n",
    "#    weight_decay=0.01, learning_rate=5e-5, betas=(0.9, 0.999), device_type=\"cuda\"\n",
    "#)\n",
    "tokens = torch.from_numpy(train_token_seq).to(\"cpu\")\n",
    "energies = torch.from_numpy(train_sub_seq_en).to(\"cpu\")\n",
    "gpt = GPTQE(GPTConfig(\n",
    "    vocab_size=op_pool_size + 1,\n",
    "    block_size=seq_len,\n",
    "    dropout=0.2,\n",
    "    bias=False\n",
    ")).to(\"cpu\")\n",
    "opt = gpt.configure_optimizers(\n",
    "    weight_decay=0.01, learning_rate=5e-5, betas=(0.9, 0.999), device_type=\"cpu\"\n",
    ")"
   ]
  },
  {
   "cell_type": "markdown",
   "metadata": {
    "id": "H3qFYttpdvMY"
   },
   "source": [
    "## GPT offline training\n",
    "\n",
    "\n",
    "We now implement a training loop for our GPT model. This can be framed\n",
    "as a straightforward supervised learning problem. We sketch the steps\n",
    "for each training iteration/epoch below:\n",
    "\n",
    "1.  Shuffle the training set and split it into `n_batches` minibatches\n",
    "2.  For each minibatch, calculate the average loss, the gradients, and\n",
    "    take an optimizer step\n",
    "3.  For each n-th iteration (n is 500 here), evaluate the GPT model:\n",
    "    -   Generate a batch of sequences and the predicted energies (total\n",
    "        logits). Note that these are not necessarily same sequences as\n",
    "        in the training set.\n",
    "    -   Calculate the true energies using PennyLane\n",
    "    -   Calculate the mean absolute error as a metric to track the\n",
    "        learning progress and save the GPT model everytime the metric\n",
    "        gets better\n"
   ]
  },
  {
   "cell_type": "code",
   "execution_count": null,
   "metadata": {
    "id": "HMA678yTdvMY"
   },
   "outputs": [],
   "source": [
    "n_batches = 8\n",
    "train_inds = np.arange(train_size)\n",
    "\n",
    "losses = []\n",
    "pred_Es_t = []\n",
    "true_Es_t = []\n",
    "current_mae = 10000\n",
    "gpt.train()\n",
    "for i in range(10000):\n",
    "    # Shuffle batches of the training set\n",
    "    np.random.shuffle(train_inds)\n",
    "    token_batches = torch.tensor_split(tokens[train_inds], n_batches)\n",
    "    energy_batches = torch.tensor_split(energies[train_inds], n_batches)\n",
    "\n",
    "    # SGD on random minibatches\n",
    "    loss_record = 0\n",
    "    for token_batch, energy_batch in zip(token_batches, energy_batches):\n",
    "        opt.zero_grad()\n",
    "        loss = gpt.calculate_loss(token_batch, energy_batch)\n",
    "        loss.backward()\n",
    "        opt.step()\n",
    "        loss_record += loss.item() / n_batches\n",
    "    losses.append(loss_record)\n",
    "\n",
    "    if (i+1) % 500 == 0:\n",
    "        # For GPT evaluation\n",
    "        gpt.eval()\n",
    "        gen_token_seq, pred_Es = gpt.generate(\n",
    "            n_sequences=100,\n",
    "            max_new_tokens=seq_len,\n",
    "            temperature=0.001, # Use a low temperature to emphasize the difference in logits\n",
    "            device=\"cuda\"\n",
    "        )\n",
    "        pred_Es = pred_Es.cpu().numpy()\n",
    "\n",
    "        gen_inds = (gen_token_seq[:, 1:] - 1).cpu().numpy()\n",
    "        gen_op_seq = op_pool[gen_inds]\n",
    "        true_Es = get_subsequence_energies(gen_op_seq)[:, -1].reshape(-1, 1)\n",
    "\n",
    "        mae = np.mean(np.abs(pred_Es - true_Es))\n",
    "        ave_E = np.mean(true_Es)\n",
    "\n",
    "        pred_Es_t.append(pred_Es)\n",
    "        true_Es_t.append(true_Es)\n",
    "\n",
    "        print(f\"Iteration: {i+1}, Loss: {losses[-1]}, MAE: {mae}, Ave E: {ave_E}\")\n",
    "\n",
    "        if mae < current_mae:\n",
    "            current_mae = mae\n",
    "            torch.save(gpt, f\"./seq_len={seq_len}/gqe.pt\")\n",
    "            print(\"Saved model!\")\n",
    "\n",
    "        gpt.train()\n",
    "\n",
    "pred_Es_t = np.concatenate(pred_Es_t, axis=1)\n",
    "true_Es_t = np.concatenate(true_Es_t, axis=1)"
   ]
  },
  {
   "cell_type": "markdown",
   "metadata": {
    "id": "1EMlYkoYdvMY"
   },
   "source": [
    "With a preliminary look at the training logs above, we see that the\n",
    "offline training took 2 h and 12 min for 10,000 training iterations. The\n",
    "code execution time was measured by including the `%%time` magic command\n",
    "before the code block. We also note that the mean absolute error between\n",
    "the predicted and true energies for the generated sequences quickly\n",
    "became smaller during the earlier parts of the training but fluctuates\n",
    "more later on. As mentioned earlier, a model version is saved each time\n",
    "we get better performance. The best model version is then saved at the\n",
    "7,000th iteration, where the mean absolute error is at its lowest. The\n",
    "other quantities we observe are the average true energies of the\n",
    "generated sequences. It is then promising to see that throughout\n",
    "training, this is close to the ground state energy\n",
    "`grd_E=-1.1372633205048763 Ha`.\n"
   ]
  },
  {
   "cell_type": "markdown",
   "metadata": {
    "id": "Jzn_eDGFdvMY"
   },
   "source": [
    "## GPT-QE results\n",
    "\n",
    "\n",
    "Having finished the offline training, let\\'s take a look at some of our\n",
    "results.\n"
   ]
  },
  {
   "cell_type": "markdown",
   "metadata": {
    "id": "eMxt2YmsdvMY"
   },
   "source": [
    "## Training loss curve\n",
    "\n",
    "\n",
    "One of the first things we can look at is the training loss curve.\n",
    "Recall that for our case, the loss is the mean squared error between the\n",
    "cumulative sum of logits (predicted subsequence energies) and their\n",
    "corresponding true subsequence energies. So reducing this quantity\n",
    "allows the model to be better at giving correct energies and in turn,\n",
    "correctly sample sequences with lower energies. Since the raw loss\n",
    "values become very small, we instead plot the loss in log-scale below to\n",
    "magnify the loss trend.\n"
   ]
  },
  {
   "cell_type": "code",
   "execution_count": null,
   "metadata": {
    "id": "1SWLgAuydvMZ"
   },
   "outputs": [],
   "source": [
    "import holoviews as hv\n",
    "import hvplot.pandas\n",
    "import pandas as pd\n",
    "\n",
    "hvplot.extension('matplotlib')\n",
    "\n",
    "losses = pd.read_csv(\"./seq_len=4/trial7/losses.csv\")[\"0\"]\n",
    "loss_fig = losses.hvplot(\n",
    "    title=\"Training loss progress\", ylabel=\"loss\", xlabel=\"Training epochs\", logy=True\n",
    ").opts(fig_size=600, fontscale=2, aspect=1.2)\n",
    "loss_fig"
   ]
  },
  {
   "cell_type": "markdown",
   "metadata": {
    "id": "vzyHW3KRdvMZ"
   },
   "source": [
    "Figure 3: The subsequence loss for each training\n",
    "iteration\n"
   ]
  },
  {
   "cell_type": "markdown",
   "metadata": {
    "id": "Sy_6DE6KdvMZ"
   },
   "source": [
    "We see in Figure 3 that the loss continues to decrease until around the\n",
    "4,000th iteration. There, the model was erroraneous but is quick to\n",
    "recover as training continues. This may signal that the GPT model\n",
    "started focusing on learning something erroraneous too quickly. So, more\n",
    "regularization noise (like `dropout`) may be needed to help avoid this.\n"
   ]
  },
  {
   "cell_type": "markdown",
   "metadata": {
    "id": "mNt0IUmSdvMZ"
   },
   "source": [
    "## Evaluation progress\n",
    "\n",
    "\n",
    "We now track the performance of the GPT model throughout its training in\n",
    "Figure 4 below. As mentioned before, after every 500th iteration, we let\n",
    "the model generate a batch of sequences. Alongside, we also return the\n",
    "total logits (predicted energies) used in the sequence generation. In\n",
    "Figure 4, the average predicted energies correspond to the red markers\n",
    "and the distribution of predicted energies is represented by the red\n",
    "area. Once we have the generated sequences, we can also let PennyLane\n",
    "calculate the true sequence energies. Similarly then, the blue markers\n",
    "are the average true energies and the blue area represents the true\n",
    "energy distribution.\n"
   ]
  },
  {
   "cell_type": "code",
   "execution_count": null,
   "metadata": {
    "id": "wEZCujnidvMZ"
   },
   "outputs": [],
   "source": [
    "df_true = pd.read_csv(\"./seq_len=4/trial7/true_Es_t.csv\").iloc[:, 1:]\n",
    "df_pred = pd.read_csv(\"./seq_len=4/trial7/pred_Es_t.csv\").iloc[:, 1:]\n",
    "\n",
    "df_true.columns = df_true.columns.astype(int)\n",
    "df_pred.columns = df_pred.columns.astype(int)\n",
    "\n",
    "df_trues_stats = pd.concat([df_true.mean(axis=0), df_true.min(axis=0), df_true.max(axis=0)], axis=1).reset_index()\n",
    "df_trues_stats.columns = [\"Training Iterations\", \"Ave True E\", \"Min True E\", \"Max True E\"]\n",
    "\n",
    "df_preds_stats = pd.concat([df_pred.mean(axis=0), df_pred.min(axis=0), df_pred.max(axis=0)], axis=1).reset_index()\n",
    "df_preds_stats.columns = [\"Training Iterations\", \"Ave Pred E\", \"Min Pred E\", \"Max Pred E\"]\n",
    "\n",
    "fig = (\n",
    "    df_trues_stats.hvplot.scatter(x=\"Training Iterations\", y=\"Ave True E\", label=\"Mean True Energies\") *\n",
    "    df_trues_stats.hvplot.line(x=\"Training Iterations\", y=\"Ave True E\", alpha=0.5, linewidth=1) *\n",
    "    df_trues_stats.hvplot.area(x=\"Training Iterations\", y=\"Min True E\", y2=\"Max True E\", alpha=0.1)\n",
    ") * (\n",
    "    df_preds_stats.hvplot.scatter(x=\"Training Iterations\", y=\"Ave Pred E\", label=\"Mean Predicted Energies\") *\n",
    "    df_preds_stats.hvplot.line(x=\"Training Iterations\", y=\"Ave Pred E\", alpha=0.5, linewidth=1) *\n",
    "    df_preds_stats.hvplot.area(x=\"Training Iterations\", y=\"Min Pred E\", y2=\"Max Pred E\", alpha=0.1)\n",
    ")\n",
    "fig = fig * hv.Curve([[0, grd_E], [10000, grd_E]], label=\"Ground State Energy\").opts(color=\"k\", alpha=0.4, linestyle=\"dashed\")\n",
    "fig = fig.opts(ylabel=\"Sequence Energies\", title=\"GQE Evaluations\", fig_size=600, fontscale=2)\n",
    "fig"
   ]
  },
  {
   "cell_type": "markdown",
   "metadata": {
    "id": "XJP_uWqsdvMZ"
   },
   "source": [
    "Figure 4: True and predicted energies for sequences generated by the\n",
    "GPT model for each 500th training\n",
    "iteration\n"
   ]
  },
  {
   "cell_type": "markdown",
   "metadata": {
    "id": "wVUpfHiDdvMZ"
   },
   "source": [
    "We now see that the energies predicted by the model improve in accuracy,\n",
    "aligning more closely with the true energies during training. The\n",
    "increase in accuracy then allows the model to correctly sample states\n",
    "with lower energies. This is supported in Figure 4 where the sampled\n",
    "true energies get closer to the ground state energy (the dashed line).\n",
    "\n",
    "Note that at around the 4,000th iteration, the predicted energies are\n",
    "very far from the true energies. This makes sense considering our\n",
    "observation in Figure 3. Also note that at the 7,000th iteration, the\n",
    "averages of the predicted and true energies are the closest and even\n",
    "their respective spreads seem to have good overlap. This is when the\n",
    "best performing model version was saved, as seen in the training logs.\n",
    "For later iterations however, the predicted energies no longer improved.\n",
    "This may indicate that the GPT model has started overfitting on the\n",
    "training dataset in the later iterations. That is, the model became\n",
    "great at predicting the correct energies for the training set (as\n",
    "observed by the decreasing loss in Figure 3) but not great at\n",
    "generalizing on those outside the training set (like the sequences that\n",
    "the model generated on its own). One solution to avoid overfitting could\n",
    "then be online training. This is so that the GPT model is not restricted\n",
    "on a fixed dataset on which to overfit.\n"
   ]
  },
  {
   "cell_type": "markdown",
   "metadata": {
    "id": "hh7QdnZ2dvMZ"
   },
   "source": [
    "## Sequence generation comparison\n",
    "\n",
    "\n",
    "Here, we compare some statistics of the true energies corresponding to\n",
    "sequences generated by a \\\"random\\\" model, the latest version of the\n",
    "model after all the training iterations, and the best model version\n",
    "saved based on the mean absolute error between the true and predicted\n",
    "energies during training (for our case, this is the model saved at the\n",
    "7,000th iteration). Note that we consider the training set to be\n",
    "generated by a random model since the token sequences are just sampled\n",
    "uniformly.\n"
   ]
  },
  {
   "cell_type": "code",
   "execution_count": null,
   "metadata": {
    "id": "AVrPg7EjdvMZ"
   },
   "outputs": [],
   "source": [
    "# Latest model\n",
    "gen_token_seq_, _ = gpt.generate(\n",
    "    n_sequences=1024,\n",
    "    max_new_tokens=seq_len,\n",
    "    temperature=0.001,\n",
    "    device=\"cuda\"\n",
    ")\n",
    "gen_inds_ = (gen_token_seq_[:, 1:] - 1).cpu().numpy()\n",
    "gen_op_seq_ = op_pool[gen_inds_]\n",
    "true_Es_ = get_subsequence_energies(gen_op_seq_)[:, -1].reshape(-1, 1)\n",
    "\n",
    "# Best model\n",
    "loaded = torch.load(\"./seq_len=4/trial7/gqe.pt\")\n",
    "loaded_token_seq_, _ = loaded.generate(\n",
    "    n_sequences=1024,\n",
    "    max_new_tokens=seq_len,\n",
    "    temperature=0.001,\n",
    "    device=\"cuda\"\n",
    ")\n",
    "loaded_inds_ = (loaded_token_seq_[:, 1:] - 1).cpu().numpy()\n",
    "loaded_op_seq_ = op_pool[loaded_inds_]\n",
    "loaded_true_Es_ = get_subsequence_energies(loaded_op_seq_)[:, -1].reshape(-1, 1)\n",
    "\n",
    "# Summary table\n",
    "df_compare_Es = pd.DataFrame({\n",
    "    \"Source\": [\"Random\", \"Latest Model\", \"Best Model\"],\n",
    "    \"Aves\": [train_sub_seq_en[:, -1].mean(), true_Es_.mean(), loaded_true_Es_.mean()],\n",
    "    \"Mins\": [train_sub_seq_en[:, -1].min(), true_Es_.min(), loaded_true_Es_.min()],\n",
    "    \"Maxs\": [train_sub_seq_en[:, -1].max(), true_Es_.max(), loaded_true_Es_.max()],\n",
    "    \"Mins_error\": [\n",
    "        abs(train_sub_seq_en[:, -1].min() - grd_E),\n",
    "        abs(true_Es_.min() - grd_E),\n",
    "        abs(loaded_true_Es_.min() - grd_E),\n",
    "    ],\n",
    "})\n",
    "df_compare_Es"
   ]
  },
  {
   "cell_type": "markdown",
   "metadata": {
    "id": "8YUzRBkCdvMa"
   },
   "source": [
    "We observe that the minimum energy corresponding to the random training\n",
    "set is already close to the ground state energy\n",
    "`grd_E=-1.1372633205048763 Ha` with an error of around `2.81e-04 Ha`.\n",
    "But we notice that the maximum energy is relatively far so the random\n",
    "sequences give a wider spread of energies.\n",
    "\n",
    "The energies of the generated sequences from the latest and the best GPT\n",
    "model versions however have a narrower spread and so, the average and\n",
    "the minimum energies are very close to `grd_E`, closer than those in the\n",
    "random training set. Namely, around a `2.25e-04 Ha` error for the\n",
    "minimum energy generated by the latest model version and a `7.71e-07 Ha`\n",
    "error for the best model version. It is then very interesting that a\n",
    "well-trained GPT model can generate sequences that are better than those\n",
    "in the training set, even though every sequence the model has seen just\n",
    "came from that set. That is, the model was able to generalize.\n",
    "\n",
    "Between the two GPT model versions, we see that the latest version is\n",
    "worse than the best version. The minimum energy error for the latest\n",
    "version has the same order of magnitude as the corresponding one for the\n",
    "random training set. Contrast this with the minimum energy error for the\n",
    "best version, which is 3 orders of magnitude smaller. This behavior is\n",
    "supported by our observation in Figure 4 where the performance of the\n",
    "model after the 7,000th iteration worsened. That is, the predicted\n",
    "energies started to deviate further from the true energies which in turn\n",
    "caused the states being sampled from these predicted energies to be\n",
    "different from the intended lower energy states.\n"
   ]
  },
  {
   "cell_type": "markdown",
   "metadata": {
    "id": "KOIBTafAdvMa"
   },
   "source": [
    "# Conclusion\n",
    "\n",
    "\n",
    "In this demo, we see that GPT-QE is a viable alternative in estimating\n",
    "the ground-state energy of a hydrogen molecule. The best underlying GPT\n",
    "model version can generate a state whose energy is only around\n",
    "`7.71e-07 Ha` away from ground state energy, which is well below the\n",
    "chemical accuracy. Additionally, since the GPT model being optimized is\n",
    "completely detached from the quantum simulations, gradients across a\n",
    "potentially large quantum circuit don\\'t need to be computed, for\n",
    "example. Thus, the machinery of classical ML can be harnessed without\n",
    "worrying too much about the quantum algorithm side of the problem.\n",
    "\n",
    "The reader can also experiment with other molecules from PennyLane and\n",
    "tweak several hyperparameters of the GPT model (like `dropout`, and\n",
    "`n_layer`) and include standard ML callbacks to its training (like an\n",
    "early stopping mechanism and a learning rate schedule). The code itself\n",
    "is also open to further optimization. For instance, using [PennyLane\n",
    "Lightning](https://docs.pennylane.ai/projects/lightning/en/stable/index.html)\n",
    "to evaluate the energies faster. An online training loop can also be\n",
    "implemented similarly to our offline version, the reader would just need\n",
    "to sample sequences from the current GPT model instead of a fixed\n",
    "dataset for each training iteration. To facilitate exploration and\n",
    "exploitation, one would also define a schedule for the inverse\n",
    "temperature. That is, initially letting the GPT model sample more\n",
    "randomly through a high temperature, then gradually decreasing so that\n",
    "the GPT model focuses more on the higher probability states (low\n",
    "energies).\n"
   ]
  },
  {
   "cell_type": "markdown",
   "metadata": {
    "id": "BQZTStAndvMa"
   },
   "source": [
    "# References\n",
    "\n",
    "\n",
    "1. Kouhei Nakaji et al., “The generative quantum eigensolver (GQE) and its application for ground state search”. arXiv:2401.09253 (2024)\n",
    "2. Alec Radford et al., “Language Models are Unsupervised Multitask Learners”. OpenAI blog, 1(8):9 (2019)\n",
    "3. Ashish Vaswani et al., “Attention is All you Need”. Advances in Neural Information Processing Systems, 30 (2017)\n",
    "\n"
   ]
  }
 ],
 "metadata": {
  "colab": {
   "provenance": []
  },
  "kernelspec": {
   "display_name": "Python 3 (ipykernel)",
   "language": "python",
   "name": "python3"
  },
  "language_info": {
   "codemirror_mode": {
    "name": "ipython",
    "version": 3
   },
   "file_extension": ".py",
   "mimetype": "text/x-python",
   "name": "python",
   "nbconvert_exporter": "python",
   "pygments_lexer": "ipython3",
   "version": "3.12.7"
  }
 },
 "nbformat": 4,
 "nbformat_minor": 4
}
