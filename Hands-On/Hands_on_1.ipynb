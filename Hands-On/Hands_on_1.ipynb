{
 "cells": [
  {
   "cell_type": "markdown",
   "metadata": {
    "id": "F5cGWILqwJ_m"
   },
   "source": [
    "# Hands-on 1\n",
    "\n",
    "## Preliminary\n",
    "\n",
    "First of all, let's see if your qiskit installation is working. If not, please follow the instructions for installing qiskit in your own pc using _conda_, or run this book in the _IBM cloud_ directly."
   ]
  },
  {
   "cell_type": "code",
   "execution_count": null,
   "metadata": {
    "colab": {
     "base_uri": "https://localhost:8080/"
    },
    "id": "ZzicFC5Swok0",
    "outputId": "33fc29a4-a22e-46dc-f1ee-c05690fc0160"
   },
   "outputs": [],
   "source": [
    "!pip install qiskit\n",
    "!pip install qiskit-Aer\n",
    "!pip install matplotlib\n",
    "!pip install pylatexenc"
   ]
  },
  {
   "cell_type": "markdown",
   "metadata": {
    "id": "wqUuBciowJ_p"
   },
   "source": [
    "## Exploring Qubits with Qiskit\n",
    "\n",
    "Classical bits always have a completely well-defined state: they are either 0 or 1 at every point during a computation. There is no more detail we can add to the state of a bit than this. So to write down the state of a of classical bit `(c)`, we can just use these two binary values. For example:\n",
    "\n",
    "$$\n",
    "c = 0\n",
    "$$\n",
    "\n",
    "This restriction is lifted for quantum bits. Whether we get a $0$ or a $1$ from a qubit only needs to be well-defined when a measurement is made to extract an output. At that point, it must commit to one of these two options. At all other times, its state will be something more complex than can be captured by a simple binary value.\n",
    "\n",
    "To see how to describe these, we can first focus on the two simplest cases. It is possible to prepare a qubit in a state for which it definitely gives the outcome $0$ when measured.\n",
    "\n",
    "We need a name for this state. Let's be unimaginative and call it *0*. Similarly, there exists a qubit state that is certain to output a $1$. We'll call this *1*. These two states are completely mutually exclusive. Either the qubit definitely outputs a $0$, or it definitely outputs a $1$. There is no overlap. One way to represent this with mathematics is to use two orthogonal vectors.\n",
    "\n",
    "$$\n",
    "\\left|0\\right\\rangle= \\begin{pmatrix} 1 \\\\ 0 \\end{pmatrix} \\qquad \\left|1\\right\\rangle= \\begin{pmatrix} 0 \\\\ 1 \\end{pmatrix}\n",
    "$$\n",
    "\n",
    "With vectors we can describe more complex states than just $\\left|0\\right\\rangle$ and $\\left|1\\right\\rangle$. For example, consider the vector\n",
    "\n",
    "$$\n",
    "\\left|q_0\\right\\rangle= \\begin{pmatrix} \\frac{1}{\\sqrt{2}}  \\\\ \\frac{i}{\\sqrt{2}} \\end{pmatrix}\n",
    "$$\n",
    "\n",
    "Since the states $\\left|0\\right\\rangle$ and $\\left|1\\right\\rangle$ form an orthonormal basis, we can represent any 2D vector with a combination of these two states. This allows us to write the state of our qubit in the alternative form:\n",
    "\n",
    "$$\n",
    "\\left|q_0\\right\\rangle = \\frac{1}{\\sqrt{2}} \\left|0\\right\\rangle + \\frac{i}{\\sqrt{2}} \\left|1\\right\\rangle\n",
    "$$\n",
    "\n",
    "This vector, $\\left|q_0\\right\\rangle$ is called the qubit's _statevector_, it tells us everything we could possibly know about this qubit. For now, we are only able to draw a few simple conclusions about this particular example of a statevector: it is not entirely $\\left|0\\right\\rangle$ and not entirely $\\left|1\\right\\rangle$. Instead, it is described by a linear combination of the two. In quantum mechanics, we typically describe linear combinations such as this using the word 'superposition'.\n",
    "\n",
    "Though our example state $\\left|q_0\\right\\rangle$ can be expressed as a superposition of $\\left|0\\right\\rangle$ and $\\left|1\\right\\rangle$, it is no less a definite and well-defined qubit state than they are. To see this, we can begin to explore how a qubit can be manipulated"
   ]
  },
  {
   "cell_type": "markdown",
   "metadata": {
    "id": "iJQAaTVqwJ_q"
   },
   "source": [
    "First, we need to import all the tools we will need:"
   ]
  },
  {
   "cell_type": "code",
   "execution_count": null,
   "metadata": {
    "id": "k6HSzWGWwJ_r",
    "pycharm": {
     "name": "#%%\n"
    }
   },
   "outputs": [],
   "source": [
    "from qiskit import QuantumCircuit, assemble\n",
    "from qiskit_aer import Aer\n",
    "from qiskit.visualization import plot_histogram, plot_bloch_vector\n",
    "from math import sqrt, pi"
   ]
  },
  {
   "cell_type": "markdown",
   "metadata": {
    "id": "QDW19ktCwJ_s"
   },
   "source": [
    "In Qiskit, we use the `QuantumCircuit` object to store our circuits, this is essentially a list of the quantum operations on our circuit and the qubits they are applied to."
   ]
  },
  {
   "cell_type": "code",
   "execution_count": null,
   "metadata": {
    "id": "mS2fhrTDwJ_s",
    "pycharm": {
     "name": "#%%\n"
    }
   },
   "outputs": [],
   "source": [
    "qc = QuantumCircuit(1) # Create a quantum circuit with one qubit"
   ]
  },
  {
   "cell_type": "markdown",
   "metadata": {
    "id": "NA5oWaZYwJ_t"
   },
   "source": [
    "In our quantum circuits, our qubits always start out in the state $\\left|q_0\\right\\rangle$. We can use the `initialize()` method to transform this into any state. We give `initialize()` the vector we want in the form of a list, and tell it which qubit(s) we want to initialize in this state:"
   ]
  },
  {
   "cell_type": "code",
   "execution_count": null,
   "metadata": {
    "colab": {
     "base_uri": "https://localhost:8080/",
     "height": 147
    },
    "id": "RVqfzRMpwJ_u",
    "outputId": "c6a2abc7-3a2d-4df0-d665-90e4619eba19",
    "pycharm": {
     "name": "#%%\n"
    }
   },
   "outputs": [],
   "source": [
    "qc = QuantumCircuit(1)  # Create a quantum circuit with one qubit\n",
    "initial_state = [0,1]   # Define initial_state as |1>\n",
    "qc.initialize(initial_state, 0) # Apply initialisation operation to the 0th qubit\n",
    "qc.draw('mpl')  # Let's view our circuit"
   ]
  },
  {
   "cell_type": "markdown",
   "metadata": {
    "id": "rQorUhTvwJ_v"
   },
   "source": [
    "We can then use one of Qiskit’s simulators to view the resulting state of our qubit."
   ]
  },
  {
   "cell_type": "code",
   "execution_count": null,
   "metadata": {
    "id": "qkhlclsfwJ_w",
    "pycharm": {
     "name": "#%%\n"
    }
   },
   "outputs": [],
   "source": [
    "sim = Aer.get_backend('aer_simulator')  # Tell Qiskit how to simulate our circuit"
   ]
  },
  {
   "cell_type": "markdown",
   "metadata": {
    "id": "OOZ_XknJwJ_w"
   },
   "source": [
    "To get the results from our circuit, we use run to execute our circuit, giving the circuit and the backend as arguments. We then use `.result()` to get the result of this:"
   ]
  },
  {
   "cell_type": "code",
   "execution_count": null,
   "metadata": {
    "id": "9-yzG9ivwJ_w",
    "pycharm": {
     "name": "#%%\n"
    }
   },
   "outputs": [],
   "source": [
    "qc = QuantumCircuit(1)  # Create a quantum circuit with one qubit\n",
    "initial_state = [0,1]   # Define initial_state as |1>\n",
    "qc.initialize(initial_state, 0) # Apply initialisation operation to the 0th qubit\n",
    "qc.save_statevector()   # Tell simulator to save statevector\n",
    "result = sim.run(qc).result() # Do the simulation and return the result"
   ]
  },
  {
   "cell_type": "markdown",
   "metadata": {
    "id": "NyUsxRCvwJ_x"
   },
   "source": [
    "from result, we can then get the final statevector using `.get_statevector()`:"
   ]
  },
  {
   "cell_type": "code",
   "execution_count": null,
   "metadata": {
    "colab": {
     "base_uri": "https://localhost:8080/"
    },
    "id": "-7Lh6TcxwJ_x",
    "outputId": "9416bee8-418f-4573-85b0-ab1544f11ca0",
    "pycharm": {
     "name": "#%%\n"
    }
   },
   "outputs": [],
   "source": [
    "out_state = result.get_statevector()\n",
    "print(out_state) # Display the output state vector"
   ]
  },
  {
   "cell_type": "markdown",
   "metadata": {
    "id": "EKkzcdZEwJ_x"
   },
   "source": [
    "*Note:* Python uses $j$ to represent $i$ in complex numbers. We see a vector with two complex elements: $0.+0.j = 0$, and $1.+0.j = 1$.\n",
    "\n",
    "Let’s now measure our qubit as we would in a real quantum computer and see the result:"
   ]
  },
  {
   "cell_type": "code",
   "execution_count": null,
   "metadata": {
    "colab": {
     "base_uri": "https://localhost:8080/",
     "height": 211
    },
    "id": "V46erlKQwJ_x",
    "outputId": "9f51fab6-72b5-46d1-dc18-9e517515f50e",
    "pycharm": {
     "name": "#%%\n"
    }
   },
   "outputs": [],
   "source": [
    "qc.measure_all()\n",
    "qc.draw('mpl')"
   ]
  },
  {
   "cell_type": "markdown",
   "metadata": {
    "id": "9Ri8p0DzwJ_y"
   },
   "source": [
    "This time, instead of the statevector we will get the counts for the $0$ and $1$ results using `.get_counts()`:"
   ]
  },
  {
   "cell_type": "code",
   "execution_count": null,
   "metadata": {
    "colab": {
     "base_uri": "https://localhost:8080/",
     "height": 449
    },
    "id": "B0gRRaDhwJ_2",
    "outputId": "2da6a51a-6e22-4d9e-d9fb-12444c9178f8",
    "pycharm": {
     "name": "#%%\n"
    }
   },
   "outputs": [],
   "source": [
    "result = sim.run(qc).result()\n",
    "counts = result.get_counts()\n",
    "plot_histogram(counts)"
   ]
  },
  {
   "cell_type": "markdown",
   "metadata": {
    "id": "8NA93wpKwJ_2"
   },
   "source": [
    "We can see that we (unsurprisingly) have a 100% chance of measuring $\\left|1\\right\\rangle$. This time, let’s instead put our qubit into a superposition and see what happens. We will use the state $\\left|q_0\\right\\rangle$ from earlier :\n",
    "\n",
    "$$\n",
    "\\left|q_0\\right\\rangle = \\frac{1}{\\sqrt{2}} \\left|0\\right\\rangle + \\frac{i}{\\sqrt{2}} \\left|1\\right\\rangle\n",
    "$$\n",
    "\n",
    "We need to add these amplitudes to a python list. To add a complex amplitude, Python uses $j$ for the imaginary unit (we normally call it $i$ mathematically):"
   ]
  },
  {
   "cell_type": "code",
   "execution_count": null,
   "metadata": {
    "id": "KTOBQbiAwJ_2",
    "pycharm": {
     "name": "#%%\n"
    }
   },
   "outputs": [],
   "source": [
    "initial_state = [1/sqrt(2), 1j/sqrt(2)]  # Define state |q_0>"
   ]
  },
  {
   "cell_type": "markdown",
   "metadata": {
    "id": "fZC04jKuwJ_3"
   },
   "source": [
    "And we then repeat the steps for initialising the qubit as before:"
   ]
  },
  {
   "cell_type": "code",
   "execution_count": null,
   "metadata": {
    "colab": {
     "base_uri": "https://localhost:8080/"
    },
    "id": "UnoOGS-CwJ_3",
    "outputId": "423354a8-f5e1-48e4-e0c2-d94463c6639e",
    "pycharm": {
     "name": "#%%\n"
    }
   },
   "outputs": [],
   "source": [
    "qc = QuantumCircuit(1) # Must redefine qc\n",
    "qc.initialize(initial_state, 0) # Initialize the 0th qubit in the state `initial_state`\n",
    "qc.save_statevector() # Save statevector\n",
    "state = sim.run(qc).result().get_statevector() # Execute the circuit\n",
    "print(state)           # Print the result"
   ]
  },
  {
   "cell_type": "code",
   "execution_count": null,
   "metadata": {
    "colab": {
     "base_uri": "https://localhost:8080/",
     "height": 449
    },
    "id": "jWALcsMjwJ_3",
    "outputId": "278d8370-95cb-488b-8306-442ad16ff962",
    "pycharm": {
     "name": "#%%\n"
    }
   },
   "outputs": [],
   "source": [
    "results = sim.run(qc).result().get_counts()\n",
    "plot_histogram(results)"
   ]
  },
  {
   "cell_type": "markdown",
   "metadata": {
    "id": "BnXya037wJ_3"
   },
   "source": [
    "We can see we have equal probability of measuring either $\\left|0\\right\\rangle$ or $\\left|1\\right\\rangle$. To explain this, we need to talk about measurement."
   ]
  },
  {
   "cell_type": "markdown",
   "metadata": {
    "id": "zhGSwLklwJ_3"
   },
   "source": [
    "##  The Rules of Measurement\n",
    "\n",
    "Remember: To find the probability of measuring a state $\\left|\\psi\\right\\rangle$ in the state $\\left|x\\right\\rangle$ we do:\n",
    "\n",
    "$$\n",
    "p\\left(\\left|x\\right\\rangle\\right)=\\left|\\left\\langle x\\middle|\\psi\\right\\rangle\\right|^2\n",
    "$$\n",
    "\n",
    "In the equation above, $\\left|x\\right\\rangle$ can be any qubit state. To find the probability of measuring $\\left|x\\right\\rangle$, we take the inner product of $\\left|x\\right\\rangle$ and the state we are measuring (in this case $\\left|\\psi\\right\\rangle$), then square the magnitude. This may seem a little convoluted, but it will soon become second nature.\n",
    "\n",
    "If we look at the state $\\left|q_0\\right\\rangle$ from before, we can see the probability of measuring $\\left|0\\right\\rangle$ is indeed $0.5$ :\n",
    "\n",
    "$$\n",
    "\\begin{aligned}\n",
    "\\left|q_0\\right\\rangle &= \\frac{1}{\\sqrt{2}} \\left|0\\right\\rangle + \\frac{i}{\\sqrt{2}} \\left|1\\right\\rangle \\\\\n",
    "\\left\\langle 0 \\middle|q_0\\right\\rangle &= \\frac{1}{\\sqrt{2}} \\left\\langle 0 \\middle|0\\right\\rangle + \\frac{i}{\\sqrt{2}} \\left\\langle 0 \\middle|1\\right\\rangle \\\\\n",
    ".&=\\frac{1}{\\sqrt{2}}\\\\\n",
    "\\left|\\left\\langle 0 \\middle|q_0\\right\\rangle\\right|^2 &=\\frac{1}{2}\n",
    "\\end{aligned}\n",
    "$$\n",
    "\n",
    "This rule governs how we get information out of quantum states. It is therefore very important for everything we do in quantum computation. It also immediately implies several important facts"
   ]
  },
  {
   "cell_type": "markdown",
   "metadata": {
    "id": "4QvI04JjwJ_4"
   },
   "source": [
    "#### Normalisation\n",
    "\n",
    "The rule shows us that amplitudes are related to probabilities. If we want the probabilities to add up to 1 (which they should!), we need to ensure that the statevector is properly normalized. Specifically, we need the magnitude of the state vector to be 1.\n",
    "\n",
    "$$\n",
    "\\left\\langle \\psi \\middle|\\psi\\right\\rangle=1\n",
    "$$\n",
    "\n",
    "Thus if:\n",
    "\n",
    "$$\n",
    "\\left|\\psi\\right\\rangle = \\alpha \\left|0\\right\\rangle + \\beta \\left|1\\right\\rangle\n",
    "$$\n",
    "\n",
    "Then:\n",
    "\n",
    "$$\n",
    "\\left|\\alpha\\right|^2+\\left|\\beta\\right|^2=1\n",
    "$$\n",
    "\n",
    "This explains the factors of $\\sqrt{2}$ you have seen throughout this hands-on. In fact, if we try to give `initialize()` a vector that isn’t normalised, it will give us an error:"
   ]
  },
  {
   "cell_type": "code",
   "execution_count": null,
   "metadata": {
    "colab": {
     "base_uri": "https://localhost:8080/",
     "height": 342
    },
    "id": "kZq_Lyk_wJ_4",
    "outputId": "da62b41c-7890-4a97-9dec-bee37f7fc8b9",
    "pycharm": {
     "name": "#%%\n"
    }
   },
   "outputs": [],
   "source": [
    "vector = [1,1]\n",
    "qc.initialize(vector, 0)"
   ]
  },
  {
   "cell_type": "markdown",
   "metadata": {
    "id": "JYDKvSq-wJ_5"
   },
   "source": [
    "#### In class exercise\n",
    "1. Create a state vector that will give a 1/3 probability of measuring $\\left|0\\right\\rangle$.\n",
    "2. Create a different state vector that will give the same measurement probabilities.\n",
    "3. Verify that the probability of measuring \\left|1\\right\\rangle for these two states is 2/3."
   ]
  },
  {
   "cell_type": "code",
   "execution_count": null,
   "metadata": {
    "id": "6sVZOc6pwJ_5",
    "pycharm": {
     "name": "#%%\n"
    }
   },
   "outputs": [],
   "source": [
    "##Fill me"
   ]
  },
  {
   "cell_type": "markdown",
   "metadata": {
    "id": "nleFO1WIwJ_5"
   },
   "source": [
    "#### Alternative measurement\n",
    "The measurement rule gives us the probability $p\\left(\\left|x\\right\\rangle\\right)$ that a state $\\left|\\psi\\right\\rangle$ is measured as $\\left|x\\right\\rangle$. Nowhere does it tell us that $\\left|x\\right\\rangle$ can only be either $\\left|0\\right\\rangle$ or $\\left|1\\right\\rangle$.\n",
    "\n",
    "The measurements we have considered so far are in fact only one of an infinite number of possible ways to measure a qubit. For any orthogonal pair of states, we can define a measurement that would cause a qubit to choose between the two.\n",
    "\n",
    "This possibility will be explored more in the next section. For now, just bear in mind that $\\left|x\\right\\rangle$ is not limited to being simply $\\left|0\\right\\rangle$ or $\\left|1\\right\\rangle$."
   ]
  },
  {
   "cell_type": "markdown",
   "metadata": {
    "id": "bz1XcYZbwJ_5"
   },
   "source": [
    "#### Global Phase\n",
    "We know that measuring the state $\\left|1\\right\\rangle$  will give us the output $1$ with certainty. But we are also able to write down states such as\n",
    "\n",
    "$$\n",
    "\\begin{pmatrix} 0 \\\\ i \\end{pmatrix}=i\\left|1\\right\\rangle.\n",
    "$$\n",
    "\n",
    "To see how this behaves, we apply the measurement rule.\n",
    "\n",
    "$$\n",
    "\\left|\\left\\langle x \\right| \\left(i \\left|1\\right\\rangle\\right)\\right|^2=\\left|i\\left\\langle x\\middle|1\\right\\rangle\\right|^2=\\left|\\left\\langle x\\middle|1\\right\\rangle\\right|^2\n",
    "$$\n",
    "\n",
    "Here we find that the factor of $i$ disappears once we take the magnitude of the complex number. This effect is completely independent of the measured state $\\left|x\\right\\rangle$. It does not matter what measurement we are considering, the probabilities for the state $i\\left|1\\right\\rangle$ are identical to those for $\\left|1\\right\\rangle$. Since measurements are the only way we can extract any information from a qubit, this implies that these two states are equivalent in all ways that are physically relevant.\n",
    "\n",
    "More generally, we refer to any overall factor $\\gamma$ on a state for which $\\left|\\gamma\\right|=1$ as a 'global phase'. States that differ only by a global phase are physically indistinguishable.\n",
    "\n",
    "$$\n",
    "\\left|\\left\\langle x \\right| \\left(\\gamma \\left|\\alpha\\right\\rangle\\right)\\right|^2=\\left|\\gamma\\left\\langle x\\middle|\\alpha\\right\\rangle\\right|^2=\\left|\\left\\langle x\\middle|\\alpha\\right\\rangle\\right|^2\n",
    "$$\n",
    "\n",
    "Note that this is distinct from the phase difference between terms in a superposition, which is known as the 'relative phase'. This becomes relevant once we consider different types of measurement and multiple qubits.\n",
    "\n"
   ]
  },
  {
   "cell_type": "markdown",
   "metadata": {
    "id": "8I0oWDv6wJ_5"
   },
   "source": [
    "##### The Observer Effect\n",
    "\n",
    "We know that the amplitudes contain information about the probability of us finding the qubit in a specific state, but once we have measured the qubit, we know with certainty what the state of the qubit is. For example, if we measure a qubit in the state:\n",
    "\n",
    "$$\n",
    "\\left|q\\right\\rangle = \\alpha \\left|0\\right\\rangle + \\beta \\left|1\\right\\rangle\n",
    "$$\n",
    "\n",
    "And find it in the state $\\left|0\\right\\rangle$, if we measure again, there is a 100% chance of finding the qubit in the state $\\left|0\\right\\rangle$. This means the act of measuring changes the state of our qubits.\n",
    "\n",
    "$$\n",
    "\\left|q\\right\\rangle=\\begin{pmatrix} \\alpha \\\\ \\beta \\end{pmatrix} \\xrightarrow{\\text{Measure } \\left|0\\right\\rangle} \\left|q\\right\\rangle=\\left|0\\right\\rangle=\\begin{pmatrix} 1 \\\\ 0 \\end{pmatrix}\n",
    "$$\n",
    "\n",
    "We sometimes refer to this as collapsing the state of the qubit. It is a potent effect, and so one that must be used wisely. For example, were we to constantly measure each of our qubits to keep track of their value at each point in a computation, they would always simply be in a well-defined state of either $\\left|0\\right\\rangle$ or $\\left|1\\right\\rangle$. As such, they would be no different from classical bits and our computation could be easily replaced by a classical computation. To achieve truly quantum computation we must allow the qubits to explore more complex states. Measurements are therefore only used when we need to extract an output. This means that we often place all the measurements at the end of our quantum circuit.\n",
    "\n",
    "We can demonstrate this using Qiskit’s statevector simulator. Let's initialize a qubit in superposition:"
   ]
  },
  {
   "cell_type": "code",
   "execution_count": null,
   "metadata": {
    "colab": {
     "base_uri": "https://localhost:8080/",
     "height": 147
    },
    "id": "aYIKstvswJ_6",
    "outputId": "f66f18b1-1e9e-4c12-8cca-f27891985c06",
    "pycharm": {
     "name": "#%%\n"
    }
   },
   "outputs": [],
   "source": [
    "qc2 = QuantumCircuit(1) # We are redefining qc\n",
    "initial_state = [0.+1.j/sqrt(2),1/sqrt(2)+0.j]\n",
    "qc2.initialize(initial_state, 0)\n",
    "qc2.draw('mpl')"
   ]
  },
  {
   "cell_type": "markdown",
   "metadata": {
    "id": "1eswTzWMwJ_6"
   },
   "source": [
    "This should initialize our qubit in the state:\n",
    "\n",
    "$$\n",
    "\\left|q_0\\right\\rangle = \\frac{i}{\\sqrt{2}} \\left|0\\right\\rangle + \\frac{1}{\\sqrt{2}} \\left|1\\right\\rangle\n",
    "$$\n",
    "\n",
    "We can verify this using the simulator:"
   ]
  },
  {
   "cell_type": "code",
   "execution_count": null,
   "metadata": {
    "colab": {
     "base_uri": "https://localhost:8080/"
    },
    "id": "wVR1tkFXwJ_6",
    "outputId": "63c36d4a-3c7f-42fe-fe78-f73f1a96ea0f",
    "pycharm": {
     "name": "#%%\n"
    }
   },
   "outputs": [],
   "source": [
    "qc2.save_statevector()\n",
    "state = sim.run(qc2).result().get_statevector()\n",
    "print(\"Qubit State = \" + str(state))"
   ]
  },
  {
   "cell_type": "markdown",
   "metadata": {
    "id": "q9ayh-7ZwJ_6"
   },
   "source": [
    "We can see here the qubit is initialized in the state [0.+0.70710678j 0.70710678+0.j], which is the state we expected.\n",
    "\n",
    "Let’s now create a circuit where we measure this qubit"
   ]
  },
  {
   "cell_type": "code",
   "execution_count": null,
   "metadata": {
    "colab": {
     "base_uri": "https://localhost:8080/",
     "height": 211
    },
    "id": "gIDVkOq0wJ_6",
    "outputId": "7d53a0e7-a818-43a8-980c-761a43895969",
    "pycharm": {
     "name": "#%%\n"
    }
   },
   "outputs": [],
   "source": [
    "qc3 = QuantumCircuit(1) # We are redefining qc\n",
    "initial_state = [0.+1.j/sqrt(2),1/sqrt(2)+0.j]\n",
    "qc3.initialize(initial_state, 0)\n",
    "qc3.measure_all()\n",
    "qc3.save_statevector()\n",
    "qc3.draw('mpl')"
   ]
  },
  {
   "cell_type": "markdown",
   "metadata": {
    "id": "LliWa2fBwJ_7"
   },
   "source": [
    "When we simulate this entire circuit, we can see that one of the amplitudes is always $0$:"
   ]
  },
  {
   "cell_type": "code",
   "execution_count": null,
   "metadata": {
    "colab": {
     "base_uri": "https://localhost:8080/"
    },
    "id": "ILywBQNDwJ_7",
    "outputId": "f67f4268-2764-4f8c-f968-f35f0fde7521",
    "pycharm": {
     "name": "#%%\n"
    }
   },
   "outputs": [],
   "source": [
    "state = sim.run(qc3).result().get_statevector()\n",
    "print(\"State of Measured Qubit = \" + str(state))"
   ]
  },
  {
   "cell_type": "markdown",
   "metadata": {
    "id": "glpFUk08wJ_7"
   },
   "source": [
    "You can re-run this cell a few times to reinitialize the qubit and measure it again. You will notice that either outcome is equally probable, but that the state of the qubit is never a superposition of $\\left|0\\right\\rangle$ and $\\left|1\\right\\rangle$. Somewhat interestingly, the global phase on the state $\\left|0\\right\\rangle$ survives, but since this is global phase, we can never measure it on a real quantum computer."
   ]
  },
  {
   "cell_type": "markdown",
   "metadata": {
    "id": "W6eqgiPBwJ_7"
   },
   "source": [
    "#### A Note about Quantum Simulators\n",
    "\n",
    "We can see that writing down a qubit’s state requires keeping track of two complex numbers, but when using a real quantum computer we will only ever receive a yes-or-no (0 or 1) answer for each qubit. The output of a 10-qubit quantum computer will look like this:\n",
    "\n",
    "$$\n",
    "0110111110\n",
    "$$\n",
    "\n",
    "Just 10 bits, no superposition or complex amplitudes. When using a real quantum computer, we cannot see the states of our qubits mid-computation, as this would destroy them! This behaviour is not ideal for learning, so Qiskit provides different quantum simulators: By default, the `aer_simulator` mimics the execution of a real quantum computer, but will also allow you to peek at quantum states before measurement if we include certain instructions in our circuit. For example, here we have included the instruction `.save_statevector()`, which means we can use `.get_statevector()` on the result of the simulation."
   ]
  },
  {
   "cell_type": "markdown",
   "metadata": {
    "id": "iOiiubffwJ_7"
   },
   "source": [
    "## The Bloch Sphere\n",
    "\n",
    "We saw earlier in this chapter that the general state of a qubit $\\left|q\\right\\rangle$ is:\n",
    "\n",
    "$$\n",
    "\\left|q\\right\\rangle = \\alpha \\left|0\\right\\rangle + \\beta \\left|1\\right\\rangle \\\\\n",
    "\\alpha,\\beta \\in \\mathbb C\n",
    "$$\n",
    "\n",
    "(The second line tells us $\\alpha$ and $\\beta$ are complex numbers). We know that we cannot differentiate between some of these states. This means we can be more specific in our description of the qubit.\n",
    "\n",
    "Firstly, since we cannot measure global phase, we can only measure the difference in phase between the states $\\left|0\\right\\rangle$ and $\\left|1\\right\\rangle$. Instead of having $\\alpha$ and $\\beta$ be complex, we can confine them to the real numbers and add a term to tell us the relative phase between them:\n",
    "\n",
    "$$\n",
    "\\left|q\\right\\rangle = \\alpha \\left|0\\right\\rangle + e^{i\\phi}\\beta \\left|1\\right\\rangle \\\\\n",
    "\\alpha,\\beta,\\phi \\in \\mathbb R\n",
    "$$\n",
    "\n",
    "Finally, since the qubit state must be normalised, i.e.\n",
    "\n",
    "$$\n",
    "\\sqrt{\\alpha^2+\\beta^2}=1\n",
    "$$\n",
    "\n",
    "we can use the trigonometric identity:\n",
    "\n",
    "$$\n",
    "\\sqrt{\\sin^2 x+\\cos^2 x}=1\n",
    "$$\n",
    "\n",
    "to describe the real $\\alpha$ and $\\beta$ in terms of one variable, $\\theta$ :\n",
    "\n",
    "$$\n",
    "\\alpha=\\cos\\frac{\\theta}{2}\\qquad \\beta=\\sin\\frac{\\theta}{2}\n",
    "$$\n",
    "\n",
    "From this we can describe the state of any qubit using the two variables $\\phi$ and $\\theta$ :\n",
    "\n",
    "$$\n",
    "\\left|q\\right\\rangle = \\cos\\frac{\\theta}{2} \\left|0\\right\\rangle + e^{i\\phi}\\sin\\frac{\\theta}{2} \\left|1\\right\\rangle \\\\\n",
    "\\theta,\\phi \\in \\mathbb R\n",
    "$$\n",
    "\n",
    "If we interpret $\\phi$ and $\\theta$ as spherical co-ordinates ($r=1$, since the magnitude of the qubit state is 1), we can plot any single qubit state on the surface of a sphere, known as the _Bloch sphere_.\n",
    "\n",
    "Below we have plotted a qubit in the state $\\left|+\\right\\rangle$. In this case, $\\theta=\\pi/2$ and $\\phi=0$."
   ]
  },
  {
   "cell_type": "code",
   "execution_count": null,
   "metadata": {
    "colab": {
     "base_uri": "https://localhost:8080/",
     "height": 573
    },
    "id": "9k9oFFyvwJ_7",
    "outputId": "940aee9d-9fdf-4d00-9f7d-7eed52b43806",
    "pycharm": {
     "name": "#%%\n"
    }
   },
   "outputs": [],
   "source": [
    "plot_bloch_vector(bloch=[1,pi/2,0],title='example',coord_type='spherical')"
   ]
  },
  {
   "cell_type": "markdown",
   "metadata": {
    "id": "83w0NZJBwJ_8"
   },
   "source": [
    "## In Class Exercise\n",
    "\n",
    "Use `plot_bloch_vector()` to plot a qubit in the states:\n",
    "\n",
    "1. $\\left|0\\right\\rangle$\n",
    "2. $\\left|1\\right\\rangle$\n",
    "3. $\\frac{1}{\\sqrt 2}\\left(\\left|0\\right\\rangle+\\left|1\\right\\rangle\\right)$\n",
    "4. $\\frac{1}{\\sqrt 2}\\left(\\left|0\\right\\rangle-i\\left|1\\right\\rangle\\right)$\n",
    "5. $\\frac{1}{\\sqrt 2} \\begin{pmatrix} i \\\\ 1 \\end{pmatrix} $"
   ]
  },
  {
   "cell_type": "code",
   "execution_count": null,
   "metadata": {
    "id": "hjiRs_t0wJ_8",
    "pycharm": {
     "name": "#%%\n"
    }
   },
   "outputs": [],
   "source": [
    "### Fill me"
   ]
  },
  {
   "cell_type": "markdown",
   "metadata": {
    "id": "Ofb4xeuGwJ_8"
   },
   "source": [
    "## Your first multi-qubit quantum circuit\n",
    "\n",
    "In a circuit, we typically need to do three jobs: First, encode the input, then do some actual computation, and finally extract an output. For your first quantum circuit, we'll focus on the last of these jobs. We start by creating a quantum circuit with 3 qubits and 3 outputs. Finally the method qc.draw() creates a drawing of the circuit for us. Jupyter Notebooks evaluate the last line of a code cell and display it below the cell. Since `qc.draw()` returns a drawing, that’s what we’re seeing under the code. There are no gates in our circuit yet, so we just see some horizontal lines.  (_Return_ is another word for 'output'. In Python, we can use returned data as input to another function or process.)"
   ]
  },
  {
   "cell_type": "code",
   "execution_count": null,
   "metadata": {
    "colab": {
     "base_uri": "https://localhost:8080/",
     "height": 340
    },
    "id": "BIu7B6CrwJ_8",
    "outputId": "ed9fda14-95a9-485f-beda-68b30d388fe9"
   },
   "outputs": [],
   "source": [
    "from qiskit import QuantumCircuit\n",
    "# Create quantum circuit with 3 qubits and 3 classical bits\n",
    "# (we'll explain why we need the classical bits later)\n",
    "qc = QuantumCircuit(3, 3)\n",
    "qc.draw(output='mpl')  # returns a drawing of the circuit"
   ]
  },
  {
   "cell_type": "markdown",
   "metadata": {
    "id": "Lk5pWAe9wJ_8"
   },
   "source": [
    "#### What's a method?\n",
    "The `QuantumCircuit` class is a set of instructions for representing quantum circuits as bits, but when we want to change one of these circuits, we also need to know how to change the bits accordingly. In Python, objects come with ‘methods’, which are sets of instructions for doing something with that object. In the cell above, the `.draw()` method looks at the circuit we’ve created and produces a human-readable drawing of that circuit."
   ]
  },
  {
   "cell_type": "markdown",
   "metadata": {
    "id": "olfl9DfRwJ_8"
   },
   "source": [
    "Next, we need a way to tell our quantum computer to measure our qubits and record the results. To do this, we add a \"measure\" operation to our quantum circuit. We can do this with the `QuantumCircuit`'s `.measure()` method."
   ]
  },
  {
   "cell_type": "code",
   "execution_count": null,
   "metadata": {
    "colab": {
     "base_uri": "https://localhost:8080/",
     "height": 340
    },
    "id": "NKY2TYXCwJ_9",
    "outputId": "c770e101-0f5b-4680-fbaa-27c6126fc48d",
    "pycharm": {
     "name": "#%%\n"
    }
   },
   "outputs": [],
   "source": [
    "# measure qubits 0, 1 & 2 to classical bits 0, 1 & 2 respectively\n",
    "qc.measure([0,1,2], [0,1,2])\n",
    "qc.draw(output='mpl')"
   ]
  },
  {
   "cell_type": "markdown",
   "metadata": {
    "id": "si-DP5p9wJ_9"
   },
   "source": [
    "Next, let's see what the results of running this circuit would be. To do this, we'll use a quantum simulator, which is a standard computer calculating what an ideal quantum computer would do. Because simulating a quantum computer is believed to be difficult for classical computers (the best algorithms we have grow exponentially with the number of qubits), these simulations are only possible for circuits with small numbers of qubits (up to ~30 qubits), or certain types of circuits for which we can use some tricks to speed up the simulation. Simulators are very useful tools for designing smaller quantum circuits.\n",
    "\n",
    "Let's import Qiskit’s simulator (called Aer), and make a new simulator object."
   ]
  },
  {
   "cell_type": "code",
   "execution_count": null,
   "metadata": {
    "id": "xqaDpDuDwJ_9",
    "pycharm": {
     "name": "#%%\n"
    }
   },
   "outputs": [],
   "source": [
    "from qiskit_aer import Aer\n",
    "sim = Aer.get_backend('aer_simulator')  # Tell Qiskit how to simulate our circuit"
   ]
  },
  {
   "cell_type": "markdown",
   "metadata": {
    "id": "hnV5GTbUwJ_9"
   },
   "source": [
    "To do the simulation, we can use the simulators `.run()` method. This returns a \"job\", which contains information about the experiment, such as whether the experiment is running or completed, what backend we ran the experiment on, and importantly for us, what the results of the experiment are!\n",
    "\n",
    "To get the results from the job, we use the results method, and the most popular way to view the results is as a dictionary of \"counts\"."
   ]
  },
  {
   "cell_type": "code",
   "execution_count": null,
   "metadata": {
    "colab": {
     "base_uri": "https://localhost:8080/"
    },
    "id": "zhyTZz0mwJ_9",
    "outputId": "62a18136-3639-4655-9f70-6b01a4c62e09",
    "pycharm": {
     "name": "#%%\n"
    }
   },
   "outputs": [],
   "source": [
    "job = sim.run(qc)      # run the experiment\n",
    "result = job.result()  # get the results\n",
    "counts = result.get_counts()    # interpret the results as a \"counts\" dictionary\n",
    "print(counts)"
   ]
  },
  {
   "cell_type": "markdown",
   "metadata": {
    "id": "ALLAPxKAwJ_9"
   },
   "source": [
    "The keys in counts dictionary are bit-strings, and the values are the number of times that bit-string was measured. Quantum computers can have randomness in their results, so it's common to repeat the circuit a few times. This circuit was repeated 1024 times, which is the default number of times to repeat a circuit in Qiskit. By convention, qubits always start in the state 0, and since we are doing nothing to them before measurement, the results are always `0`. This is not always the case. In actual situations, you will need a statistical method to analyse the output. Qiskit also provides a function `plot_histogram`, which allows you to view the outcomes."
   ]
  },
  {
   "cell_type": "code",
   "execution_count": null,
   "metadata": {
    "colab": {
     "base_uri": "https://localhost:8080/",
     "height": 465
    },
    "id": "9GZYSyzawJ_-",
    "outputId": "34099a35-8f14-42d4-8e1b-012ab5453a0c",
    "pycharm": {
     "name": "#%%\n"
    }
   },
   "outputs": [],
   "source": [
    "from qiskit.visualization import plot_histogram\n",
    "plot_histogram(counts)\n"
   ]
  },
  {
   "cell_type": "markdown",
   "metadata": {
    "id": "BuzrUUj5wJ_-",
    "pycharm": {
     "name": "#%% md\n"
    }
   },
   "source": [
    "### Basics of encoding an input\n",
    "\n",
    "Now let's look at how to encode a different binary string as an input. For this, we need what is known as a NOT gate. This is the most basic operation that you can do in a computer. It simply flips the bit value: 0 becomes 1 and 1 becomes 0. For qubits, we use a gate known as the _X-gate_ for this.\n",
    "\n",
    "Below, we’ll create a new circuit dedicated to the job of encoding:"
   ]
  },
  {
   "cell_type": "code",
   "execution_count": null,
   "metadata": {
    "colab": {
     "base_uri": "https://localhost:8080/",
     "height": 340
    },
    "id": "eMFa9zvKwJ_-",
    "outputId": "6fd593b1-052a-4eb4-ee08-3a33a753c343",
    "pycharm": {
     "name": "#%%\n"
    }
   },
   "outputs": [],
   "source": [
    "# Create quantum circuit with 3 qubits and 3 classical bits:\n",
    "qc = QuantumCircuit(3, 3)\n",
    "qc.x([0,1])  # Perform X-gates on qubits 0 & 1\n",
    "qc.measure([0,1,2], [0,1,2])\n",
    "qc.draw('mpl')    # returns a drawing of the circuit"
   ]
  },
  {
   "cell_type": "markdown",
   "metadata": {
    "id": "v2vSfefCwJ_-"
   },
   "source": [
    "And let's simulate our circuit to see the results:"
   ]
  },
  {
   "cell_type": "code",
   "execution_count": null,
   "metadata": {
    "colab": {
     "base_uri": "https://localhost:8080/"
    },
    "id": "wLSqvZWJwJ_-",
    "outputId": "33adab06-9e98-4437-9248-52bf3164b9a8",
    "pycharm": {
     "name": "#%%\n"
    }
   },
   "outputs": [],
   "source": [
    "job = sim.run(qc)      # run the experiment\n",
    "result = job.result()  # get the results\n",
    "counts=result.get_counts()    # interpret the results as a \"counts\" dictionary\n",
    "print(counts)"
   ]
  },
  {
   "cell_type": "code",
   "execution_count": null,
   "metadata": {
    "colab": {
     "base_uri": "https://localhost:8080/",
     "height": 466
    },
    "id": "j5tanRHCwJ_-",
    "outputId": "310320f1-fd7d-410b-e9ab-23674599ee6a",
    "pycharm": {
     "name": "#%%\n"
    }
   },
   "outputs": [],
   "source": [
    "plot_histogram(counts)"
   ]
  }
 ],
 "metadata": {
  "colab": {
   "provenance": []
  },
  "kernelspec": {
   "display_name": "Python 3 (ipykernel)",
   "language": "python",
   "name": "python3"
  },
  "language_info": {
   "codemirror_mode": {
    "name": "ipython",
    "version": 3
   },
   "file_extension": ".py",
   "mimetype": "text/x-python",
   "name": "python",
   "nbconvert_exporter": "python",
   "pygments_lexer": "ipython3",
   "version": "3.8.18"
  }
 },
 "nbformat": 4,
 "nbformat_minor": 1
}
